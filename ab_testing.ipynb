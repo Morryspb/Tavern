{
 "cells": [
  {
   "cell_type": "markdown",
   "metadata": {},
   "source": [
    "<h1>Проектная работа по проверке гипотез и A/B-тестированию</h1>\n",
    "В условиях современного рынка интернет-магазины сталкиваются с растущей конкуренцией и необходимостью постоянно совершенствовать свои бизнес-процессы для увеличения выручки. В рамках этого проекта мы рассмотрим 9 гипотез, которые были предложены отделом маркетинга для увеличения выручки интернет-магазина6 запустим a/b тест и поанализируем результаты"
   ]
  },
  {
   "cell_type": "markdown",
   "metadata": {},
   "source": [
    "<h2>Часть 1</h2>\n",
    "Цель проекта — приоритизировать гипотезы с использованием фреймворков ICE и RICE, а затем провести A/B-тестирование для определения наиболее перспективных направлений развития.\n",
    "\n",
    "Задачи проекта:\n",
    "\n",
    "1. Применить фреймворк ICE для приоритизации гипотез и отсортировать их по убыванию приоритета.\n",
    "\n",
    "2. Применить фреймворк RICE для приоритизации гипотез и отсортировать их по убыванию приоритета.\n",
    "\n",
    "3. Сравнить результаты приоритизации с использованием двух фреймворков и определить, как изменилась приоритизация гипотез при применении RICE вместо ICE.\n",
    "\n",
    "4. Объяснить причины изменения приоритизации и предложить рекомендации для дальнейшего развития интернет-магазина на основе полученных результатов.\n",
    "\n",
    "В ходе проекта мы проведём анализ гипотез, определим их приоритетность и разработаем стратегию тестирования для подтверждения или опровержения гипотез. Результаты проекта помогут руководству интернет-магазина принять обоснованные решения о дальнейших шагах по увеличению выручки и повышению конкурентоспособности."
   ]
  },
  {
   "cell_type": "code",
   "execution_count": 2,
   "metadata": {
    "ExecuteTime": {
     "end_time": "2024-03-26T07:28:15.514434Z",
     "start_time": "2024-03-26T07:28:14.389798Z"
    }
   },
   "outputs": [],
   "source": [
    "import pandas as pd"
   ]
  },
  {
   "cell_type": "code",
   "execution_count": 4,
   "metadata": {
    "ExecuteTime": {
     "end_time": "2024-03-26T07:31:54.506588Z",
     "start_time": "2024-03-26T07:31:54.484339Z"
    }
   },
   "outputs": [
    {
     "name": "stdout",
     "output_type": "stream",
     "text": [
      "                                          Hypothesis  Reach  Impact  \\\n",
      "0  Добавить два новых канала привлечения трафика,...      3      10   \n",
      "1  Запустить собственную службу доставки, что сок...      2       5   \n",
      "2  Добавить блоки рекомендаций товаров на сайт ин...      8       3   \n",
      "3  Изменить структура категорий, что увеличит кон...      8       3   \n",
      "4  Изменить цвет фона главной страницы, чтобы уве...      3       1   \n",
      "5  Добавить страницу отзывов клиентов о магазине,...      3       2   \n",
      "6  Показать на главной странице баннеры с актуаль...      5       3   \n",
      "7  Добавить форму подписки на все основные страни...     10       7   \n",
      "8  Запустить акцию, дающую скидку на товар в день...      1       9   \n",
      "\n",
      "   Confidence  Efforts  \n",
      "0           8        6  \n",
      "1           4       10  \n",
      "2           7        3  \n",
      "3           3        8  \n",
      "4           1        1  \n",
      "5           2        3  \n",
      "6           8        3  \n",
      "7           8        5  \n",
      "8           9        5  \n"
     ]
    }
   ],
   "source": [
    "data = pd.read_csv('hypothesis_project.csv', sep=',')#\n",
    "\n",
    "print(data)"
   ]
  },
  {
   "cell_type": "markdown",
   "metadata": {},
   "source": [
    "В наличии таблица с типичной для списка гипотез структурой данных, с баллами в колонках Reach, Impact, Confidence,  Efforts, 9 гипотез, все значения проставлены, одинаковые целые числа в каждой ячейке (без строк и значений типа \"потом допишу\") спасибо проджекту, который этим занималcя. "
   ]
  },
  {
   "cell_type": "markdown",
   "metadata": {},
   "source": [
    "Считаем ICE по стандартной формуле (IMPACT*CONFIDENCE)/EFFORTS"
   ]
  },
  {
   "cell_type": "code",
   "execution_count": 5,
   "metadata": {
    "ExecuteTime": {
     "end_time": "2024-03-26T07:32:02.859812Z",
     "start_time": "2024-03-26T07:32:02.850140Z"
    },
    "scrolled": true
   },
   "outputs": [],
   "source": [
    "#считаем ICE\n",
    "data['ICE'] = (data['Impact']*data['Confidence'])/data['Efforts']\n"
   ]
  },
  {
   "cell_type": "code",
   "execution_count": 6,
   "metadata": {
    "ExecuteTime": {
     "end_time": "2024-03-26T07:32:04.623811Z",
     "start_time": "2024-03-26T07:32:04.602903Z"
    }
   },
   "outputs": [
    {
     "data": {
      "text/html": [
       "<div>\n",
       "<style scoped>\n",
       "    .dataframe tbody tr th:only-of-type {\n",
       "        vertical-align: middle;\n",
       "    }\n",
       "\n",
       "    .dataframe tbody tr th {\n",
       "        vertical-align: top;\n",
       "    }\n",
       "\n",
       "    .dataframe thead th {\n",
       "        text-align: right;\n",
       "    }\n",
       "</style>\n",
       "<table border=\"1\" class=\"dataframe\">\n",
       "  <thead>\n",
       "    <tr style=\"text-align: right;\">\n",
       "      <th></th>\n",
       "      <th>Hypothesis</th>\n",
       "      <th>ICE</th>\n",
       "    </tr>\n",
       "  </thead>\n",
       "  <tbody>\n",
       "    <tr>\n",
       "      <th>8</th>\n",
       "      <td>Запустить акцию, дающую скидку на товар в день рождения</td>\n",
       "      <td>16.200000</td>\n",
       "    </tr>\n",
       "    <tr>\n",
       "      <th>0</th>\n",
       "      <td>Добавить два новых канала привлечения трафика, что позволит привлекать на 30% больше пользователей</td>\n",
       "      <td>13.333333</td>\n",
       "    </tr>\n",
       "    <tr>\n",
       "      <th>7</th>\n",
       "      <td>Добавить форму подписки на все основные страницы, чтобы собрать базу клиентов для email-рассылок</td>\n",
       "      <td>11.200000</td>\n",
       "    </tr>\n",
       "    <tr>\n",
       "      <th>6</th>\n",
       "      <td>Показать на главной странице баннеры с актуальными акциями и распродажами, чтобы увеличить конверсию</td>\n",
       "      <td>8.000000</td>\n",
       "    </tr>\n",
       "    <tr>\n",
       "      <th>2</th>\n",
       "      <td>Добавить блоки рекомендаций товаров на сайт интернет магазина, чтобы повысить конверсию и средний чек заказа</td>\n",
       "      <td>7.000000</td>\n",
       "    </tr>\n",
       "    <tr>\n",
       "      <th>1</th>\n",
       "      <td>Запустить собственную службу доставки, что сократит срок доставки заказов</td>\n",
       "      <td>2.000000</td>\n",
       "    </tr>\n",
       "    <tr>\n",
       "      <th>5</th>\n",
       "      <td>Добавить страницу отзывов клиентов о магазине, что позволит увеличить количество заказов</td>\n",
       "      <td>1.333333</td>\n",
       "    </tr>\n",
       "    <tr>\n",
       "      <th>3</th>\n",
       "      <td>Изменить структура категорий, что увеличит конверсию, т.к. пользователи быстрее найдут нужный товар</td>\n",
       "      <td>1.125000</td>\n",
       "    </tr>\n",
       "    <tr>\n",
       "      <th>4</th>\n",
       "      <td>Изменить цвет фона главной страницы, чтобы увеличить вовлеченность пользователей</td>\n",
       "      <td>1.000000</td>\n",
       "    </tr>\n",
       "  </tbody>\n",
       "</table>\n",
       "</div>"
      ],
      "text/plain": [
       "                                                                                                     Hypothesis  \\\n",
       "8                                                       Запустить акцию, дающую скидку на товар в день рождения   \n",
       "0            Добавить два новых канала привлечения трафика, что позволит привлекать на 30% больше пользователей   \n",
       "7              Добавить форму подписки на все основные страницы, чтобы собрать базу клиентов для email-рассылок   \n",
       "6          Показать на главной странице баннеры с актуальными акциями и распродажами, чтобы увеличить конверсию   \n",
       "2  Добавить блоки рекомендаций товаров на сайт интернет магазина, чтобы повысить конверсию и средний чек заказа   \n",
       "1                                     Запустить собственную службу доставки, что сократит срок доставки заказов   \n",
       "5                      Добавить страницу отзывов клиентов о магазине, что позволит увеличить количество заказов   \n",
       "3           Изменить структура категорий, что увеличит конверсию, т.к. пользователи быстрее найдут нужный товар   \n",
       "4                              Изменить цвет фона главной страницы, чтобы увеличить вовлеченность пользователей   \n",
       "\n",
       "         ICE  \n",
       "8  16.200000  \n",
       "0  13.333333  \n",
       "7  11.200000  \n",
       "6   8.000000  \n",
       "2   7.000000  \n",
       "1   2.000000  \n",
       "5   1.333333  \n",
       "3   1.125000  \n",
       "4   1.000000  "
      ]
     },
     "metadata": {},
     "output_type": "display_data"
    }
   ],
   "source": [
    "pd.options.display.max_colwidth = 400\n",
    "display(data[['Hypothesis', 'ICE']].sort_values(by=['ICE'], ascending=False))"
   ]
  },
  {
   "cell_type": "code",
   "execution_count": 7,
   "metadata": {
    "ExecuteTime": {
     "end_time": "2024-03-26T07:32:08.664127Z",
     "start_time": "2024-03-26T07:32:08.658639Z"
    }
   },
   "outputs": [
    {
     "name": "stdout",
     "output_type": "stream",
     "text": [
      "Добавить форму подписки на все основные страницы, чтобы собрать базу клиентов для email-рассылок\n"
     ]
    }
   ],
   "source": [
    "#просто чтобы нормально прочесть гипотезу целиком\n",
    "print(data['Hypothesis'][7])"
   ]
  },
  {
   "cell_type": "markdown",
   "metadata": {},
   "source": [
    "Наиболее перспективные гипотезы:\n",
    "\n",
    "1. Hypothesis 0: добавить два новых канала привлечения трафика.\n",
    "\n",
    "Эта гипотеза может быть перспективной, так как она направлена на расширение аудитории и привлечение новых клиентов. Увеличение трафика может привести к росту продаж и, как следствие, увеличению выручки.\n",
    "\n",
    "2. Hypothesis 8: запустить акцию, дающую скидку на товар в день.\n",
    "\n",
    "Эта гипотеза также может быть перспективной, так как она может стимулировать продажи и привлечь внимание клиентов к определённым товарам. Скидка может побудить клиентов совершить покупку, что приведёт к увеличению выручки.\n",
    "\n",
    "3. Hypothesis 7: Добавить форму подписки на все основные страницы, чтобы собрать базу клиентов для email-рассылок\n",
    "Форма подписки позволит собирать адреса электронной почты посетителей сайта. Это даст возможность отправлять им информационные и рекламные письма, что может стимулировать повторные покупки и повысить узнаваемость бренда. Имея базу подписчиков, можно анализировать их предпочтения и предлагать товары и услуги, которые наиболее соответствуют их интересам. Это может повысить лояльность клиентов и увеличить вероятность повторных покупок.\n",
    "\n",
    "\n",
    "Эти гипотезы имеют высокий показатель ICE, что говорит о их потенциальной эффективности. Однако для подтверждения их перспективности необходимо провести A/B-тестирование.\n"
   ]
  },
  {
   "cell_type": "code",
   "execution_count": 8,
   "metadata": {
    "ExecuteTime": {
     "end_time": "2024-03-26T07:32:11.424234Z",
     "start_time": "2024-03-26T07:32:11.411798Z"
    }
   },
   "outputs": [
    {
     "name": "stdout",
     "output_type": "stream",
     "text": [
      "                                                                                                     Hypothesis  \\\n",
      "7              Добавить форму подписки на все основные страницы, чтобы собрать базу клиентов для email-рассылок   \n",
      "2  Добавить блоки рекомендаций товаров на сайт интернет магазина, чтобы повысить конверсию и средний чек заказа   \n",
      "0            Добавить два новых канала привлечения трафика, что позволит привлекать на 30% больше пользователей   \n",
      "6          Показать на главной странице баннеры с актуальными акциями и распродажами, чтобы увеличить конверсию   \n",
      "8                                                       Запустить акцию, дающую скидку на товар в день рождения   \n",
      "3           Изменить структура категорий, что увеличит конверсию, т.к. пользователи быстрее найдут нужный товар   \n",
      "1                                     Запустить собственную службу доставки, что сократит срок доставки заказов   \n",
      "5                      Добавить страницу отзывов клиентов о магазине, что позволит увеличить количество заказов   \n",
      "4                              Изменить цвет фона главной страницы, чтобы увеличить вовлеченность пользователей   \n",
      "\n",
      "    RICE  \n",
      "7  112.0  \n",
      "2   56.0  \n",
      "0   40.0  \n",
      "6   40.0  \n",
      "8   16.2  \n",
      "3    9.0  \n",
      "1    4.0  \n",
      "5    4.0  \n",
      "4    3.0  \n"
     ]
    }
   ],
   "source": [
    "#считаем RICE\n",
    "data['RICE'] = (data['Reach']*data['Impact']*data['Confidence'])/data['Efforts']\n",
    "print(data[['Hypothesis', 'RICE']].sort_values(by=['RICE'], ascending=False))\n"
   ]
  },
  {
   "cell_type": "code",
   "execution_count": 9,
   "metadata": {
    "ExecuteTime": {
     "end_time": "2024-03-26T07:32:15.972794Z",
     "start_time": "2024-03-26T07:32:15.956172Z"
    }
   },
   "outputs": [
    {
     "data": {
      "text/html": [
       "<div>\n",
       "<style scoped>\n",
       "    .dataframe tbody tr th:only-of-type {\n",
       "        vertical-align: middle;\n",
       "    }\n",
       "\n",
       "    .dataframe tbody tr th {\n",
       "        vertical-align: top;\n",
       "    }\n",
       "\n",
       "    .dataframe thead th {\n",
       "        text-align: right;\n",
       "    }\n",
       "</style>\n",
       "<table border=\"1\" class=\"dataframe\">\n",
       "  <thead>\n",
       "    <tr style=\"text-align: right;\">\n",
       "      <th></th>\n",
       "      <th>Hypothesis</th>\n",
       "      <th>Reach</th>\n",
       "      <th>Impact</th>\n",
       "      <th>Confidence</th>\n",
       "      <th>Efforts</th>\n",
       "      <th>ICE</th>\n",
       "      <th>RICE</th>\n",
       "    </tr>\n",
       "  </thead>\n",
       "  <tbody>\n",
       "    <tr>\n",
       "      <th>7</th>\n",
       "      <td>Добавить форму подписки на все основные страницы, чтобы собрать базу клиентов для email-рассылок</td>\n",
       "      <td>10</td>\n",
       "      <td>7</td>\n",
       "      <td>8</td>\n",
       "      <td>5</td>\n",
       "      <td>11.200000</td>\n",
       "      <td>112.0</td>\n",
       "    </tr>\n",
       "    <tr>\n",
       "      <th>2</th>\n",
       "      <td>Добавить блоки рекомендаций товаров на сайт интернет магазина, чтобы повысить конверсию и средний чек заказа</td>\n",
       "      <td>8</td>\n",
       "      <td>3</td>\n",
       "      <td>7</td>\n",
       "      <td>3</td>\n",
       "      <td>7.000000</td>\n",
       "      <td>56.0</td>\n",
       "    </tr>\n",
       "    <tr>\n",
       "      <th>0</th>\n",
       "      <td>Добавить два новых канала привлечения трафика, что позволит привлекать на 30% больше пользователей</td>\n",
       "      <td>3</td>\n",
       "      <td>10</td>\n",
       "      <td>8</td>\n",
       "      <td>6</td>\n",
       "      <td>13.333333</td>\n",
       "      <td>40.0</td>\n",
       "    </tr>\n",
       "    <tr>\n",
       "      <th>6</th>\n",
       "      <td>Показать на главной странице баннеры с актуальными акциями и распродажами, чтобы увеличить конверсию</td>\n",
       "      <td>5</td>\n",
       "      <td>3</td>\n",
       "      <td>8</td>\n",
       "      <td>3</td>\n",
       "      <td>8.000000</td>\n",
       "      <td>40.0</td>\n",
       "    </tr>\n",
       "    <tr>\n",
       "      <th>8</th>\n",
       "      <td>Запустить акцию, дающую скидку на товар в день рождения</td>\n",
       "      <td>1</td>\n",
       "      <td>9</td>\n",
       "      <td>9</td>\n",
       "      <td>5</td>\n",
       "      <td>16.200000</td>\n",
       "      <td>16.2</td>\n",
       "    </tr>\n",
       "    <tr>\n",
       "      <th>3</th>\n",
       "      <td>Изменить структура категорий, что увеличит конверсию, т.к. пользователи быстрее найдут нужный товар</td>\n",
       "      <td>8</td>\n",
       "      <td>3</td>\n",
       "      <td>3</td>\n",
       "      <td>8</td>\n",
       "      <td>1.125000</td>\n",
       "      <td>9.0</td>\n",
       "    </tr>\n",
       "    <tr>\n",
       "      <th>1</th>\n",
       "      <td>Запустить собственную службу доставки, что сократит срок доставки заказов</td>\n",
       "      <td>2</td>\n",
       "      <td>5</td>\n",
       "      <td>4</td>\n",
       "      <td>10</td>\n",
       "      <td>2.000000</td>\n",
       "      <td>4.0</td>\n",
       "    </tr>\n",
       "    <tr>\n",
       "      <th>5</th>\n",
       "      <td>Добавить страницу отзывов клиентов о магазине, что позволит увеличить количество заказов</td>\n",
       "      <td>3</td>\n",
       "      <td>2</td>\n",
       "      <td>2</td>\n",
       "      <td>3</td>\n",
       "      <td>1.333333</td>\n",
       "      <td>4.0</td>\n",
       "    </tr>\n",
       "    <tr>\n",
       "      <th>4</th>\n",
       "      <td>Изменить цвет фона главной страницы, чтобы увеличить вовлеченность пользователей</td>\n",
       "      <td>3</td>\n",
       "      <td>1</td>\n",
       "      <td>1</td>\n",
       "      <td>1</td>\n",
       "      <td>1.000000</td>\n",
       "      <td>3.0</td>\n",
       "    </tr>\n",
       "  </tbody>\n",
       "</table>\n",
       "</div>"
      ],
      "text/plain": [
       "                                                                                                     Hypothesis  \\\n",
       "7              Добавить форму подписки на все основные страницы, чтобы собрать базу клиентов для email-рассылок   \n",
       "2  Добавить блоки рекомендаций товаров на сайт интернет магазина, чтобы повысить конверсию и средний чек заказа   \n",
       "0            Добавить два новых канала привлечения трафика, что позволит привлекать на 30% больше пользователей   \n",
       "6          Показать на главной странице баннеры с актуальными акциями и распродажами, чтобы увеличить конверсию   \n",
       "8                                                       Запустить акцию, дающую скидку на товар в день рождения   \n",
       "3           Изменить структура категорий, что увеличит конверсию, т.к. пользователи быстрее найдут нужный товар   \n",
       "1                                     Запустить собственную службу доставки, что сократит срок доставки заказов   \n",
       "5                      Добавить страницу отзывов клиентов о магазине, что позволит увеличить количество заказов   \n",
       "4                              Изменить цвет фона главной страницы, чтобы увеличить вовлеченность пользователей   \n",
       "\n",
       "   Reach  Impact  Confidence  Efforts        ICE   RICE  \n",
       "7     10       7           8        5  11.200000  112.0  \n",
       "2      8       3           7        3   7.000000   56.0  \n",
       "0      3      10           8        6  13.333333   40.0  \n",
       "6      5       3           8        3   8.000000   40.0  \n",
       "8      1       9           9        5  16.200000   16.2  \n",
       "3      8       3           3        8   1.125000    9.0  \n",
       "1      2       5           4       10   2.000000    4.0  \n",
       "5      3       2           2        3   1.333333    4.0  \n",
       "4      3       1           1        1   1.000000    3.0  "
      ]
     },
     "metadata": {},
     "output_type": "display_data"
    }
   ],
   "source": [
    "display(data.sort_values(by=['RICE'],  ascending=False))"
   ]
  },
  {
   "cell_type": "markdown",
   "metadata": {},
   "source": [
    "Приоритизация по RICE сместила приоритеты в сторону гипотез, имеющих больший охват.\n",
    "В нашем случае гипотезы 2, 7 и 6 имеют высокий потенциал для увеличения продаж и улучшения пользовательского опыта. Гипотезы 0 и 8 также могут быть перспективными, но требуют дополнительных усилий для реализации. Гипотезы 3 и 5 имеют меньший потенциал. Гипотеза 1 имеет низкий потенциал и требует значительных усилий для реализации. "
   ]
  },
  {
   "cell_type": "markdown",
   "metadata": {},
   "source": [
    "<h2>Часть 2. Анализ A/B-теста</h2>\n",
    "\n",
    "В рамках проекта был проведён A/B-тест, результаты которого представлены в файлах /datasets/orders.csv и /datasets/visitors.csv. Цель теста — определить, какая из двух версий продукта или услуги более эффективна с точки зрения финансовых показателей и пользовательского поведения.\n"
   ]
  },
  {
   "cell_type": "code",
   "execution_count": 10,
   "metadata": {
    "ExecuteTime": {
     "end_time": "2024-03-26T07:32:32.100468Z",
     "start_time": "2024-03-26T07:32:30.098711Z"
    }
   },
   "outputs": [],
   "source": [
    "#загрузим данные\n",
    "import pandas as pd\n",
    "import scipy.stats as stats\n",
    "import datetime as dt\n",
    "import numpy as np\n",
    "import matplotlib.pyplot as plt\n",
    "from pandas.plotting import register_matplotlib_converters\n",
    "import warnings\n",
    "# конвертеры, которые позволяют использовать типы pandas в matplotlib  \n",
    "register_matplotlib_converters()\n"
   ]
  },
  {
   "cell_type": "code",
   "execution_count": 11,
   "metadata": {
    "ExecuteTime": {
     "end_time": "2024-03-26T07:32:58.221154Z",
     "start_time": "2024-03-26T07:32:58.178522Z"
    }
   },
   "outputs": [
    {
     "name": "stdout",
     "output_type": "stream",
     "text": [
      "   transactionId   visitorId        date  revenue group\n",
      "0     3667963787  3312258926  2019-08-15     1650     B\n",
      "1     2804400009  3642806036  2019-08-15      730     B\n",
      "2     2961555356  4069496402  2019-08-15      400     A\n",
      "3     3797467345  1196621759  2019-08-15     9759     B\n",
      "4     2282983706  2322279887  2019-08-15     2308     B\n",
      "         date group  visitors\n",
      "0  2019-08-01     A       719\n",
      "1  2019-08-02     A       619\n",
      "2  2019-08-03     A       507\n",
      "3  2019-08-04     A       717\n",
      "4  2019-08-05     A       756\n"
     ]
    }
   ],
   "source": [
    "\n",
    "orders = pd.read_csv('orders_project.csv', sep=',')\n",
    "\n",
    "visitors = pd.read_csv('visitors_project.csv', sep=',')\n",
    "\n",
    "print(orders.head())\n",
    "print(visitors.head())"
   ]
  },
  {
   "cell_type": "code",
   "execution_count": 12,
   "metadata": {
    "ExecuteTime": {
     "end_time": "2024-03-26T07:33:07.667854Z",
     "start_time": "2024-03-26T07:33:07.646388Z"
    }
   },
   "outputs": [
    {
     "name": "stdout",
     "output_type": "stream",
     "text": [
      "<class 'pandas.core.frame.DataFrame'>\n",
      "RangeIndex: 1197 entries, 0 to 1196\n",
      "Data columns (total 5 columns):\n",
      " #   Column         Non-Null Count  Dtype \n",
      "---  ------         --------------  ----- \n",
      " 0   transactionId  1197 non-null   int64 \n",
      " 1   visitorId      1197 non-null   int64 \n",
      " 2   date           1197 non-null   object\n",
      " 3   revenue        1197 non-null   int64 \n",
      " 4   group          1197 non-null   object\n",
      "dtypes: int64(3), object(2)\n",
      "memory usage: 46.9+ KB\n"
     ]
    }
   ],
   "source": [
    "orders.info()"
   ]
  },
  {
   "cell_type": "code",
   "execution_count": 13,
   "metadata": {
    "ExecuteTime": {
     "end_time": "2024-03-26T07:33:09.029016Z",
     "start_time": "2024-03-26T07:33:09.019225Z"
    }
   },
   "outputs": [
    {
     "name": "stdout",
     "output_type": "stream",
     "text": [
      "Дубликатов 0\n"
     ]
    }
   ],
   "source": [
    "print(f'Дубликатов {orders.duplicated().sum()}')"
   ]
  },
  {
   "cell_type": "code",
   "execution_count": 14,
   "metadata": {
    "ExecuteTime": {
     "end_time": "2024-03-26T07:33:11.273298Z",
     "start_time": "2024-03-26T07:33:11.259544Z"
    }
   },
   "outputs": [
    {
     "name": "stdout",
     "output_type": "stream",
     "text": [
      "<class 'pandas.core.frame.DataFrame'>\n",
      "RangeIndex: 62 entries, 0 to 61\n",
      "Data columns (total 3 columns):\n",
      " #   Column    Non-Null Count  Dtype \n",
      "---  ------    --------------  ----- \n",
      " 0   date      62 non-null     object\n",
      " 1   group     62 non-null     object\n",
      " 2   visitors  62 non-null     int64 \n",
      "dtypes: int64(1), object(2)\n",
      "memory usage: 1.6+ KB\n"
     ]
    }
   ],
   "source": [
    "visitors.info()"
   ]
  },
  {
   "cell_type": "code",
   "execution_count": 15,
   "metadata": {
    "ExecuteTime": {
     "end_time": "2024-03-26T07:33:12.421847Z",
     "start_time": "2024-03-26T07:33:12.415219Z"
    }
   },
   "outputs": [
    {
     "name": "stdout",
     "output_type": "stream",
     "text": [
      "Дубликатов 0\n"
     ]
    }
   ],
   "source": [
    "print(f'Дубликатов {visitors.duplicated().sum()}')"
   ]
  },
  {
   "cell_type": "markdown",
   "metadata": {},
   "source": [
    "Полных дубликатов в обеих таблицах не найдено"
   ]
  },
  {
   "cell_type": "code",
   "execution_count": 16,
   "metadata": {
    "ExecuteTime": {
     "end_time": "2024-03-26T07:33:14.840056Z",
     "start_time": "2024-03-26T07:33:14.830385Z"
    }
   },
   "outputs": [],
   "source": [
    "#приведем в порядок даты\n",
    "orders['date'] = pd.to_datetime(orders['date'])\n",
    "visitors['date']=pd.to_datetime(visitors['date'])\n",
    "    \n"
   ]
  },
  {
   "cell_type": "code",
   "execution_count": 17,
   "metadata": {
    "ExecuteTime": {
     "end_time": "2024-03-26T07:33:15.675563Z",
     "start_time": "2024-03-26T07:33:15.663603Z"
    },
    "scrolled": true
   },
   "outputs": [
    {
     "data": {
      "text/plain": [
       "count                     62\n",
       "mean     2019-08-16 00:00:00\n",
       "min      2019-08-01 00:00:00\n",
       "25%      2019-08-08 06:00:00\n",
       "50%      2019-08-16 00:00:00\n",
       "75%      2019-08-23 18:00:00\n",
       "max      2019-08-31 00:00:00\n",
       "Name: date, dtype: object"
      ]
     },
     "execution_count": 17,
     "metadata": {},
     "output_type": "execute_result"
    }
   ],
   "source": [
    "visitors['date'].describe(datetime_is_numeric=True)"
   ]
  },
  {
   "cell_type": "markdown",
   "metadata": {},
   "source": [
    "начало теста: 2019-08-01, дата последних данных 2019-08-31, ровно месяц"
   ]
  },
  {
   "cell_type": "code",
   "execution_count": 18,
   "metadata": {
    "ExecuteTime": {
     "end_time": "2024-03-26T07:33:18.543621Z",
     "start_time": "2024-03-26T07:33:18.530341Z"
    }
   },
   "outputs": [
    {
     "name": "stdout",
     "output_type": "stream",
     "text": [
      "<class 'pandas.core.frame.DataFrame'>\n",
      "RangeIndex: 62 entries, 0 to 61\n",
      "Data columns (total 3 columns):\n",
      " #   Column    Non-Null Count  Dtype         \n",
      "---  ------    --------------  -----         \n",
      " 0   date      62 non-null     datetime64[ns]\n",
      " 1   group     62 non-null     object        \n",
      " 2   visitors  62 non-null     int64         \n",
      "dtypes: datetime64[ns](1), int64(1), object(1)\n",
      "memory usage: 1.6+ KB\n"
     ]
    }
   ],
   "source": [
    "visitors.info()"
   ]
  },
  {
   "cell_type": "markdown",
   "metadata": {},
   "source": [
    "<H2>Проверка корректности проведения теста</H2>"
   ]
  },
  {
   "cell_type": "markdown",
   "metadata": {},
   "source": [
    "Проверим размеры групп в выборке и разницу между ними, а также то корректно ли был рассчитан размер выборки для проведения теста"
   ]
  },
  {
   "cell_type": "code",
   "execution_count": 19,
   "metadata": {
    "ExecuteTime": {
     "end_time": "2024-03-26T07:33:22.739773Z",
     "start_time": "2024-03-26T07:33:22.219376Z"
    }
   },
   "outputs": [
    {
     "name": "stdout",
     "output_type": "stream",
     "text": [
      "Посетителей в группе А: 18736\n",
      "Посетителей в группе B: 18916\n",
      "Кол-во покупок в группе A: 557\n",
      "Кол-во покупок в группе B: 640\n"
     ]
    },
    {
     "data": {
      "image/png": "[encoded data removed]",
      "text/plain": [
       "<Figure size 640x480 with 1 Axes>"
      ]
     },
     "metadata": {},
     "output_type": "display_data"
    },
    {
     "name": "stdout",
     "output_type": "stream",
     "text": [
      "P-value:0.7301376549390499\n",
      "Разница в количестве посетителей в группах A и B статистически не значима\n",
      "\n"
     ]
    }
   ],
   "source": [
    "print('Посетителей в группе А: {}\\n'\n",
    "      'Посетителей в группе B: {}'.format(visitors[visitors['group']=='A']['visitors'].sum(), \n",
    "                                                 visitors[visitors['group']=='B']['visitors'].sum()))\n",
    "purchasesA = len(orders[orders['group']=='A'])\n",
    "purchasesB = len(orders[orders['group']=='B'])\n",
    "print('Кол-во покупок в группе A: {}'.format(purchasesA))\n",
    "print('Кол-во покупок в группе B: {}'.format(purchasesB))\n",
    "plt.hist(visitors[visitors['group']=='A']['visitors'], alpha = 0.8, label='A', bins = 30)\n",
    "plt.hist(visitors[visitors['group']=='B']['visitors'], alpha = 0.8, label='B', bins = 30)\n",
    "plt.legend()\n",
    "plt.title('Гистограммы кол-ва посетителей в день по группам A и B')\n",
    "plt.show()\n",
    "results = stats.mannwhitneyu(visitors[visitors['group']=='A']['visitors'], visitors[visitors['group']=='B']['visitors'])\n",
    "alpha = 0.05\n",
    "print('P-value:{}'.format(results.pvalue))\n",
    "if results.pvalue < alpha:\n",
    "    print('Разница в количестве посетителей в группах A и B статистически значима\\n')\n",
    "else:\n",
    "    print('Разница в количестве посетителей в группах A и B статистически не значима\\n')"
   ]
  },
  {
   "cell_type": "code",
   "execution_count": 20,
   "metadata": {
    "ExecuteTime": {
     "end_time": "2024-03-26T07:33:23.714658Z",
     "start_time": "2024-03-26T07:33:23.704192Z"
    },
    "scrolled": true
   },
   "outputs": [
    {
     "name": "stdout",
     "output_type": "stream",
     "text": [
      "Конверсия в группе А: 0.030\n",
      "Конверсия в группе B: 0.034\n"
     ]
    }
   ],
   "source": [
    "initial_conversion = len(orders[orders['group']=='A']) / visitors[visitors['group']=='A']['visitors'].sum() \n",
    "resulting_conversion = len(orders[orders['group']=='B']) / visitors[visitors['group']=='B']['visitors'].sum()\n",
    "print('Конверсия в группе А: {:.3f}'.format(initial_conversion))\n",
    "print('Конверсия в группе B: {:.3f}'.format(resulting_conversion))"
   ]
  },
  {
   "cell_type": "markdown",
   "metadata": {},
   "source": [
    "Проверим, корректно ли распределились пользователи по группам и нет ли таких, которые попали в обе группы\n"
   ]
  },
  {
   "cell_type": "code",
   "execution_count": 21,
   "metadata": {
    "ExecuteTime": {
     "end_time": "2024-03-26T07:33:25.938961Z",
     "start_time": "2024-03-26T07:33:25.794153Z"
    }
   },
   "outputs": [
    {
     "data": {
      "text/plain": [
       "58"
      ]
     },
     "execution_count": 21,
     "metadata": {},
     "output_type": "execute_result"
    }
   ],
   "source": [
    "visitors_groups = orders.groupby('visitorId', as_index=False).agg({'group' : pd.Series.nunique})\n",
    "visitors_duplicated = visitors_groups.query('group>1')\n",
    "visitors_duplicated['visitorId'].count()"
   ]
  },
  {
   "cell_type": "markdown",
   "metadata": {},
   "source": [
    "У нас 58 покупателей, которые попали в обе группы. Исключим их из наших данных, поскольку так как по правилам A/B тестирования пользователи не могут участвовать в 2 группах)."
   ]
  },
  {
   "cell_type": "code",
   "execution_count": 22,
   "metadata": {
    "ExecuteTime": {
     "end_time": "2024-03-26T07:33:27.565329Z",
     "start_time": "2024-03-26T07:33:27.542592Z"
    }
   },
   "outputs": [
    {
     "data": {
      "text/html": [
       "<div>\n",
       "<style scoped>\n",
       "    .dataframe tbody tr th:only-of-type {\n",
       "        vertical-align: middle;\n",
       "    }\n",
       "\n",
       "    .dataframe tbody tr th {\n",
       "        vertical-align: top;\n",
       "    }\n",
       "\n",
       "    .dataframe thead th {\n",
       "        text-align: right;\n",
       "    }\n",
       "</style>\n",
       "<table border=\"1\" class=\"dataframe\">\n",
       "  <thead>\n",
       "    <tr style=\"text-align: right;\">\n",
       "      <th></th>\n",
       "      <th>transactionId</th>\n",
       "      <th>visitorId</th>\n",
       "      <th>date</th>\n",
       "      <th>revenue</th>\n",
       "      <th>group</th>\n",
       "    </tr>\n",
       "  </thead>\n",
       "  <tbody>\n",
       "    <tr>\n",
       "      <th>0</th>\n",
       "      <td>3667963787</td>\n",
       "      <td>3312258926</td>\n",
       "      <td>2019-08-15</td>\n",
       "      <td>1650</td>\n",
       "      <td>B</td>\n",
       "    </tr>\n",
       "    <tr>\n",
       "      <th>1</th>\n",
       "      <td>2804400009</td>\n",
       "      <td>3642806036</td>\n",
       "      <td>2019-08-15</td>\n",
       "      <td>730</td>\n",
       "      <td>B</td>\n",
       "    </tr>\n",
       "    <tr>\n",
       "      <th>3</th>\n",
       "      <td>3797467345</td>\n",
       "      <td>1196621759</td>\n",
       "      <td>2019-08-15</td>\n",
       "      <td>9759</td>\n",
       "      <td>B</td>\n",
       "    </tr>\n",
       "    <tr>\n",
       "      <th>4</th>\n",
       "      <td>2282983706</td>\n",
       "      <td>2322279887</td>\n",
       "      <td>2019-08-15</td>\n",
       "      <td>2308</td>\n",
       "      <td>B</td>\n",
       "    </tr>\n",
       "    <tr>\n",
       "      <th>5</th>\n",
       "      <td>182168103</td>\n",
       "      <td>935554773</td>\n",
       "      <td>2019-08-15</td>\n",
       "      <td>2210</td>\n",
       "      <td>B</td>\n",
       "    </tr>\n",
       "    <tr>\n",
       "      <th>...</th>\n",
       "      <td>...</td>\n",
       "      <td>...</td>\n",
       "      <td>...</td>\n",
       "      <td>...</td>\n",
       "      <td>...</td>\n",
       "    </tr>\n",
       "    <tr>\n",
       "      <th>1191</th>\n",
       "      <td>3592955527</td>\n",
       "      <td>608641596</td>\n",
       "      <td>2019-08-14</td>\n",
       "      <td>16490</td>\n",
       "      <td>B</td>\n",
       "    </tr>\n",
       "    <tr>\n",
       "      <th>1192</th>\n",
       "      <td>2662137336</td>\n",
       "      <td>3733762160</td>\n",
       "      <td>2019-08-14</td>\n",
       "      <td>6490</td>\n",
       "      <td>B</td>\n",
       "    </tr>\n",
       "    <tr>\n",
       "      <th>1193</th>\n",
       "      <td>2203539145</td>\n",
       "      <td>370388673</td>\n",
       "      <td>2019-08-14</td>\n",
       "      <td>3190</td>\n",
       "      <td>A</td>\n",
       "    </tr>\n",
       "    <tr>\n",
       "      <th>1194</th>\n",
       "      <td>1807773912</td>\n",
       "      <td>573423106</td>\n",
       "      <td>2019-08-14</td>\n",
       "      <td>10550</td>\n",
       "      <td>A</td>\n",
       "    </tr>\n",
       "    <tr>\n",
       "      <th>1196</th>\n",
       "      <td>3936777065</td>\n",
       "      <td>2108080724</td>\n",
       "      <td>2019-08-15</td>\n",
       "      <td>202740</td>\n",
       "      <td>B</td>\n",
       "    </tr>\n",
       "  </tbody>\n",
       "</table>\n",
       "<p>1016 rows × 5 columns</p>\n",
       "</div>"
      ],
      "text/plain": [
       "      transactionId   visitorId       date  revenue group\n",
       "0        3667963787  3312258926 2019-08-15     1650     B\n",
       "1        2804400009  3642806036 2019-08-15      730     B\n",
       "3        3797467345  1196621759 2019-08-15     9759     B\n",
       "4        2282983706  2322279887 2019-08-15     2308     B\n",
       "5         182168103   935554773 2019-08-15     2210     B\n",
       "...             ...         ...        ...      ...   ...\n",
       "1191     3592955527   608641596 2019-08-14    16490     B\n",
       "1192     2662137336  3733762160 2019-08-14     6490     B\n",
       "1193     2203539145   370388673 2019-08-14     3190     A\n",
       "1194     1807773912   573423106 2019-08-14    10550     A\n",
       "1196     3936777065  2108080724 2019-08-15   202740     B\n",
       "\n",
       "[1016 rows x 5 columns]"
      ]
     },
     "metadata": {},
     "output_type": "display_data"
    }
   ],
   "source": [
    "orders = orders.query('visitorId not in @visitors_duplicated.visitorId')\n",
    "display(orders)"
   ]
  },
  {
   "cell_type": "code",
   "execution_count": 23,
   "metadata": {
    "ExecuteTime": {
     "end_time": "2024-03-26T07:33:28.986273Z",
     "start_time": "2024-03-26T07:33:28.546683Z"
    }
   },
   "outputs": [
    {
     "name": "stdout",
     "output_type": "stream",
     "text": [
      "Посетителей в группе А: 18736\n",
      "Посетителей в группе B: 18916\n",
      "Кол-во покупок в группе A: 468\n",
      "Кол-во покупок в группе B: 548\n"
     ]
    },
    {
     "data": {
      "image/png": "[encoded data removed]",
      "text/plain": [
       "<Figure size 640x480 with 1 Axes>"
      ]
     },
     "metadata": {},
     "output_type": "display_data"
    },
    {
     "name": "stdout",
     "output_type": "stream",
     "text": [
      "P-value:0.7301376549390499\n",
      "Разница в количестве посетителей в группах A и B статистически не значима\n",
      "\n",
      "Конверсия в группе А: 0.025\n",
      "Конверсия в группе B: 0.029\n"
     ]
    }
   ],
   "source": [
    "#проверим, изменилось ли что-то после удаления шумных данных\n",
    "print('Посетителей в группе А: {}\\n'\n",
    "      'Посетителей в группе B: {}'.format(visitors[visitors['group']=='A']['visitors'].sum(), \n",
    "                                                 visitors[visitors['group']=='B']['visitors'].sum()))\n",
    "purchasesA = len(orders[orders['group']=='A'])\n",
    "purchasesB = len(orders[orders['group']=='B'])\n",
    "print('Кол-во покупок в группе A: {}'.format(purchasesA))\n",
    "print('Кол-во покупок в группе B: {}'.format(purchasesB))\n",
    "plt.hist(visitors[visitors['group']=='A']['visitors'], alpha = 0.8, label='A', bins = 30)\n",
    "plt.hist(visitors[visitors['group']=='B']['visitors'], alpha = 0.8, label='B', bins = 30)\n",
    "plt.legend()\n",
    "plt.title('Гистограммы кол-ва посетителей в день по группам A и B')\n",
    "plt.show()\n",
    "results = stats.mannwhitneyu(visitors[visitors['group']=='A']['visitors'], visitors[visitors['group']=='B']['visitors'])\n",
    "alpha = 0.05\n",
    "print('P-value:{}'.format(results.pvalue))\n",
    "if results.pvalue < alpha:\n",
    "    print('Разница в количестве посетителей в группах A и B статистически значима\\n')\n",
    "else:\n",
    "    print('Разница в количестве посетителей в группах A и B статистически не значима\\n')\n",
    "initial_conversion = len(orders[orders['group']=='A']) / visitors[visitors['group']=='A']['visitors'].sum() \n",
    "resulting_conversion = len(orders[orders['group']=='B']) / visitors[visitors['group']=='B']['visitors'].sum()\n",
    "print('Конверсия в группе А: {:.3f}'.format(initial_conversion))\n",
    "print('Конверсия в группе B: {:.3f}'.format(resulting_conversion))"
   ]
  },
  {
   "cell_type": "code",
   "execution_count": 24,
   "metadata": {
    "ExecuteTime": {
     "end_time": "2024-03-26T07:33:40.884060Z",
     "start_time": "2024-03-26T07:33:40.875980Z"
    }
   },
   "outputs": [],
   "source": [
    "#уберем дубликаты\n",
    "datesGroups = orders[['date', 'group']].drop_duplicates()\n"
   ]
  },
  {
   "cell_type": "markdown",
   "metadata": {},
   "source": [
    "Соберем таблицу для дальнейшего анализа"
   ]
  },
  {
   "cell_type": "code",
   "execution_count": 25,
   "metadata": {
    "ExecuteTime": {
     "end_time": "2024-03-26T07:33:43.348360Z",
     "start_time": "2024-03-26T07:33:42.878154Z"
    }
   },
   "outputs": [],
   "source": [
    "ordersAggregated = datesGroups.apply(\n",
    "    lambda x: orders[\n",
    "        np.logical_and(\n",
    "            orders['date'] <= x['date'], orders['group'] == x['group']\n",
    "        )\n",
    "    ].agg(\n",
    "        {\n",
    "            'date': 'max',\n",
    "            'group': 'max',\n",
    "            'transactionId': 'nunique',\n",
    "            'visitorId': 'nunique',\n",
    "            'revenue': 'sum',\n",
    "        }\n",
    "    ),\n",
    "    axis=1,\n",
    ").sort_values(by=['date', 'group'])\n",
    "\n",
    "visitorsAggregated = datesGroups.apply(\n",
    "    lambda x: visitors[\n",
    "        np.logical_and(\n",
    "            visitors['date'] <= x['date'], visitors['group'] == x['group']\n",
    "        )\n",
    "    ].agg({'date': 'max', 'group': 'max', 'visitors': 'sum'}),\n",
    "    axis=1,\n",
    ").sort_values(by=['date', 'group'])\n",
    "\n",
    "cumulativeData = ordersAggregated.merge(\n",
    "    visitorsAggregated, left_on=['date', 'group'], right_on=['date', 'group']\n",
    ")\n",
    "cumulativeData.columns = [\n",
    "    'date',\n",
    "    'group',\n",
    "    'orders',\n",
    "    'buyers',\n",
    "    'revenue',\n",
    "    'visitors',\n",
    "]\n",
    "\n"
   ]
  },
  {
   "cell_type": "code",
   "execution_count": 26,
   "metadata": {
    "ExecuteTime": {
     "end_time": "2024-03-26T07:33:44.018477Z",
     "start_time": "2024-03-26T07:33:43.736194Z"
    }
   },
   "outputs": [
    {
     "data": {
      "image/png": "[encoded data removed]",
      "text/plain": [
       "<Figure size 640x480 with 1 Axes>"
      ]
     },
     "metadata": {},
     "output_type": "display_data"
    }
   ],
   "source": [
    "# датафрейм с кумулятивным количеством заказов и кумулятивной выручкой по дням в группе А\n",
    "cumulativeRevenueA = cumulativeData[cumulativeData['group']=='A'][['date','revenue', 'orders']]\n",
    "\n",
    "# датафрейм с кумулятивным количеством заказов и кумулятивной выручкой по дням в группе B\n",
    "cumulativeRevenueB = cumulativeData[cumulativeData['group']=='B'][['date','revenue', 'orders']]\n",
    "\n",
    "# Строим график выручки группы А\n",
    "plt.plot(cumulativeRevenueA['date'], cumulativeRevenueA['revenue'], label='A')\n",
    "\n",
    "# Строим график выручки группы B\n",
    "plt.plot(cumulativeRevenueB['date'], cumulativeRevenueB['revenue'], label='B')\n",
    "plt.title('Кумулятивная выручка по дням в обеих группах')\n",
    "plt.legend()\n",
    "plt.xlabel('Дата')\n",
    "plt.ylabel('Кумулятивная выручка')\n",
    "plt.xticks(rotation=90)\n",
    "plt.show();\n"
   ]
  },
  {
   "cell_type": "markdown",
   "metadata": {},
   "source": [
    "Кумулятивная выручка группы B на первый взгляд растет лучше, в конце второй трети проведения теста видно резкое увеличение"
   ]
  },
  {
   "cell_type": "markdown",
   "metadata": {},
   "source": [
    "Построим графики среднего чека по группам — разделим кумулятивную выручку на кумулятивное число заказов"
   ]
  },
  {
   "cell_type": "code",
   "execution_count": 27,
   "metadata": {
    "ExecuteTime": {
     "end_time": "2024-03-26T07:33:53.114916Z",
     "start_time": "2024-03-26T07:33:52.814001Z"
    }
   },
   "outputs": [
    {
     "data": {
      "image/png": "[encoded data removed]",
      "text/plain": [
       "<Figure size 640x480 with 1 Axes>"
      ]
     },
     "metadata": {},
     "output_type": "display_data"
    }
   ],
   "source": [
    "plt.plot(cumulativeRevenueA['date'], cumulativeRevenueA['revenue']/cumulativeRevenueA['orders'], label='A')\n",
    "plt.plot(cumulativeRevenueB['date'], cumulativeRevenueB['revenue']/cumulativeRevenueB['orders'], label='B')\n",
    "plt.title('Графики среднего чека по дням в обеих группах')\n",
    "plt.legend()\n",
    "plt.xlabel('Дата')\n",
    "plt.ylabel('Средний чек')\n",
    "plt.xticks(rotation=90)\n",
    "plt.show();\n"
   ]
  },
  {
   "cell_type": "markdown",
   "metadata": {},
   "source": [
    "Средний чек группы B также лучше, но после всплеска во второй трети теста имеет тенденцию к плавному снижению. Возможно, в группу B во второй трети теста попали крупные заказы."
   ]
  },
  {
   "cell_type": "markdown",
   "metadata": {},
   "source": [
    "Построим график относительного изменения кумулятивного среднего чека группы B к группе A. "
   ]
  },
  {
   "cell_type": "code",
   "execution_count": 28,
   "metadata": {
    "ExecuteTime": {
     "end_time": "2024-03-26T07:34:03.389279Z",
     "start_time": "2024-03-26T07:34:03.128897Z"
    }
   },
   "outputs": [
    {
     "data": {
      "image/png": "[encoded data removed]",
      "text/plain": [
       "<Figure size 640x480 with 1 Axes>"
      ]
     },
     "metadata": {},
     "output_type": "display_data"
    }
   ],
   "source": [
    "# собираем данные в одном датафрейме\n",
    "mergedCumulativeRevenue = cumulativeRevenueA.merge(cumulativeRevenueB, left_on='date', right_on='date', how='left', suffixes=['A', 'B'])\n",
    "\n",
    "# cтроим отношение средних чеков\n",
    "plt.plot(mergedCumulativeRevenue['date'], (mergedCumulativeRevenue['revenueB']/mergedCumulativeRevenue['ordersB'])/(mergedCumulativeRevenue['revenueA']/mergedCumulativeRevenue['ordersA'])-1)\n",
    "\n",
    "# добавляем ось X\n",
    "plt.axhline(y=0, color='black', linestyle='--')\n",
    "\n",
    "plt.title('График соотношения средних чеков')\n",
    "plt.xlabel('Дата')\n",
    "plt.ylabel('Соотношение')\n",
    "plt.xticks(rotation=90)\n",
    "plt.show();"
   ]
  },
  {
   "cell_type": "markdown",
   "metadata": {},
   "source": [
    "График различия между сегментами резко «скачет». В данных определенно есть выбросы"
   ]
  },
  {
   "cell_type": "markdown",
   "metadata": {},
   "source": [
    "Построим график кумулятивного среднего количества заказов на посетителя по группам. "
   ]
  },
  {
   "cell_type": "code",
   "execution_count": 29,
   "metadata": {
    "ExecuteTime": {
     "end_time": "2024-03-26T07:34:08.471715Z",
     "start_time": "2024-03-26T07:34:08.462851Z"
    }
   },
   "outputs": [
    {
     "name": "stdout",
     "output_type": "stream",
     "text": [
      "        date group  orders  buyers  revenue  visitors\n",
      "0 2019-08-01     A      23      19   142779       719\n",
      "1 2019-08-01     B      17      17    59758       713\n",
      "2 2019-08-02     A      42      36   234381      1338\n",
      "3 2019-08-02     B      40      39   221801      1294\n",
      "4 2019-08-03     A      66      60   346854      1845\n"
     ]
    }
   ],
   "source": [
    "print(cumulativeData.head())"
   ]
  },
  {
   "cell_type": "code",
   "execution_count": 30,
   "metadata": {
    "ExecuteTime": {
     "end_time": "2024-03-26T07:34:09.592934Z",
     "start_time": "2024-03-26T07:34:09.289804Z"
    },
    "scrolled": true
   },
   "outputs": [
    {
     "data": {
      "image/png": "[encoded data removed]",
      "text/plain": [
       "<Figure size 640x480 with 1 Axes>"
      ]
     },
     "metadata": {},
     "output_type": "display_data"
    }
   ],
   "source": [
    "# считаем среднее количество заказов на посетителя\n",
    "cumulativeData['conversion'] = cumulativeData['orders']/cumulativeData['visitors']\n",
    "\n",
    "# отделяем данные по группе A\n",
    "cumulativeDataA = cumulativeData[cumulativeData['group']=='A']\n",
    "\n",
    "# отделяем данные по группе B\n",
    "cumulativeDataB = cumulativeData[cumulativeData['group']=='B']\n",
    "\n",
    "# строим графики\n",
    "plt.plot(cumulativeDataA['date'], cumulativeDataA['conversion'], label='A')\n",
    "plt.plot(cumulativeDataB['date'], cumulativeDataB['conversion'], label='B')\n",
    "plt.title('Среднее количество заказов на посетителя в обеих группах')\n",
    "plt.legend()\n",
    "plt.xlabel('Дата')\n",
    "plt.ylabel('Среднее количество заказов на посетителя')\n",
    "plt.xticks(rotation=90)\n",
    "plt.show();\n",
    "\n"
   ]
  },
  {
   "cell_type": "markdown",
   "metadata": {},
   "source": [
    "В начале периода в обеих группах произошел внезапный скачок среднего количества заказов на одного посетителя, который быстро снизился обратно. Это может указывать на нетипичное событие или аномалию, вызвавшую временное увеличение заказов на этот день. После первоначального всплеска среднее количество заказов на одного посетителя в группе \"А\" продолжило снижаться, пока не стабилизовалось на относительно низком уровне в середине теста (и даже продемонстрировало тенденцию к росту. Группа \"В\" начинала с более низкого среднего количества заказов на одного посетителя, чем группа \"А\" до резкого скачка, но после резкого скачка ее среднее принялось расти. Группа \"B\", как правило, сохраняет более высокое среднее количество заказов на одного посетителя по сравнению с группой \"А\" после первоначального всплеска, что позволяет предположить, что все, что тестируется в группе \"B\", может работать лучше с точки зрения поощрения заказов на одного посетителя."
   ]
  },
  {
   "cell_type": "markdown",
   "metadata": {},
   "source": [
    "Построим график относительного изменения кумулятивного среднего количества заказов на посетителя группы B к группе A. "
   ]
  },
  {
   "cell_type": "code",
   "execution_count": 31,
   "metadata": {
    "ExecuteTime": {
     "end_time": "2024-03-26T07:34:16.882888Z",
     "start_time": "2024-03-26T07:34:16.464969Z"
    }
   },
   "outputs": [
    {
     "data": {
      "image/png": "[encoded data removed]",
      "text/plain": [
       "<Figure size 640x480 with 1 Axes>"
      ]
     },
     "metadata": {},
     "output_type": "display_data"
    }
   ],
   "source": [
    "mergedCumulativeConversions = cumulativeDataA[['date','conversion']].merge(cumulativeDataB[['date','conversion']], left_on='date', right_on='date', how='left', suffixes=['A', 'B'])\n",
    "\n",
    "plt.plot(mergedCumulativeConversions['date'], mergedCumulativeConversions['conversionB']/mergedCumulativeConversions['conversionA']-1, label=\"Относительный прирост кумулятивного среднего количества заказов на посетителя группы B относительно группы A\")\n",
    "plt.legend()\n",
    "\n",
    "plt.axhline(y=0, color='black', linestyle='--')\n",
    "plt.axhline(y=-0.1, color='grey', linestyle='--')\n",
    "plt.xticks(rotation=90);\n",
    "plt.title('График относительного прироста кумулятивного среднего количества заказов')\n",
    "plt.legend(loc=\"upper left\", bbox_to_anchor=(1,1))\n",
    "plt.xlabel('Дата')\n",
    "plt.ylabel('Кумулятивное среднее количество заказаов')\n",
    "plt.xticks(rotation=90)\n",
    "plt.show();\n",
    "\n"
   ]
  },
  {
   "cell_type": "markdown",
   "metadata": {},
   "source": [
    "График начинается с резкого снижения, указывающего на то, что первоначально в группе B среднее количество заказов на одного посетителя было ниже, чем в группе A. Однако за этим снижением быстро следует резкий рост, что говорит о существенном улучшении показателей группы B по сравнению с группой A. Общая тенденция для группы B положительна. После первоначального восстановления группа B сохраняет преимущество над группой A."
   ]
  },
  {
   "cell_type": "markdown",
   "metadata": {},
   "source": [
    "Построим точечный график количества заказов по пользователям"
   ]
  },
  {
   "cell_type": "code",
   "execution_count": 32,
   "metadata": {
    "ExecuteTime": {
     "end_time": "2024-03-26T07:34:21.924709Z",
     "start_time": "2024-03-26T07:34:21.917125Z"
    }
   },
   "outputs": [
    {
     "name": "stdout",
     "output_type": "stream",
     "text": [
      "   transactionId   visitorId       date  revenue group\n",
      "0     3667963787  3312258926 2019-08-15     1650     B\n",
      "1     2804400009  3642806036 2019-08-15      730     B\n",
      "3     3797467345  1196621759 2019-08-15     9759     B\n",
      "4     2282983706  2322279887 2019-08-15     2308     B\n",
      "5      182168103   935554773 2019-08-15     2210     B\n"
     ]
    }
   ],
   "source": [
    "print(orders.head())"
   ]
  },
  {
   "cell_type": "code",
   "execution_count": 33,
   "metadata": {
    "ExecuteTime": {
     "end_time": "2024-03-26T07:34:23.282297Z",
     "start_time": "2024-03-26T07:34:22.950490Z"
    }
   },
   "outputs": [
    {
     "data": {
      "image/png": "[encoded data removed]",
      "text/plain": [
       "<Figure size 640x480 with 1 Axes>"
      ]
     },
     "metadata": {},
     "output_type": "display_data"
    }
   ],
   "source": [
    "ordersByUsers = (\n",
    "    orders.groupby('visitorId', as_index=False)\n",
    "    .agg({'transactionId': 'nunique'})\n",
    ")\n",
    "\n",
    "ordersByUsers.columns = ['userId', 'orders']\n",
    "\n",
    "x_values = pd.Series(range(0,len(ordersByUsers)))\n",
    "\n",
    "plt.scatter(x_values, ordersByUsers['orders'])\n",
    "plt.title('Точечный график количества заказов на пользователя')\n",
    "plt.xlabel('Количество пользователей')\n",
    "plt.ylabel('Количество заказов');\n"
   ]
  },
  {
   "cell_type": "code",
   "execution_count": 34,
   "metadata": {
    "ExecuteTime": {
     "end_time": "2024-03-26T07:34:24.153968Z",
     "start_time": "2024-03-26T07:34:24.148793Z"
    }
   },
   "outputs": [
    {
     "name": "stdout",
     "output_type": "stream",
     "text": [
      "[1 3 2]\n"
     ]
    }
   ],
   "source": [
    "print(ordersByUsers['orders'].unique())"
   ]
  },
  {
   "cell_type": "code",
   "execution_count": 35,
   "metadata": {
    "ExecuteTime": {
     "end_time": "2024-03-26T07:34:25.074869Z",
     "start_time": "2024-03-26T07:34:25.061545Z"
    }
   },
   "outputs": [
    {
     "name": "stdout",
     "output_type": "stream",
     "text": [
      "<class 'pandas.core.frame.DataFrame'>\n",
      "RangeIndex: 973 entries, 0 to 972\n",
      "Data columns (total 2 columns):\n",
      " #   Column  Non-Null Count  Dtype\n",
      "---  ------  --------------  -----\n",
      " 0   userId  973 non-null    int64\n",
      " 1   orders  973 non-null    int64\n",
      "dtypes: int64(2)\n",
      "memory usage: 15.3 KB\n"
     ]
    }
   ],
   "source": [
    "ordersByUsers.info()"
   ]
  },
  {
   "cell_type": "markdown",
   "metadata": {},
   "source": [
    "Основная масса покупателей совершает 1-2 заказа. остальное - точечные выбросы"
   ]
  },
  {
   "cell_type": "markdown",
   "metadata": {},
   "source": [
    "Посчитаем 95-й и 99-й перцентили количества заказов на пользователя. Выберите границу для определения аномальных пользователей."
   ]
  },
  {
   "cell_type": "code",
   "execution_count": 36,
   "metadata": {
    "ExecuteTime": {
     "end_time": "2024-03-26T07:34:27.333697Z",
     "start_time": "2024-03-26T07:34:27.327111Z"
    },
    "scrolled": false
   },
   "outputs": [
    {
     "name": "stdout",
     "output_type": "stream",
     "text": [
      "[1. 1. 1. 1. 2.]\n"
     ]
    }
   ],
   "source": [
    "print(np.percentile(ordersByUsers['orders'], [90, 94, 95, 96, 99])) "
   ]
  },
  {
   "cell_type": "markdown",
   "metadata": {},
   "source": [
    "Аномальными можно считать пользователей, совершивших более 1 заказа"
   ]
  },
  {
   "cell_type": "markdown",
   "metadata": {},
   "source": [
    "Построим точечный график стоимостей заказов."
   ]
  },
  {
   "cell_type": "code",
   "execution_count": 37,
   "metadata": {
    "ExecuteTime": {
     "end_time": "2024-03-26T07:34:38.570466Z",
     "start_time": "2024-03-26T07:34:38.352649Z"
    }
   },
   "outputs": [
    {
     "data": {
      "image/png": "[encoded data removed]",
      "text/plain": [
       "<Figure size 640x480 with 1 Axes>"
      ]
     },
     "metadata": {},
     "output_type": "display_data"
    }
   ],
   "source": [
    "x_values = pd.Series(range(0, len(orders['revenue'])))\n",
    "\n",
    "plt.scatter(x=x_values, y=orders['revenue'])\n",
    "plt.title('Точечный график стоимостей заказов')\n",
    "plt.xlabel('Количество пользователей')\n",
    "plt.ylabel('Стоимость заказов');\n",
    "plt.show()"
   ]
  },
  {
   "cell_type": "markdown",
   "metadata": {},
   "source": [
    "Два аномальных выброса, почти все заказы - в одной ценовой категории"
   ]
  },
  {
   "cell_type": "markdown",
   "metadata": {},
   "source": [
    "Посчитайте 95-й и 99-й перцентили стоимости заказов. Выберите границу для определения аномальных заказов."
   ]
  },
  {
   "cell_type": "code",
   "execution_count": 38,
   "metadata": {
    "ExecuteTime": {
     "end_time": "2024-03-26T07:34:41.116437Z",
     "start_time": "2024-03-26T07:34:41.110392Z"
    },
    "scrolled": true
   },
   "outputs": [
    {
     "name": "stdout",
     "output_type": "stream",
     "text": [
      "[17990. 24744. 26785. 30649. 53904.]\n"
     ]
    }
   ],
   "source": [
    "print(np.percentile(orders['revenue'], [90, 94, 95, 96, 99])) "
   ]
  },
  {
   "cell_type": "markdown",
   "metadata": {},
   "source": [
    "5% пользователей покупали что-то дороже 26785. 10% - дороже 17,990 тысяч. 6% - дороже 30,649 тысяч. Выберем границей 90 перцентиль"
   ]
  },
  {
   "cell_type": "code",
   "execution_count": 39,
   "metadata": {
    "ExecuteTime": {
     "end_time": "2024-03-26T07:34:45.170397Z",
     "start_time": "2024-03-26T07:34:45.161294Z"
    }
   },
   "outputs": [
    {
     "name": "stdout",
     "output_type": "stream",
     "text": [
      "        date group  orders  buyers  revenue  visitors  conversion\n",
      "0 2019-08-01     A      23      19   142779       719    0.031989\n",
      "1 2019-08-01     B      17      17    59758       713    0.023843\n",
      "2 2019-08-02     A      42      36   234381      1338    0.031390\n",
      "3 2019-08-02     B      40      39   221801      1294    0.030912\n",
      "4 2019-08-03     A      66      60   346854      1845    0.035772\n"
     ]
    }
   ],
   "source": [
    "print(cumulativeData.head())"
   ]
  },
  {
   "cell_type": "markdown",
   "metadata": {},
   "source": [
    "Посчитаем статистическую значимость различий в среднем количестве заказов на посетителя между группами по «сырым» данным."
   ]
  },
  {
   "cell_type": "code",
   "execution_count": 40,
   "metadata": {
    "ExecuteTime": {
     "end_time": "2024-03-26T07:34:46.687132Z",
     "start_time": "2024-03-26T07:34:46.561970Z"
    }
   },
   "outputs": [],
   "source": [
    "#создадим два датафрейма, содержащих информацию о количестве посетителей за каждый день для групп A и B.\n",
    "\n",
    "visitorsADaily = visitors[visitors['group'] == 'A'][['date', 'visitors']] \n",
    "\n",
    "visitorsADaily.columns = ['date', 'visitorsPerDateA']#переименуем столбцы\n",
    "visitorsACummulative = visitorsADaily.apply(\n",
    " lambda x: visitorsADaily[visitorsADaily['date'] <= x['date']].agg(\n",
    " {'date': 'max', 'visitorsPerDateA': 'sum'}),axis=1,) #суммируем количество посетителей за все предыдущие дни\n",
    "visitorsACummulative.columns = ['date', 'visitorsCummulativeA']\n",
    "visitorsBDaily = visitors[visitors['group'] == 'B'][['date', 'visitors']]\n",
    "visitorsBDaily.columns = ['date', 'visitorsPerDateB']\n",
    "visitorsBCummulative = visitorsBDaily.apply(\n",
    " lambda x: visitorsBDaily[visitorsBDaily['date'] <= x['date']].agg(\n",
    " {'date': 'max', 'visitorsPerDateB': 'sum'}),axis=1,)\n",
    "visitorsBCummulative.columns = ['date', 'visitorsCummulativeB']\n",
    "\n"
   ]
  },
  {
   "cell_type": "code",
   "execution_count": 41,
   "metadata": {
    "ExecuteTime": {
     "end_time": "2024-03-26T07:34:47.455906Z",
     "start_time": "2024-03-26T07:34:47.295226Z"
    }
   },
   "outputs": [],
   "source": [
    "#создадим два датафрейма, содержащих информацию о количестве заказов и выручке за каждый день для групп A и B.\n",
    "\n",
    "ordersADaily = (\n",
    " orders[orders['group'] == 'A'][['date', 'transactionId', 'visitorId', 'revenue']]\n",
    " .groupby('date', as_index=False)\n",
    " .agg({'transactionId': pd.Series.nunique, 'revenue': 'sum'}))\n",
    "ordersADaily.columns = ['date', 'ordersPerDateA', 'revenuePerDateA']\n",
    "ordersACummulative = ordersADaily.apply(\n",
    " lambda x: ordersADaily[ordersADaily['date'] <= x['date']].agg(\n",
    " {'date': 'max', 'ordersPerDateA': 'sum', 'revenuePerDateA': 'sum'}),axis=1,)\n",
    "ordersACummulative.columns = ['date','ordersCummulativeA','revenueCummulativeA',]\n",
    "ordersBDaily = (\n",
    " orders[orders['group'] == 'B'][['date', 'transactionId', 'visitorId', 'revenue']]\n",
    " .groupby('date', as_index=False)\n",
    " .agg({'transactionId': pd.Series.nunique, 'revenue': 'sum'}))\n",
    "ordersBDaily.columns = ['date', 'ordersPerDateB', 'revenuePerDateB']\n",
    "ordersBCummulative = ordersBDaily.apply(\n",
    " lambda x: ordersBDaily[ordersBDaily['date'] <= x['date']].agg(\n",
    " {'date': 'max', 'ordersPerDateB': 'sum', 'revenuePerDateB': 'sum'}),axis=1,)\n",
    "ordersBCummulative.columns = ['date','ordersCummulativeB','revenueCummulativeB',]"
   ]
  },
  {
   "cell_type": "code",
   "execution_count": 42,
   "metadata": {
    "ExecuteTime": {
     "end_time": "2024-03-26T07:34:48.142806Z",
     "start_time": "2024-03-26T07:34:48.109455Z"
    }
   },
   "outputs": [],
   "source": [
    "#объединим их\n",
    "data_new = (\n",
    " ordersADaily.merge(\n",
    " ordersBDaily, left_on='date', right_on='date', how='left'\n",
    " )\n",
    " .merge(ordersACummulative, left_on='date', right_on='date', how='left')\n",
    " .merge(ordersBCummulative, left_on='date', right_on='date', how='left')\n",
    " .merge(visitorsADaily, left_on='date', right_on='date', how='left')\n",
    " .merge(visitorsBDaily, left_on='date', right_on='date', how='left')\n",
    " .merge(visitorsACummulative, left_on='date', right_on='date', how='left')\n",
    " .merge(visitorsBCummulative, left_on='date', right_on='date', how='left'))"
   ]
  },
  {
   "cell_type": "code",
   "execution_count": 43,
   "metadata": {
    "ExecuteTime": {
     "end_time": "2024-03-26T07:34:49.038641Z",
     "start_time": "2024-03-26T07:34:48.926084Z"
    }
   },
   "outputs": [],
   "source": [
    "#создадим два датафрейма с данными о заказах на пользователя\n",
    "ordersByUsersA = (\n",
    " orders[orders['group'] == 'A']\n",
    " .groupby('visitorId', as_index=False)\n",
    " .agg({'transactionId': pd.Series.nunique}))\n",
    "ordersByUsersA.columns = ['userId', 'orders']\n",
    "ordersByUsersB = (\n",
    " orders[orders['group'] == 'B']\n",
    " .groupby('visitorId', as_index=False)\n",
    " .agg({'transactionId': pd.Series.nunique})\n",
    ")\n",
    "ordersByUsersB.columns = ['userId', 'orders']\n"
   ]
  },
  {
   "cell_type": "markdown",
   "metadata": {},
   "source": [
    "Гипотезы:<br>\n",
    "H0 - Нет различий между заказами на пользователя в группах А и Б<br>\n",
    "H1 - Есть различия между заказами на пользователя в группах А и Б"
   ]
  },
  {
   "cell_type": "code",
   "execution_count": 44,
   "metadata": {
    "ExecuteTime": {
     "end_time": "2024-03-26T07:34:50.487720Z",
     "start_time": "2024-03-26T07:34:50.477668Z"
    }
   },
   "outputs": [],
   "source": [
    "#добавим нулевые значения в объединённые датафреймы, чтобы посетителям без покупок соотвествовало значение 0.\n",
    "\n",
    "sampleA = pd.concat([ordersByUsersA['orders'],pd.Series(0, index=np.arange(data_new['visitorsPerDateA'].sum() - len(ordersByUsersA['orders'])), name='orders')],axis=0) \n",
    "sampleB = pd.concat([ordersByUsersB['orders'],pd.Series(0, index=np.arange(data_new['visitorsPerDateB'].sum() - len(ordersByUsersB['orders'])), name='orders')],axis=0) "
   ]
  },
  {
   "cell_type": "code",
   "execution_count": 45,
   "metadata": {
    "ExecuteTime": {
     "end_time": "2024-03-26T07:34:51.720437Z",
     "start_time": "2024-03-26T07:34:51.628084Z"
    }
   },
   "outputs": [
    {
     "name": "stdout",
     "output_type": "stream",
     "text": [
      "P-value: 0.01102\n",
      "Средняя разница:0.160\n"
     ]
    }
   ],
   "source": [
    "print('P-value:','{0:.5f}'.format(stats.mannwhitneyu(sampleA, sampleB)[1]))\n",
    "\n",
    "\n",
    "print('Средняя разница:'\"{0:.3f}\".format(sampleB.mean() / sampleA.mean() - 1))\n"
   ]
  },
  {
   "cell_type": "markdown",
   "metadata": {},
   "source": [
    "Отвергаем нулевую гипотезу об отсутствии различий между группами (значение p-value очень низкое)\n",
    "Можно сделать вывод о статистической значимости различий в среднем количестве заказов на посетителя между группами. Также есть разница в среднем количестве заказов"
   ]
  },
  {
   "cell_type": "markdown",
   "metadata": {},
   "source": [
    "Посчитаем статистическую значимость различий в среднем чеке заказа между группами по «сырым» данным. "
   ]
  },
  {
   "cell_type": "markdown",
   "metadata": {},
   "source": [
    "Гипотезы:<br>\n",
    "H0 - Нет различий между средними чеками на пользователя в группах А и Б<br>\n",
    "H1 - Есть различия между средними чеками на пользователя в группах А и Б"
   ]
  },
  {
   "cell_type": "code",
   "execution_count": 46,
   "metadata": {
    "ExecuteTime": {
     "end_time": "2024-03-26T07:35:02.614777Z",
     "start_time": "2024-03-26T07:35:02.600892Z"
    }
   },
   "outputs": [
    {
     "name": "stdout",
     "output_type": "stream",
     "text": [
      "P-value: 0.829\n",
      "Разница среднего чека: 0.287\n"
     ]
    }
   ],
   "source": [
    "print('P-value:','{0:.3f}'.format(stats.mannwhitneyu(orders[orders['group']=='A']['revenue'], orders[orders['group']=='B']['revenue'])[1]))\n",
    "print('Разница среднего чека:','{0:.3f}'.format(orders[orders['group']=='B']['revenue'].mean()/orders[orders['group']=='A']['revenue'].mean()-1)) \n"
   ]
  },
  {
   "cell_type": "markdown",
   "metadata": {},
   "source": [
    "Нельзя отвергнуть нулевую гипотезу об отсутствии различий между средними чеками на пользователя в группах А и Б. <br>\n",
    "Наблюдаемое различие в 28,4% не является статитстически значимым\n"
   ]
  },
  {
   "cell_type": "markdown",
   "metadata": {},
   "source": [
    "Посчитаем статистическую значимость различий в среднем количестве заказов на посетителя между группами по «очищенным» данным."
   ]
  },
  {
   "cell_type": "code",
   "execution_count": 47,
   "metadata": {
    "ExecuteTime": {
     "end_time": "2024-03-26T07:35:11.739317Z",
     "start_time": "2024-03-26T07:35:11.728424Z"
    }
   },
   "outputs": [],
   "source": [
    "#вычленим группу пользователей, поведение которых выходит за рамки нормы: слишком много или слишком дорогие заказы\n",
    "usersWithManyOrders = pd.concat(\n",
    " [\n",
    " ordersByUsersA[ordersByUsersA['orders'] > 1]['userId'],\n",
    " ordersByUsersB[ordersByUsersB['orders'] > 1]['userId'],\n",
    " ],\n",
    " axis=0,)\n",
    "revenue_lim = np.percentile(orders['revenue'], 90)\n",
    "usersWithExpensiveOrders = orders[orders['revenue'] > revenue_lim]['visitorId']\n",
    "abnormalUsers = (\n",
    " pd.concat([usersWithManyOrders, usersWithExpensiveOrders], axis=0)\n",
    " .drop_duplicates())"
   ]
  },
  {
   "cell_type": "code",
   "execution_count": 48,
   "metadata": {
    "ExecuteTime": {
     "end_time": "2024-03-26T07:35:15.094155Z",
     "start_time": "2024-03-26T07:35:15.054184Z"
    },
    "scrolled": true
   },
   "outputs": [
    {
     "name": "stdout",
     "output_type": "stream",
     "text": [
      "P-value: 0.02110\n",
      "Относительные различия: 0.170\n"
     ]
    }
   ],
   "source": [
    "#очистим наши данные от выбросов и применим к ним тест Манна-Уитни\n",
    "sampleAFiltered = pd.concat(\n",
    "    [\n",
    "        ordersByUsersA[\n",
    "            np.logical_not(ordersByUsersA['userId'].isin(abnormalUsers))\n",
    "        ]['orders'],\n",
    "        pd.Series(\n",
    "            0,\n",
    "            index=np.arange(\n",
    "                data_new['visitorsPerDateA'].sum() - len(ordersByUsersA['orders'])\n",
    "            ),\n",
    "            name='orders',\n",
    "        ),\n",
    "    ],\n",
    "    axis=0,\n",
    ")\n",
    "\n",
    "sampleBFiltered = pd.concat(\n",
    "    [\n",
    "        ordersByUsersB[\n",
    "            np.logical_not(ordersByUsersB['userId'].isin(abnormalUsers))\n",
    "        ]['orders'],\n",
    "        pd.Series(\n",
    "            0,\n",
    "            index=np.arange(\n",
    "                data_new['visitorsPerDateB'].sum() - len(ordersByUsersB['orders'])\n",
    "            ),\n",
    "            name='orders',\n",
    "        ),\n",
    "    ],\n",
    "    axis=0,\n",
    ") \n",
    "print('P-value:','{0:.5f}'.format(stats.mannwhitneyu(sampleAFiltered, sampleBFiltered)[1]))\n",
    "print('Относительные различия:','{0:.3f}'.format(sampleBFiltered.mean()/sampleAFiltered.mean()-1)) \n"
   ]
  },
  {
   "cell_type": "markdown",
   "metadata": {},
   "source": [
    "Сегмент B статистически значимо (0,0211<0,05) лучше сегмента А (0,17).<br>\n",
    "Отвергаем нулевую гипотезу об отсутствии различий в количестве заказов на пользователя между группами а и б."
   ]
  },
  {
   "cell_type": "markdown",
   "metadata": {},
   "source": [
    "Посчитаем статистическую значимость различий в среднем чеке заказа между группами по «очищенным» данным. "
   ]
  },
  {
   "cell_type": "code",
   "execution_count": 49,
   "metadata": {
    "ExecuteTime": {
     "end_time": "2024-03-26T07:35:21.145322Z",
     "start_time": "2024-03-26T07:35:21.125671Z"
    }
   },
   "outputs": [
    {
     "name": "stdout",
     "output_type": "stream",
     "text": [
      "P-value: 0.637\n",
      "Относительные различия: -0.060\n"
     ]
    }
   ],
   "source": [
    "print('P-value:',\n",
    "    '{0:.3f}'.format(\n",
    "        stats.mannwhitneyu(\n",
    "            orders[\n",
    "                np.logical_and(\n",
    "                    orders['group'] == 'A',\n",
    "                    np.logical_not(orders['visitorId'].isin(abnormalUsers)),\n",
    "                )\n",
    "            ]['revenue'],\n",
    "            orders[\n",
    "                np.logical_and(\n",
    "                    orders['group'] == 'B',\n",
    "                    np.logical_not(orders['visitorId'].isin(abnormalUsers)),\n",
    "                )\n",
    "            ]['revenue'],\n",
    "        )[1]\n",
    "    )\n",
    ")\n",
    "\n",
    "print('Относительные различия:',\n",
    "    \"{0:.3f}\".format(\n",
    "        orders[\n",
    "            np.logical_and(\n",
    "                orders['group'] == 'B',\n",
    "                np.logical_not(orders['visitorId'].isin(abnormalUsers)),\n",
    "            )\n",
    "        ]['revenue'].mean()\n",
    "        / orders[\n",
    "            np.logical_and(\n",
    "                orders['group'] == 'A',\n",
    "                np.logical_not(orders['visitorId'].isin(abnormalUsers)),\n",
    "            )\n",
    "        ]['revenue'].mean()\n",
    "        - 1\n",
    "    )\n",
    ") "
   ]
  },
  {
   "cell_type": "markdown",
   "metadata": {},
   "source": [
    "Принимаем нулевую гипотезу об отсутствии различий среднего чека между группами а и б"
   ]
  },
  {
   "cell_type": "markdown",
   "metadata": {},
   "source": [
    "<h2>Решение по результатам теста</h2>"
   ]
  },
  {
   "cell_type": "markdown",
   "metadata": {},
   "source": [
    "В этом cлучае, вероятно, стоит продолжить тест, чтобы собрать больше данных. Нет достаточных доказательств того, что одна группа имеет более высокий или более низкий средний чек, чем другая. Однако, если такая операционная возможность отсутствует, стоит принять изменения, которые тестировались в группе B, поскольку различия в количестве заказов между группами A и B являются статистически значимыми, а количество заказов группы B на 17% больше количества заказов группы A."
   ]
  },
  {
   "cell_type": "markdown",
   "metadata": {},
   "source": [
    "Анализ данных A/B-теста\n",
    "\n",
    "В рамках проекта был проведён A/B-тест, результаты которого представлены в файлах /datasets/orders.csv и /datasets/visitors.csv. Цель теста — определить, какая из двух версий продукта или услуги более эффективна с точки зрения финансовых показателей и пользовательского поведения.\n",
    "\n",
    "Ход работы и логика принятия решений\n",
    "\n",
    "1. Загрузили данные и привели в порядок даты.\n",
    "2. Построили график выручки группы А и график выручки группы B.\n",
    "3. Построили графики среднего чека по группам, разделив кумулятивную выручку на кумулятивное число заказов.\n",
    "4. Построили график относительного изменения кумулятивного среднего чека группы B к группе А.\n",
    "5. Построили график кумулятивного среднего количества заказов на посетителя по группам.\n",
    "6. Посчитали статзначимость результатов по среднему чеку и количеству заказов по группам\n",
    "7. Cделали вывод по графаикам\n",
    "\n",
    "<h2>Выводы</h2>\n",
    "\n",
    "На основе полученных данных можно сделать следующие выводы:\n",
    "\n",
    "1. Кумулятивная выручка группы B на первый взгляд растёт лучше. В конце второй трети проведения теста видно резкое увеличение.\n",
    "2. Средний чек группы B также лучше, но после всплеска во второй трети теста имеет тенденцию к плавному снижению. Возможно, в группу B во второй трети теста попали крупные заказы. Интересно, почему?\n",
    "3. График различия между сегментами резко «скачет». В данных определённо есть выбросы.\n",
    "4. В начале периода в обеих группах произошёл внезапный скачок среднего количества заказов на одного посетителя, который быстро снизился обратно. Это может указывать на нетипичное событие или аномалию, вызвавшую временное увеличение заказов на этот день.\n",
    "5. После первоначального всплеска среднее количество заказов на одного посетителя в группе А продолжило снижаться, пока не стабилизовалось на относительно низком уровне в середине теста (и даже продемонстрировало тенденцию к росту).\n",
    "6. Группа B начинала с более низкого среднего количества заказов на одного посетителя, чем группа А до резкого скачка, но после резкого скачка её среднее принялось расти.\n",
    "7. Группа B, как правило, сохраняет более высокое среднее количество заказов на одного посетителя по сравнению с группой А после первоначального всплеска, что позволяет предположить, что всё, что тестируется в группе B, может работать лучше с точки зрения поощрения заказов на одного посетителя.\n",
    "\n",
    "<UL>\n",
    "<LI>Статистически значимое различие по среднему количеству заказов присутствует между группами и по «сырым», и по данным после фильтрации аномалий\n",
    "<LI>Нет статистически значимого различия по среднему чеку между группами ни по «сырым», ни по данным после фильтрации аномалий\n",
    "<LI>График различия среднего количества заказов между группами показывает, что результаты группы B лучше группы A, но есть небольшая тенденция к ухудшению.\n",
    "<LI>График различия среднего чека говорит о том, что результаты группы B имеет резкие колебания в течение всего периода\n",
    " </UL>\n",
    "\n",
    "<h2>Рекомендации для заказчика</h2>\n",
    "\n",
    "Исходя из полученных результатов, можно рекомендовать заказчику остановить тест и зафиксировать победу группы Б на основании более высокого среднего количества заказов в этой группе. Если количество заказов увеличивается, а средний чек остается прежним, общая выручка растет. Так что несмотря на то, что значительных различий в среднем чеке по группам нет, принятие изменений группы B позволит получить более высокую выручку"
   ]
  }
 ],
 "metadata": {
  "ExecuteTimeLog": [
   {
    "duration": 47,
    "start_time": "2024-03-19T19:22:58.039Z"
   },
   {
    "duration": 462,
    "start_time": "2024-03-19T19:23:12.715Z"
   },
   {
    "duration": 1881,
    "start_time": "2024-03-19T19:24:29.722Z"
   },
   {
    "duration": 31,
    "start_time": "2024-03-19T19:25:05.305Z"
   },
   {
    "duration": 102,
    "start_time": "2024-03-19T19:27:03.389Z"
   },
   {
    "duration": 29,
    "start_time": "2024-03-19T19:27:08.257Z"
   },
   {
    "duration": 8,
    "start_time": "2024-03-19T19:31:12.822Z"
   },
   {
    "duration": 12,
    "start_time": "2024-03-19T19:32:25.338Z"
   },
   {
    "duration": 8,
    "start_time": "2024-03-19T19:32:52.419Z"
   },
   {
    "duration": 16,
    "start_time": "2024-03-19T19:33:32.389Z"
   },
   {
    "duration": 10,
    "start_time": "2024-03-19T19:34:16.741Z"
   },
   {
    "duration": 9,
    "start_time": "2024-03-19T19:34:27.622Z"
   },
   {
    "duration": 4,
    "start_time": "2024-03-19T19:39:11.621Z"
   },
   {
    "duration": 7,
    "start_time": "2024-03-19T19:39:39.708Z"
   },
   {
    "duration": 3,
    "start_time": "2024-03-19T19:40:10.408Z"
   },
   {
    "duration": 10,
    "start_time": "2024-03-19T19:40:33.039Z"
   },
   {
    "duration": 3,
    "start_time": "2024-03-19T19:40:42.073Z"
   },
   {
    "duration": 76,
    "start_time": "2024-03-20T16:52:17.985Z"
   },
   {
    "duration": 118,
    "start_time": "2024-03-20T16:57:22.578Z"
   },
   {
    "duration": 74,
    "start_time": "2024-03-20T16:58:13.807Z"
   },
   {
    "duration": 1275,
    "start_time": "2024-03-20T16:58:34.674Z"
   },
   {
    "duration": 115,
    "start_time": "2024-03-20T16:59:42.888Z"
   },
   {
    "duration": 70,
    "start_time": "2024-03-20T16:59:51.715Z"
   },
   {
    "duration": 21,
    "start_time": "2024-03-20T17:00:44.153Z"
   },
   {
    "duration": 10,
    "start_time": "2024-03-20T17:00:58.748Z"
   },
   {
    "duration": 10,
    "start_time": "2024-03-20T17:01:23.004Z"
   },
   {
    "duration": 9,
    "start_time": "2024-03-20T17:02:26.387Z"
   },
   {
    "duration": 27,
    "start_time": "2024-03-20T17:02:44.226Z"
   },
   {
    "duration": 294,
    "start_time": "2024-03-20T17:04:05.722Z"
   },
   {
    "duration": 297,
    "start_time": "2024-03-20T17:04:15.123Z"
   },
   {
    "duration": 263,
    "start_time": "2024-03-20T17:04:41.039Z"
   },
   {
    "duration": 263,
    "start_time": "2024-03-20T17:28:35.810Z"
   },
   {
    "duration": 431,
    "start_time": "2024-03-20T17:37:27.964Z"
   },
   {
    "duration": 372,
    "start_time": "2024-03-20T17:37:37.974Z"
   },
   {
    "duration": 200,
    "start_time": "2024-03-20T17:52:13.774Z"
   },
   {
    "duration": 6,
    "start_time": "2024-03-20T17:58:55.356Z"
   },
   {
    "duration": 11,
    "start_time": "2024-03-20T17:59:06.854Z"
   },
   {
    "duration": 7,
    "start_time": "2024-03-20T17:59:13.937Z"
   },
   {
    "duration": 277,
    "start_time": "2024-03-20T17:59:15.354Z"
   },
   {
    "duration": 253,
    "start_time": "2024-03-20T17:59:16.920Z"
   },
   {
    "duration": 194,
    "start_time": "2024-03-20T17:59:33.457Z"
   },
   {
    "duration": 249,
    "start_time": "2024-03-20T17:59:41.920Z"
   },
   {
    "duration": 168,
    "start_time": "2024-03-20T17:59:51.437Z"
   },
   {
    "duration": 8,
    "start_time": "2024-03-20T18:00:48.829Z"
   },
   {
    "duration": 98,
    "start_time": "2024-03-20T18:03:02.634Z"
   },
   {
    "duration": 7,
    "start_time": "2024-03-20T18:03:16.055Z"
   },
   {
    "duration": 8,
    "start_time": "2024-03-20T18:03:53.555Z"
   },
   {
    "duration": 184,
    "start_time": "2024-03-20T18:05:16.107Z"
   },
   {
    "duration": 6,
    "start_time": "2024-03-20T18:07:32.140Z"
   },
   {
    "duration": 205,
    "start_time": "2024-03-20T18:08:03.924Z"
   },
   {
    "duration": 210,
    "start_time": "2024-03-20T18:08:29.393Z"
   },
   {
    "duration": 298,
    "start_time": "2024-03-20T18:08:43.857Z"
   },
   {
    "duration": 199,
    "start_time": "2024-03-20T18:09:04.025Z"
   },
   {
    "duration": 202,
    "start_time": "2024-03-20T18:09:19.640Z"
   },
   {
    "duration": 311,
    "start_time": "2024-03-20T18:31:32.014Z"
   },
   {
    "duration": 14,
    "start_time": "2024-03-20T18:56:24.346Z"
   },
   {
    "duration": 9,
    "start_time": "2024-03-20T19:02:20.509Z"
   },
   {
    "duration": 12,
    "start_time": "2024-03-20T19:03:47.026Z"
   },
   {
    "duration": 7,
    "start_time": "2024-03-20T19:04:05.645Z"
   },
   {
    "duration": 5,
    "start_time": "2024-03-20T19:04:17.715Z"
   },
   {
    "duration": 115,
    "start_time": "2024-03-20T19:04:37.012Z"
   },
   {
    "duration": 112,
    "start_time": "2024-03-20T19:04:46.479Z"
   },
   {
    "duration": 4,
    "start_time": "2024-03-20T19:08:22.128Z"
   },
   {
    "duration": 120,
    "start_time": "2024-03-20T19:11:14.393Z"
   },
   {
    "duration": 8,
    "start_time": "2024-03-20T19:13:31.342Z"
   },
   {
    "duration": 151,
    "start_time": "2024-03-20T19:13:39.878Z"
   },
   {
    "duration": 6,
    "start_time": "2024-03-20T19:15:36.162Z"
   },
   {
    "duration": 24,
    "start_time": "2024-03-20T19:20:38.112Z"
   },
   {
    "duration": 153,
    "start_time": "2024-03-20T19:21:31.430Z"
   },
   {
    "duration": 1530,
    "start_time": "2024-03-20T19:22:18.796Z"
   },
   {
    "duration": 12,
    "start_time": "2024-03-20T19:27:04.246Z"
   },
   {
    "duration": 71,
    "start_time": "2024-03-20T19:27:44.097Z"
   },
   {
    "duration": 138,
    "start_time": "2024-03-20T19:28:09.630Z"
   },
   {
    "duration": 12,
    "start_time": "2024-03-20T19:29:18.461Z"
   },
   {
    "duration": 3,
    "start_time": "2024-03-20T19:31:02.445Z"
   },
   {
    "duration": 546,
    "start_time": "2024-03-20T19:31:14.710Z"
   },
   {
    "duration": 10,
    "start_time": "2024-03-20T19:31:20.746Z"
   },
   {
    "duration": 137,
    "start_time": "2024-03-20T19:41:57.581Z"
   },
   {
    "duration": 133,
    "start_time": "2024-03-20T19:42:03.248Z"
   },
   {
    "duration": 1136,
    "start_time": "2024-03-20T19:43:24.197Z"
   },
   {
    "duration": 8,
    "start_time": "2024-03-20T19:43:45.966Z"
   },
   {
    "duration": 8,
    "start_time": "2024-03-20T19:47:19.299Z"
   },
   {
    "duration": 7,
    "start_time": "2024-03-20T19:50:36.867Z"
   },
   {
    "duration": 205,
    "start_time": "2024-03-20T19:53:24.413Z"
   },
   {
    "duration": 241,
    "start_time": "2024-03-20T19:53:34.029Z"
   },
   {
    "duration": 175,
    "start_time": "2024-03-20T19:53:39.832Z"
   },
   {
    "duration": 182,
    "start_time": "2024-03-20T19:53:46.418Z"
   },
   {
    "duration": 343,
    "start_time": "2024-03-20T19:54:06.383Z"
   },
   {
    "duration": 89,
    "start_time": "2024-03-20T19:55:47.352Z"
   },
   {
    "duration": 126,
    "start_time": "2024-03-20T19:56:53.850Z"
   },
   {
    "duration": 77,
    "start_time": "2024-03-20T20:00:37.262Z"
   },
   {
    "duration": 95,
    "start_time": "2024-03-20T20:01:46.174Z"
   },
   {
    "duration": 3,
    "start_time": "2024-03-20T20:02:50.405Z"
   },
   {
    "duration": 22,
    "start_time": "2024-03-20T20:02:58.605Z"
   },
   {
    "duration": 21,
    "start_time": "2024-03-20T20:03:19.134Z"
   },
   {
    "duration": 136,
    "start_time": "2024-03-20T20:05:03.967Z"
   },
   {
    "duration": 157,
    "start_time": "2024-03-20T20:05:10.063Z"
   },
   {
    "duration": 69,
    "start_time": "2024-03-20T20:06:56.690Z"
   },
   {
    "duration": 6,
    "start_time": "2024-03-20T20:07:46.883Z"
   },
   {
    "duration": 8,
    "start_time": "2024-03-20T20:08:03.351Z"
   },
   {
    "duration": 6,
    "start_time": "2024-03-20T20:10:04.654Z"
   },
   {
    "duration": 27,
    "start_time": "2024-03-20T20:11:10.297Z"
   },
   {
    "duration": 10,
    "start_time": "2024-03-20T20:13:25.134Z"
   },
   {
    "duration": 67,
    "start_time": "2024-03-20T20:13:27.173Z"
   },
   {
    "duration": 52,
    "start_time": "2024-03-21T11:35:11.008Z"
   },
   {
    "duration": 428,
    "start_time": "2024-03-21T11:35:31.416Z"
   },
   {
    "duration": 65,
    "start_time": "2024-03-21T11:35:31.846Z"
   },
   {
    "duration": 9,
    "start_time": "2024-03-21T11:35:31.912Z"
   },
   {
    "duration": 35,
    "start_time": "2024-03-21T11:35:31.923Z"
   },
   {
    "duration": 45,
    "start_time": "2024-03-21T11:35:31.960Z"
   },
   {
    "duration": 39,
    "start_time": "2024-03-21T11:35:32.006Z"
   },
   {
    "duration": 1134,
    "start_time": "2024-03-21T11:35:32.047Z"
   },
   {
    "duration": 11,
    "start_time": "2024-03-21T11:35:33.184Z"
   },
   {
    "duration": 47,
    "start_time": "2024-03-21T11:35:33.196Z"
   },
   {
    "duration": 21,
    "start_time": "2024-03-21T11:35:33.245Z"
   },
   {
    "duration": 20,
    "start_time": "2024-03-21T11:35:33.267Z"
   },
   {
    "duration": 11,
    "start_time": "2024-03-21T11:35:33.289Z"
   },
   {
    "duration": 10,
    "start_time": "2024-03-21T11:35:33.302Z"
   },
   {
    "duration": 298,
    "start_time": "2024-03-21T11:35:33.315Z"
   },
   {
    "duration": 274,
    "start_time": "2024-03-21T11:35:33.615Z"
   },
   {
    "duration": 186,
    "start_time": "2024-03-21T11:35:33.890Z"
   },
   {
    "duration": 375,
    "start_time": "2024-03-21T11:35:34.077Z"
   },
   {
    "duration": 6,
    "start_time": "2024-03-21T11:35:34.454Z"
   },
   {
    "duration": 211,
    "start_time": "2024-03-21T11:35:34.461Z"
   },
   {
    "duration": 378,
    "start_time": "2024-03-21T11:35:34.674Z"
   },
   {
    "duration": 6,
    "start_time": "2024-03-21T11:35:35.054Z"
   },
   {
    "duration": 153,
    "start_time": "2024-03-21T11:35:35.061Z"
   },
   {
    "duration": 4,
    "start_time": "2024-03-21T11:35:35.216Z"
   },
   {
    "duration": 137,
    "start_time": "2024-03-21T11:35:35.221Z"
   },
   {
    "duration": 4,
    "start_time": "2024-03-21T11:35:35.360Z"
   },
   {
    "duration": 15,
    "start_time": "2024-03-21T11:35:35.366Z"
   },
   {
    "duration": 179,
    "start_time": "2024-03-21T11:35:35.383Z"
   },
   {
    "duration": 118,
    "start_time": "2024-03-21T11:35:35.564Z"
   },
   {
    "duration": 30,
    "start_time": "2024-03-21T11:35:35.684Z"
   },
   {
    "duration": 162,
    "start_time": "2024-03-21T11:35:35.715Z"
   },
   {
    "duration": 6,
    "start_time": "2024-03-21T11:35:35.879Z"
   },
   {
    "duration": 35,
    "start_time": "2024-03-21T11:35:35.887Z"
   },
   {
    "duration": 10,
    "start_time": "2024-03-21T11:35:35.923Z"
   },
   {
    "duration": 8,
    "start_time": "2024-03-21T11:35:35.935Z"
   },
   {
    "duration": 72,
    "start_time": "2024-03-21T11:36:47.088Z"
   },
   {
    "duration": 80,
    "start_time": "2024-03-21T11:37:10.239Z"
   },
   {
    "duration": 1324,
    "start_time": "2024-03-21T11:39:12.062Z"
   },
   {
    "duration": 1178,
    "start_time": "2024-03-21T11:40:38.795Z"
   },
   {
    "duration": 87,
    "start_time": "2024-03-21T11:42:48.424Z"
   },
   {
    "duration": 76,
    "start_time": "2024-03-21T11:43:10.694Z"
   },
   {
    "duration": 77,
    "start_time": "2024-03-21T11:43:29.176Z"
   },
   {
    "duration": 1125,
    "start_time": "2024-03-21T11:43:38.014Z"
   },
   {
    "duration": 1239,
    "start_time": "2024-03-21T11:44:06.042Z"
   },
   {
    "duration": 35,
    "start_time": "2024-03-21T11:44:18.680Z"
   },
   {
    "duration": 1093,
    "start_time": "2024-03-21T11:49:11.065Z"
   },
   {
    "duration": 1104,
    "start_time": "2024-03-21T11:49:42.914Z"
   },
   {
    "duration": 15,
    "start_time": "2024-03-21T11:49:56.763Z"
   },
   {
    "duration": 84,
    "start_time": "2024-03-21T12:03:05.686Z"
   },
   {
    "duration": 407,
    "start_time": "2024-03-21T12:29:41.764Z"
   },
   {
    "duration": 61,
    "start_time": "2024-03-21T12:29:42.173Z"
   },
   {
    "duration": 8,
    "start_time": "2024-03-21T12:29:42.236Z"
   },
   {
    "duration": 3,
    "start_time": "2024-03-21T12:29:42.246Z"
   },
   {
    "duration": 9,
    "start_time": "2024-03-21T12:29:42.251Z"
   },
   {
    "duration": 18,
    "start_time": "2024-03-21T12:29:42.261Z"
   },
   {
    "duration": 825,
    "start_time": "2024-03-21T12:29:42.280Z"
   },
   {
    "duration": 10,
    "start_time": "2024-03-21T12:29:43.106Z"
   },
   {
    "duration": 17,
    "start_time": "2024-03-21T12:29:43.117Z"
   },
   {
    "duration": 7,
    "start_time": "2024-03-21T12:29:43.136Z"
   },
   {
    "duration": 8,
    "start_time": "2024-03-21T12:29:43.144Z"
   },
   {
    "duration": 9,
    "start_time": "2024-03-21T12:29:43.153Z"
   },
   {
    "duration": 6,
    "start_time": "2024-03-21T12:29:43.163Z"
   },
   {
    "duration": 262,
    "start_time": "2024-03-21T12:29:43.171Z"
   },
   {
    "duration": 256,
    "start_time": "2024-03-21T12:29:43.435Z"
   },
   {
    "duration": 184,
    "start_time": "2024-03-21T12:29:43.692Z"
   },
   {
    "duration": 268,
    "start_time": "2024-03-21T12:29:43.877Z"
   },
   {
    "duration": 6,
    "start_time": "2024-03-21T12:29:44.147Z"
   },
   {
    "duration": 211,
    "start_time": "2024-03-21T12:29:44.155Z"
   },
   {
    "duration": 428,
    "start_time": "2024-03-21T12:29:44.367Z"
   },
   {
    "duration": 5,
    "start_time": "2024-03-21T12:29:44.796Z"
   },
   {
    "duration": 209,
    "start_time": "2024-03-21T12:29:44.803Z"
   },
   {
    "duration": 3,
    "start_time": "2024-03-21T12:29:45.066Z"
   },
   {
    "duration": 297,
    "start_time": "2024-03-21T12:29:45.071Z"
   },
   {
    "duration": 4,
    "start_time": "2024-03-21T12:29:45.369Z"
   },
   {
    "duration": 31,
    "start_time": "2024-03-21T12:29:45.375Z"
   },
   {
    "duration": 199,
    "start_time": "2024-03-21T12:29:45.407Z"
   },
   {
    "duration": 219,
    "start_time": "2024-03-21T12:29:45.610Z"
   },
   {
    "duration": 49,
    "start_time": "2024-03-21T12:29:45.831Z"
   },
   {
    "duration": 138,
    "start_time": "2024-03-21T12:29:45.882Z"
   },
   {
    "duration": 7,
    "start_time": "2024-03-21T12:29:46.022Z"
   },
   {
    "duration": 36,
    "start_time": "2024-03-21T12:29:46.031Z"
   },
   {
    "duration": 10,
    "start_time": "2024-03-21T12:29:46.069Z"
   },
   {
    "duration": 20,
    "start_time": "2024-03-21T12:29:46.081Z"
   },
   {
    "duration": 35,
    "start_time": "2024-03-21T12:29:46.102Z"
   },
   {
    "duration": 27,
    "start_time": "2024-03-21T12:29:46.139Z"
   },
   {
    "duration": 441,
    "start_time": "2024-03-21T12:31:12.463Z"
   },
   {
    "duration": 66,
    "start_time": "2024-03-21T12:31:12.905Z"
   },
   {
    "duration": 12,
    "start_time": "2024-03-21T12:31:12.973Z"
   },
   {
    "duration": 6,
    "start_time": "2024-03-21T12:31:12.987Z"
   },
   {
    "duration": 11,
    "start_time": "2024-03-21T12:31:12.995Z"
   },
   {
    "duration": 78,
    "start_time": "2024-03-21T12:31:13.008Z"
   },
   {
    "duration": 1296,
    "start_time": "2024-03-21T12:31:13.087Z"
   },
   {
    "duration": 10,
    "start_time": "2024-03-21T12:31:14.385Z"
   },
   {
    "duration": 14,
    "start_time": "2024-03-21T12:31:14.396Z"
   },
   {
    "duration": 55,
    "start_time": "2024-03-21T12:31:14.413Z"
   },
   {
    "duration": 13,
    "start_time": "2024-03-21T12:31:14.470Z"
   },
   {
    "duration": 12,
    "start_time": "2024-03-21T12:31:14.484Z"
   },
   {
    "duration": 7,
    "start_time": "2024-03-21T12:31:14.498Z"
   },
   {
    "duration": 283,
    "start_time": "2024-03-21T12:31:14.506Z"
   },
   {
    "duration": 264,
    "start_time": "2024-03-21T12:31:14.790Z"
   },
   {
    "duration": 185,
    "start_time": "2024-03-21T12:31:15.056Z"
   },
   {
    "duration": 328,
    "start_time": "2024-03-21T12:31:15.243Z"
   },
   {
    "duration": 6,
    "start_time": "2024-03-21T12:31:15.573Z"
   },
   {
    "duration": 199,
    "start_time": "2024-03-21T12:31:15.581Z"
   },
   {
    "duration": 301,
    "start_time": "2024-03-21T12:31:15.781Z"
   },
   {
    "duration": 6,
    "start_time": "2024-03-21T12:31:16.083Z"
   },
   {
    "duration": 115,
    "start_time": "2024-03-21T12:31:16.090Z"
   },
   {
    "duration": 4,
    "start_time": "2024-03-21T12:31:16.206Z"
   },
   {
    "duration": 130,
    "start_time": "2024-03-21T12:31:16.211Z"
   },
   {
    "duration": 4,
    "start_time": "2024-03-21T12:31:16.342Z"
   },
   {
    "duration": 27,
    "start_time": "2024-03-21T12:31:16.348Z"
   },
   {
    "duration": 87,
    "start_time": "2024-03-21T12:31:16.376Z"
   },
   {
    "duration": 115,
    "start_time": "2024-03-21T12:31:16.466Z"
   },
   {
    "duration": 19,
    "start_time": "2024-03-21T12:31:16.583Z"
   },
   {
    "duration": 146,
    "start_time": "2024-03-21T12:31:16.604Z"
   },
   {
    "duration": 14,
    "start_time": "2024-03-21T12:31:16.751Z"
   },
   {
    "duration": 25,
    "start_time": "2024-03-21T12:31:16.766Z"
   },
   {
    "duration": 10,
    "start_time": "2024-03-21T12:31:16.793Z"
   },
   {
    "duration": 10,
    "start_time": "2024-03-21T12:31:16.805Z"
   },
   {
    "duration": 50,
    "start_time": "2024-03-21T12:31:16.816Z"
   },
   {
    "duration": 15,
    "start_time": "2024-03-21T12:31:16.867Z"
   },
   {
    "duration": 56,
    "start_time": "2024-03-21T16:21:00.407Z"
   },
   {
    "duration": 370,
    "start_time": "2024-03-21T16:21:10.821Z"
   },
   {
    "duration": 75,
    "start_time": "2024-03-21T16:21:11.659Z"
   },
   {
    "duration": 9,
    "start_time": "2024-03-21T16:21:14.416Z"
   },
   {
    "duration": 17,
    "start_time": "2024-03-21T16:21:16.135Z"
   },
   {
    "duration": 104,
    "start_time": "2024-03-21T16:21:46.166Z"
   },
   {
    "duration": 96,
    "start_time": "2024-03-21T16:21:54.270Z"
   },
   {
    "duration": 112,
    "start_time": "2024-03-21T16:21:59.933Z"
   },
   {
    "duration": 99,
    "start_time": "2024-03-21T16:42:22.031Z"
   },
   {
    "duration": 10,
    "start_time": "2024-03-21T16:42:37.197Z"
   },
   {
    "duration": 12,
    "start_time": "2024-03-21T16:46:43.109Z"
   },
   {
    "duration": 49,
    "start_time": "2024-03-22T09:35:10.343Z"
   },
   {
    "duration": 1279,
    "start_time": "2024-03-22T09:35:20.308Z"
   },
   {
    "duration": 146,
    "start_time": "2024-03-22T09:35:22.060Z"
   },
   {
    "duration": 12,
    "start_time": "2024-03-22T09:35:27.362Z"
   },
   {
    "duration": 62,
    "start_time": "2024-03-22T09:35:47.558Z"
   },
   {
    "duration": 9,
    "start_time": "2024-03-22T09:35:56.436Z"
   },
   {
    "duration": 9,
    "start_time": "2024-03-22T09:38:01.797Z"
   },
   {
    "duration": 5,
    "start_time": "2024-03-22T09:38:06.575Z"
   },
   {
    "duration": 9,
    "start_time": "2024-03-22T09:39:09.965Z"
   },
   {
    "duration": 6,
    "start_time": "2024-03-22T09:39:44.834Z"
   },
   {
    "duration": 10,
    "start_time": "2024-03-22T09:40:56.892Z"
   },
   {
    "duration": 6,
    "start_time": "2024-03-22T09:41:03.846Z"
   },
   {
    "duration": 10,
    "start_time": "2024-03-22T09:47:21.151Z"
   },
   {
    "duration": 12,
    "start_time": "2024-03-22T09:54:28.922Z"
   },
   {
    "duration": 12,
    "start_time": "2024-03-22T09:55:03.721Z"
   },
   {
    "duration": 8,
    "start_time": "2024-03-22T09:55:11.706Z"
   },
   {
    "duration": 10,
    "start_time": "2024-03-22T10:01:19.044Z"
   },
   {
    "duration": 5,
    "start_time": "2024-03-22T10:01:29.605Z"
   },
   {
    "duration": 7,
    "start_time": "2024-03-22T10:02:22.156Z"
   },
   {
    "duration": 3,
    "start_time": "2024-03-22T10:13:30.797Z"
   },
   {
    "duration": 4,
    "start_time": "2024-03-22T10:20:41.091Z"
   },
   {
    "duration": 6,
    "start_time": "2024-03-22T10:20:42.494Z"
   },
   {
    "duration": 278,
    "start_time": "2024-03-22T10:20:44.843Z"
   },
   {
    "duration": 340,
    "start_time": "2024-03-22T10:23:32.754Z"
   },
   {
    "duration": 289,
    "start_time": "2024-03-22T10:23:47.472Z"
   },
   {
    "duration": 281,
    "start_time": "2024-03-22T10:24:25.756Z"
   },
   {
    "duration": 286,
    "start_time": "2024-03-22T10:24:31.394Z"
   },
   {
    "duration": 286,
    "start_time": "2024-03-22T11:47:55.999Z"
   },
   {
    "duration": 433,
    "start_time": "2024-03-22T11:49:00.257Z"
   },
   {
    "duration": 339,
    "start_time": "2024-03-22T11:49:06.094Z"
   },
   {
    "duration": 278,
    "start_time": "2024-03-22T11:49:54.588Z"
   },
   {
    "duration": 75,
    "start_time": "2024-03-22T11:50:10.409Z"
   },
   {
    "duration": 267,
    "start_time": "2024-03-22T11:50:20.181Z"
   },
   {
    "duration": 291,
    "start_time": "2024-03-22T11:50:54.871Z"
   },
   {
    "duration": 565,
    "start_time": "2024-03-22T11:55:30.147Z"
   },
   {
    "duration": 455,
    "start_time": "2024-03-22T11:56:10.211Z"
   },
   {
    "duration": 457,
    "start_time": "2024-03-22T11:56:17.650Z"
   },
   {
    "duration": 403,
    "start_time": "2024-03-22T11:56:33.362Z"
   },
   {
    "duration": 417,
    "start_time": "2024-03-22T11:57:32.980Z"
   },
   {
    "duration": 465,
    "start_time": "2024-03-22T11:58:04.843Z"
   },
   {
    "duration": 68,
    "start_time": "2024-03-22T11:58:05.311Z"
   },
   {
    "duration": 12,
    "start_time": "2024-03-22T11:58:05.381Z"
   },
   {
    "duration": 45,
    "start_time": "2024-03-22T11:58:05.394Z"
   },
   {
    "duration": 27,
    "start_time": "2024-03-22T11:58:05.442Z"
   },
   {
    "duration": 19,
    "start_time": "2024-03-22T11:58:05.471Z"
   },
   {
    "duration": 74,
    "start_time": "2024-03-22T11:58:05.491Z"
   },
   {
    "duration": 857,
    "start_time": "2024-03-22T11:58:05.567Z"
   },
   {
    "duration": 68,
    "start_time": "2024-03-22T11:58:06.425Z"
   },
   {
    "duration": 17,
    "start_time": "2024-03-22T11:58:06.495Z"
   },
   {
    "duration": 84,
    "start_time": "2024-03-22T11:58:06.514Z"
   },
   {
    "duration": 90,
    "start_time": "2024-03-22T11:58:06.600Z"
   },
   {
    "duration": 47,
    "start_time": "2024-03-22T11:58:06.692Z"
   },
   {
    "duration": 39,
    "start_time": "2024-03-22T11:58:06.743Z"
   },
   {
    "duration": 35,
    "start_time": "2024-03-22T11:58:06.784Z"
   },
   {
    "duration": 20,
    "start_time": "2024-03-22T11:58:06.820Z"
   },
   {
    "duration": 27,
    "start_time": "2024-03-22T11:58:06.842Z"
   },
   {
    "duration": 49,
    "start_time": "2024-03-22T11:58:06.870Z"
   },
   {
    "duration": 10,
    "start_time": "2024-03-22T11:58:06.920Z"
   },
   {
    "duration": 23,
    "start_time": "2024-03-22T11:58:06.932Z"
   },
   {
    "duration": 42,
    "start_time": "2024-03-22T11:58:06.957Z"
   },
   {
    "duration": 326,
    "start_time": "2024-03-22T11:58:07.001Z"
   },
   {
    "duration": 321,
    "start_time": "2024-03-22T11:58:07.329Z"
   },
   {
    "duration": 223,
    "start_time": "2024-03-22T11:58:07.652Z"
   },
   {
    "duration": 304,
    "start_time": "2024-03-22T11:58:07.877Z"
   },
   {
    "duration": 6,
    "start_time": "2024-03-22T11:58:08.183Z"
   },
   {
    "duration": 248,
    "start_time": "2024-03-22T11:58:08.191Z"
   },
   {
    "duration": 381,
    "start_time": "2024-03-22T11:58:08.441Z"
   },
   {
    "duration": 10,
    "start_time": "2024-03-22T11:58:08.824Z"
   },
   {
    "duration": 153,
    "start_time": "2024-03-22T11:58:08.836Z"
   },
   {
    "duration": 6,
    "start_time": "2024-03-22T11:58:08.991Z"
   },
   {
    "duration": 188,
    "start_time": "2024-03-22T11:58:09.000Z"
   },
   {
    "duration": 9,
    "start_time": "2024-03-22T11:58:09.190Z"
   },
   {
    "duration": 15,
    "start_time": "2024-03-22T11:58:09.201Z"
   },
   {
    "duration": 113,
    "start_time": "2024-03-22T11:58:09.217Z"
   },
   {
    "duration": 140,
    "start_time": "2024-03-22T11:58:09.332Z"
   },
   {
    "duration": 24,
    "start_time": "2024-03-22T11:58:09.474Z"
   },
   {
    "duration": 151,
    "start_time": "2024-03-22T11:58:09.499Z"
   },
   {
    "duration": 11,
    "start_time": "2024-03-22T11:58:09.651Z"
   },
   {
    "duration": 52,
    "start_time": "2024-03-22T11:58:09.664Z"
   },
   {
    "duration": 11,
    "start_time": "2024-03-22T11:58:09.720Z"
   },
   {
    "duration": 13,
    "start_time": "2024-03-22T11:58:09.733Z"
   },
   {
    "duration": 51,
    "start_time": "2024-03-22T11:58:09.747Z"
   },
   {
    "duration": 14,
    "start_time": "2024-03-22T11:58:09.800Z"
   },
   {
    "duration": 4,
    "start_time": "2024-03-22T12:01:02.384Z"
   },
   {
    "duration": 4,
    "start_time": "2024-03-22T12:01:27.505Z"
   },
   {
    "duration": 10,
    "start_time": "2024-03-22T12:02:24.437Z"
   },
   {
    "duration": 4,
    "start_time": "2024-03-22T12:02:52.436Z"
   },
   {
    "duration": 3,
    "start_time": "2024-03-22T12:02:57.741Z"
   },
   {
    "duration": 5,
    "start_time": "2024-03-22T12:03:03.402Z"
   },
   {
    "duration": 4,
    "start_time": "2024-03-22T12:03:08.423Z"
   },
   {
    "duration": 5,
    "start_time": "2024-03-22T12:03:35.842Z"
   },
   {
    "duration": 4,
    "start_time": "2024-03-22T12:03:43.839Z"
   },
   {
    "duration": 4,
    "start_time": "2024-03-22T12:04:19.072Z"
   },
   {
    "duration": 5,
    "start_time": "2024-03-22T12:06:14.590Z"
   },
   {
    "duration": 5,
    "start_time": "2024-03-22T12:06:51.343Z"
   },
   {
    "duration": 11,
    "start_time": "2024-03-22T12:09:32.004Z"
   },
   {
    "duration": 28,
    "start_time": "2024-03-22T12:09:42.895Z"
   },
   {
    "duration": 28,
    "start_time": "2024-03-22T13:09:05.948Z"
   },
   {
    "duration": 6,
    "start_time": "2024-03-22T13:10:50.107Z"
   },
   {
    "duration": 36,
    "start_time": "2024-03-22T13:10:51.340Z"
   },
   {
    "duration": 26,
    "start_time": "2024-03-22T13:12:06.605Z"
   },
   {
    "duration": 12,
    "start_time": "2024-03-22T13:15:02.721Z"
   },
   {
    "duration": 76,
    "start_time": "2024-03-22T13:15:45.939Z"
   },
   {
    "duration": 74,
    "start_time": "2024-03-22T13:15:58.035Z"
   },
   {
    "duration": 11,
    "start_time": "2024-03-22T13:16:04.087Z"
   },
   {
    "duration": 78,
    "start_time": "2024-03-22T13:20:57.289Z"
   },
   {
    "duration": 8,
    "start_time": "2024-03-22T13:21:07.351Z"
   },
   {
    "duration": 48,
    "start_time": "2024-03-22T13:21:29.415Z"
   },
   {
    "duration": 64,
    "start_time": "2024-03-22T13:22:55.036Z"
   },
   {
    "duration": 15,
    "start_time": "2024-03-22T13:23:05.004Z"
   },
   {
    "duration": 132,
    "start_time": "2024-03-22T13:27:51.887Z"
   },
   {
    "duration": 138,
    "start_time": "2024-03-22T13:28:39.300Z"
   },
   {
    "duration": 370,
    "start_time": "2024-03-23T07:30:41.007Z"
   },
   {
    "duration": 79,
    "start_time": "2024-03-23T07:30:41.379Z"
   },
   {
    "duration": 11,
    "start_time": "2024-03-23T07:30:41.460Z"
   },
   {
    "duration": 27,
    "start_time": "2024-03-23T07:30:41.473Z"
   },
   {
    "duration": 8,
    "start_time": "2024-03-23T07:30:41.502Z"
   },
   {
    "duration": 26,
    "start_time": "2024-03-23T07:30:41.511Z"
   },
   {
    "duration": 19,
    "start_time": "2024-03-23T07:30:41.539Z"
   },
   {
    "duration": 630,
    "start_time": "2024-03-23T07:30:41.559Z"
   },
   {
    "duration": 164,
    "start_time": "2024-03-23T07:30:42.190Z"
   },
   {
    "duration": 10,
    "start_time": "2024-03-23T07:30:42.355Z"
   },
   {
    "duration": 10,
    "start_time": "2024-03-23T07:30:42.366Z"
   },
   {
    "duration": 19,
    "start_time": "2024-03-23T07:30:42.378Z"
   },
   {
    "duration": 7,
    "start_time": "2024-03-23T07:30:42.399Z"
   },
   {
    "duration": 6,
    "start_time": "2024-03-23T07:30:42.410Z"
   },
   {
    "duration": 11,
    "start_time": "2024-03-23T07:30:42.417Z"
   },
   {
    "duration": 17,
    "start_time": "2024-03-23T07:30:42.430Z"
   },
   {
    "duration": 22,
    "start_time": "2024-03-23T07:30:42.448Z"
   },
   {
    "duration": 10,
    "start_time": "2024-03-23T07:30:42.471Z"
   },
   {
    "duration": 16,
    "start_time": "2024-03-23T07:30:42.482Z"
   },
   {
    "duration": 11,
    "start_time": "2024-03-23T07:30:42.499Z"
   },
   {
    "duration": 12,
    "start_time": "2024-03-23T07:30:42.511Z"
   },
   {
    "duration": 265,
    "start_time": "2024-03-23T07:30:42.524Z"
   },
   {
    "duration": 274,
    "start_time": "2024-03-23T07:30:42.790Z"
   },
   {
    "duration": 175,
    "start_time": "2024-03-23T07:30:43.066Z"
   },
   {
    "duration": 287,
    "start_time": "2024-03-23T07:30:43.242Z"
   },
   {
    "duration": 6,
    "start_time": "2024-03-23T07:30:43.530Z"
   },
   {
    "duration": 185,
    "start_time": "2024-03-23T07:30:43.545Z"
   },
   {
    "duration": 337,
    "start_time": "2024-03-23T07:30:43.732Z"
   },
   {
    "duration": 6,
    "start_time": "2024-03-23T07:30:44.071Z"
   },
   {
    "duration": 138,
    "start_time": "2024-03-23T07:30:44.079Z"
   },
   {
    "duration": 4,
    "start_time": "2024-03-23T07:30:44.218Z"
   },
   {
    "duration": 23,
    "start_time": "2024-03-23T07:30:44.224Z"
   },
   {
    "duration": 6,
    "start_time": "2024-03-23T07:30:44.249Z"
   },
   {
    "duration": 131,
    "start_time": "2024-03-23T07:30:44.256Z"
   },
   {
    "duration": 4,
    "start_time": "2024-03-23T07:30:44.389Z"
   },
   {
    "duration": 9,
    "start_time": "2024-03-23T07:30:44.394Z"
   },
   {
    "duration": 98,
    "start_time": "2024-03-23T07:30:44.404Z"
   },
   {
    "duration": 98,
    "start_time": "2024-03-23T07:30:44.504Z"
   },
   {
    "duration": 19,
    "start_time": "2024-03-23T07:30:44.603Z"
   },
   {
    "duration": 131,
    "start_time": "2024-03-23T07:30:44.623Z"
   },
   {
    "duration": 5,
    "start_time": "2024-03-23T07:30:44.758Z"
   },
   {
    "duration": 30,
    "start_time": "2024-03-23T07:30:44.764Z"
   },
   {
    "duration": 9,
    "start_time": "2024-03-23T07:30:44.795Z"
   },
   {
    "duration": 7,
    "start_time": "2024-03-23T07:30:44.805Z"
   },
   {
    "duration": 46,
    "start_time": "2024-03-23T07:30:44.813Z"
   },
   {
    "duration": 12,
    "start_time": "2024-03-23T07:30:44.860Z"
   },
   {
    "duration": 48,
    "start_time": "2024-03-24T13:43:41.505Z"
   },
   {
    "duration": 381,
    "start_time": "2024-03-24T13:43:51.003Z"
   },
   {
    "duration": 75,
    "start_time": "2024-03-24T13:43:51.386Z"
   },
   {
    "duration": 9,
    "start_time": "2024-03-24T13:43:51.463Z"
   },
   {
    "duration": 15,
    "start_time": "2024-03-24T13:43:51.473Z"
   },
   {
    "duration": 24,
    "start_time": "2024-03-24T13:43:51.490Z"
   },
   {
    "duration": 16,
    "start_time": "2024-03-24T13:43:51.516Z"
   },
   {
    "duration": 34,
    "start_time": "2024-03-24T13:43:51.533Z"
   },
   {
    "duration": 897,
    "start_time": "2024-03-24T13:43:51.568Z"
   },
   {
    "duration": 172,
    "start_time": "2024-03-24T13:43:52.467Z"
   },
   {
    "duration": 11,
    "start_time": "2024-03-24T13:43:52.640Z"
   },
   {
    "duration": 23,
    "start_time": "2024-03-24T13:43:52.652Z"
   },
   {
    "duration": 10,
    "start_time": "2024-03-24T13:43:52.677Z"
   },
   {
    "duration": 15,
    "start_time": "2024-03-24T13:43:52.689Z"
   },
   {
    "duration": 6,
    "start_time": "2024-03-24T13:43:52.708Z"
   },
   {
    "duration": 13,
    "start_time": "2024-03-24T13:43:52.716Z"
   },
   {
    "duration": 11,
    "start_time": "2024-03-24T13:43:52.731Z"
   },
   {
    "duration": 10,
    "start_time": "2024-03-24T13:43:52.744Z"
   },
   {
    "duration": 5,
    "start_time": "2024-03-24T13:43:52.757Z"
   },
   {
    "duration": 12,
    "start_time": "2024-03-24T13:43:52.763Z"
   },
   {
    "duration": 106,
    "start_time": "2024-03-24T13:43:52.776Z"
   },
   {
    "duration": 0,
    "start_time": "2024-03-24T13:43:52.884Z"
   },
   {
    "duration": 0,
    "start_time": "2024-03-24T13:43:52.885Z"
   },
   {
    "duration": 0,
    "start_time": "2024-03-24T13:43:52.886Z"
   },
   {
    "duration": 0,
    "start_time": "2024-03-24T13:43:52.887Z"
   },
   {
    "duration": 0,
    "start_time": "2024-03-24T13:43:52.888Z"
   },
   {
    "duration": 0,
    "start_time": "2024-03-24T13:43:52.889Z"
   },
   {
    "duration": 0,
    "start_time": "2024-03-24T13:43:52.890Z"
   },
   {
    "duration": 0,
    "start_time": "2024-03-24T13:43:52.891Z"
   },
   {
    "duration": 0,
    "start_time": "2024-03-24T13:43:52.892Z"
   },
   {
    "duration": 0,
    "start_time": "2024-03-24T13:43:52.893Z"
   },
   {
    "duration": 0,
    "start_time": "2024-03-24T13:43:52.894Z"
   },
   {
    "duration": 0,
    "start_time": "2024-03-24T13:43:52.895Z"
   },
   {
    "duration": 0,
    "start_time": "2024-03-24T13:43:52.896Z"
   },
   {
    "duration": 0,
    "start_time": "2024-03-24T13:43:52.897Z"
   },
   {
    "duration": 0,
    "start_time": "2024-03-24T13:43:52.898Z"
   },
   {
    "duration": 0,
    "start_time": "2024-03-24T13:43:52.899Z"
   },
   {
    "duration": 0,
    "start_time": "2024-03-24T13:43:52.900Z"
   },
   {
    "duration": 0,
    "start_time": "2024-03-24T13:43:52.901Z"
   },
   {
    "duration": 0,
    "start_time": "2024-03-24T13:43:52.902Z"
   },
   {
    "duration": 0,
    "start_time": "2024-03-24T13:43:52.903Z"
   },
   {
    "duration": 0,
    "start_time": "2024-03-24T13:43:52.904Z"
   },
   {
    "duration": 0,
    "start_time": "2024-03-24T13:43:52.905Z"
   },
   {
    "duration": 0,
    "start_time": "2024-03-24T13:43:52.906Z"
   },
   {
    "duration": 0,
    "start_time": "2024-03-24T13:43:52.907Z"
   },
   {
    "duration": 0,
    "start_time": "2024-03-24T13:43:52.908Z"
   },
   {
    "duration": 0,
    "start_time": "2024-03-24T13:43:52.909Z"
   },
   {
    "duration": 0,
    "start_time": "2024-03-24T13:43:52.910Z"
   },
   {
    "duration": 10,
    "start_time": "2024-03-24T13:44:40.527Z"
   },
   {
    "duration": 76,
    "start_time": "2024-03-24T13:45:54.820Z"
   },
   {
    "duration": 78,
    "start_time": "2024-03-24T13:46:06.116Z"
   },
   {
    "duration": 59,
    "start_time": "2024-03-24T13:46:13.781Z"
   },
   {
    "duration": 8,
    "start_time": "2024-03-24T13:46:20.181Z"
   },
   {
    "duration": 4,
    "start_time": "2024-03-24T13:46:50.898Z"
   },
   {
    "duration": 9,
    "start_time": "2024-03-24T13:46:52.078Z"
   },
   {
    "duration": 7,
    "start_time": "2024-03-24T13:46:54.164Z"
   },
   {
    "duration": 277,
    "start_time": "2024-03-24T14:07:24.544Z"
   },
   {
    "duration": 257,
    "start_time": "2024-03-24T14:08:04.504Z"
   },
   {
    "duration": 9,
    "start_time": "2024-03-24T14:09:02.044Z"
   },
   {
    "duration": 9,
    "start_time": "2024-03-24T14:09:54.508Z"
   },
   {
    "duration": 8,
    "start_time": "2024-03-24T14:11:26.327Z"
   },
   {
    "duration": 58,
    "start_time": "2024-03-24T14:11:42.211Z"
   },
   {
    "duration": 1179,
    "start_time": "2024-03-24T14:11:56.056Z"
   },
   {
    "duration": 67,
    "start_time": "2024-03-24T14:11:57.573Z"
   },
   {
    "duration": 11,
    "start_time": "2024-03-24T14:12:08.926Z"
   },
   {
    "duration": 5,
    "start_time": "2024-03-24T14:12:10.996Z"
   },
   {
    "duration": 10,
    "start_time": "2024-03-24T14:12:12.311Z"
   },
   {
    "duration": 4,
    "start_time": "2024-03-24T14:12:17.109Z"
   },
   {
    "duration": 5,
    "start_time": "2024-03-24T14:12:20.054Z"
   },
   {
    "duration": 12,
    "start_time": "2024-03-24T14:12:21.594Z"
   },
   {
    "duration": 10,
    "start_time": "2024-03-24T14:12:25.157Z"
   },
   {
    "duration": 254,
    "start_time": "2024-03-24T14:12:29.411Z"
   },
   {
    "duration": 7,
    "start_time": "2024-03-24T14:12:35.541Z"
   },
   {
    "duration": 9,
    "start_time": "2024-03-24T14:12:38.675Z"
   },
   {
    "duration": 5,
    "start_time": "2024-03-24T14:12:57.525Z"
   },
   {
    "duration": 5,
    "start_time": "2024-03-24T14:13:32.377Z"
   },
   {
    "duration": 248,
    "start_time": "2024-03-24T14:17:44.474Z"
   },
   {
    "duration": 10,
    "start_time": "2024-03-24T14:17:49.141Z"
   },
   {
    "duration": 6,
    "start_time": "2024-03-24T14:17:50.709Z"
   },
   {
    "duration": 5,
    "start_time": "2024-03-24T14:17:51.739Z"
   },
   {
    "duration": 166,
    "start_time": "2024-03-24T14:18:03.811Z"
   },
   {
    "duration": 24,
    "start_time": "2024-03-24T14:27:38.455Z"
   },
   {
    "duration": 78,
    "start_time": "2024-03-24T14:28:31.740Z"
   },
   {
    "duration": 5,
    "start_time": "2024-03-24T14:28:56.472Z"
   },
   {
    "duration": 269,
    "start_time": "2024-03-24T14:30:46.492Z"
   },
   {
    "duration": 278,
    "start_time": "2024-03-24T14:30:47.409Z"
   },
   {
    "duration": 281,
    "start_time": "2024-03-24T14:33:25.894Z"
   },
   {
    "duration": 295,
    "start_time": "2024-03-24T14:33:56.899Z"
   },
   {
    "duration": 286,
    "start_time": "2024-03-24T14:39:15.819Z"
   },
   {
    "duration": 201,
    "start_time": "2024-03-24T14:39:17.482Z"
   },
   {
    "duration": 278,
    "start_time": "2024-03-24T14:39:26.533Z"
   },
   {
    "duration": 295,
    "start_time": "2024-03-24T14:39:31.235Z"
   },
   {
    "duration": 6,
    "start_time": "2024-03-24T14:39:35.084Z"
   },
   {
    "duration": 204,
    "start_time": "2024-03-24T14:39:37.507Z"
   },
   {
    "duration": 316,
    "start_time": "2024-03-24T14:39:48.902Z"
   },
   {
    "duration": 7,
    "start_time": "2024-03-24T14:40:05.717Z"
   },
   {
    "duration": 157,
    "start_time": "2024-03-24T14:40:08.260Z"
   },
   {
    "duration": 5,
    "start_time": "2024-03-24T14:40:15.516Z"
   },
   {
    "duration": 10,
    "start_time": "2024-03-24T14:40:27.763Z"
   },
   {
    "duration": 4,
    "start_time": "2024-03-24T14:40:39.149Z"
   },
   {
    "duration": 69,
    "start_time": "2024-03-24T14:41:44.917Z"
   },
   {
    "duration": 144,
    "start_time": "2024-03-24T14:42:09.992Z"
   },
   {
    "duration": 5,
    "start_time": "2024-03-24T14:42:20.315Z"
   },
   {
    "duration": 7,
    "start_time": "2024-03-24T14:44:05.988Z"
   },
   {
    "duration": 102,
    "start_time": "2024-03-24T14:44:20.803Z"
   },
   {
    "duration": 119,
    "start_time": "2024-03-24T14:44:23.820Z"
   },
   {
    "duration": 21,
    "start_time": "2024-03-24T14:44:29.378Z"
   },
   {
    "duration": 129,
    "start_time": "2024-03-24T14:44:34.554Z"
   },
   {
    "duration": 7,
    "start_time": "2024-03-24T14:44:43.237Z"
   },
   {
    "duration": 38,
    "start_time": "2024-03-24T14:44:46.454Z"
   },
   {
    "duration": 13,
    "start_time": "2024-03-24T14:45:13.035Z"
   },
   {
    "duration": 65,
    "start_time": "2024-03-24T14:46:39.635Z"
   },
   {
    "duration": 10,
    "start_time": "2024-03-24T14:46:50.571Z"
   },
   {
    "duration": 30,
    "start_time": "2024-03-24T14:47:07.698Z"
   },
   {
    "duration": 9,
    "start_time": "2024-03-24T14:49:06.855Z"
   },
   {
    "duration": 9,
    "start_time": "2024-03-24T14:49:23.706Z"
   },
   {
    "duration": 31,
    "start_time": "2024-03-24T14:49:26.370Z"
   },
   {
    "duration": 14,
    "start_time": "2024-03-24T14:50:05.339Z"
   },
   {
    "duration": 368,
    "start_time": "2024-03-25T06:46:14.128Z"
   },
   {
    "duration": 77,
    "start_time": "2024-03-25T06:46:14.497Z"
   },
   {
    "duration": 8,
    "start_time": "2024-03-25T06:46:14.575Z"
   },
   {
    "duration": 14,
    "start_time": "2024-03-25T06:46:14.585Z"
   },
   {
    "duration": 9,
    "start_time": "2024-03-25T06:46:14.600Z"
   },
   {
    "duration": 15,
    "start_time": "2024-03-25T06:46:14.610Z"
   },
   {
    "duration": 39,
    "start_time": "2024-03-25T06:46:14.627Z"
   },
   {
    "duration": 1129,
    "start_time": "2024-03-25T06:46:14.668Z"
   },
   {
    "duration": 181,
    "start_time": "2024-03-25T06:46:15.799Z"
   },
   {
    "duration": 11,
    "start_time": "2024-03-25T06:46:15.982Z"
   },
   {
    "duration": 11,
    "start_time": "2024-03-25T06:46:15.994Z"
   },
   {
    "duration": 67,
    "start_time": "2024-03-25T06:46:16.007Z"
   },
   {
    "duration": 9,
    "start_time": "2024-03-25T06:46:16.076Z"
   },
   {
    "duration": 9,
    "start_time": "2024-03-25T06:46:16.086Z"
   },
   {
    "duration": 16,
    "start_time": "2024-03-25T06:46:16.097Z"
   },
   {
    "duration": 13,
    "start_time": "2024-03-25T06:46:16.114Z"
   },
   {
    "duration": 293,
    "start_time": "2024-03-25T06:46:16.128Z"
   },
   {
    "duration": 6,
    "start_time": "2024-03-25T06:46:16.423Z"
   },
   {
    "duration": 155,
    "start_time": "2024-03-25T06:46:16.431Z"
   },
   {
    "duration": 14,
    "start_time": "2024-03-25T06:46:16.588Z"
   },
   {
    "duration": 269,
    "start_time": "2024-03-25T06:46:16.604Z"
   },
   {
    "duration": 4,
    "start_time": "2024-03-25T06:46:16.875Z"
   },
   {
    "duration": 265,
    "start_time": "2024-03-25T06:46:16.881Z"
   },
   {
    "duration": 258,
    "start_time": "2024-03-25T06:46:17.147Z"
   },
   {
    "duration": 188,
    "start_time": "2024-03-25T06:46:17.407Z"
   },
   {
    "duration": 273,
    "start_time": "2024-03-25T06:46:17.596Z"
   },
   {
    "duration": 5,
    "start_time": "2024-03-25T06:46:17.871Z"
   },
   {
    "duration": 202,
    "start_time": "2024-03-25T06:46:17.879Z"
   },
   {
    "duration": 341,
    "start_time": "2024-03-25T06:46:18.083Z"
   },
   {
    "duration": 5,
    "start_time": "2024-03-25T06:46:18.426Z"
   },
   {
    "duration": 149,
    "start_time": "2024-03-25T06:46:18.432Z"
   },
   {
    "duration": 3,
    "start_time": "2024-03-25T06:46:18.582Z"
   },
   {
    "duration": 19,
    "start_time": "2024-03-25T06:46:18.587Z"
   },
   {
    "duration": 7,
    "start_time": "2024-03-25T06:46:18.607Z"
   },
   {
    "duration": 213,
    "start_time": "2024-03-25T06:46:18.615Z"
   },
   {
    "duration": 4,
    "start_time": "2024-03-25T06:46:18.829Z"
   },
   {
    "duration": 47,
    "start_time": "2024-03-25T06:46:18.834Z"
   },
   {
    "duration": 97,
    "start_time": "2024-03-25T06:46:18.883Z"
   },
   {
    "duration": 129,
    "start_time": "2024-03-25T06:46:18.982Z"
   },
   {
    "duration": 20,
    "start_time": "2024-03-25T06:46:19.113Z"
   },
   {
    "duration": 143,
    "start_time": "2024-03-25T06:46:19.135Z"
   },
   {
    "duration": 6,
    "start_time": "2024-03-25T06:46:19.280Z"
   },
   {
    "duration": 47,
    "start_time": "2024-03-25T06:46:19.287Z"
   },
   {
    "duration": 10,
    "start_time": "2024-03-25T06:46:19.335Z"
   },
   {
    "duration": 22,
    "start_time": "2024-03-25T06:46:19.346Z"
   },
   {
    "duration": 34,
    "start_time": "2024-03-25T06:46:19.369Z"
   },
   {
    "duration": 12,
    "start_time": "2024-03-25T06:46:19.405Z"
   }
  ],
  "kernelspec": {
   "display_name": "Python 3",
   "language": "python",
   "name": "python3"
  },
  "language_info": {
   "codemirror_mode": {
    "name": "ipython",
    "version": 3
   },
   "file_extension": ".py",
   "mimetype": "text/x-python",
   "name": "python",
   "nbconvert_exporter": "python",
   "pygments_lexer": "ipython3",
   "version": "3.7.5"
  },
  "toc": {
   "base_numbering": 1,
   "nav_menu": {},
   "number_sections": true,
   "sideBar": true,
   "skip_h1_title": true,
   "title_cell": "Table of Contents",
   "title_sidebar": "Contents",
   "toc_cell": false,
   "toc_position": {
    "height": "calc(100% - 180px)",
    "left": "10px",
    "top": "150px",
    "width": "165px"
   },
   "toc_section_display": true,
   "toc_window_display": true
  }
 },
 "nbformat": 4,
 "nbformat_minor": 2
}
