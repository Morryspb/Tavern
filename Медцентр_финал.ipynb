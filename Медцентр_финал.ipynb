{
 "cells": [
  {
   "cell_type": "markdown",
   "id": "cea276c6",
   "metadata": {},
   "source": [
    "<h1>Проект анализа данных медцентра</h1>\n",
    "\n",
    "<b>Задача</b>\n",
    "\n",
    "🔸 Провести анализ изменения цены лечения в медицинской клинике в 2022 году относительно 2021 года\n"
   ]
  },
  {
   "cell_type": "markdown",
   "id": "07a9645b",
   "metadata": {},
   "source": [
    "исходные данные: таблица покрытий страховых случаев за два года (2021-2022) \n",
    "\n",
    "<b>Описание данных</b>\n",
    "<ul>\n",
    "<li>record_id - уникальный идентификатор строки данных;\n",
    "<li>service_date - дата оказания медицинской услуги;\n",
    "<li>service_name - наименование медицинской услуги;\n",
    "<li>service_number - количество услуг;\n",
    "<li>service_amount - сумма выплат (стоимость оказанных услуг в рублях);\n",
    "<li>insured - уникальный идентификатор пациента;\n",
    "<li>sex_id - пол пациента;\n",
    "<li>age_for_service_date - возраст пациента\n",
    "</ul>"
   ]
  },
  {
   "cell_type": "code",
   "execution_count": 1,
   "id": "024f33f3",
   "metadata": {},
   "outputs": [],
   "source": [
    "#импортируем нужные для работы библиотеки\n",
    "import pandas as pd\n",
    "import seaborn as sns\n",
    "import datetime as dt\n",
    "import matplotlib.pyplot as plt"
   ]
  },
  {
   "cell_type": "code",
   "execution_count": 2,
   "id": "fd1d01d7",
   "metadata": {},
   "outputs": [
    {
     "data": {
      "text/html": [
       "<div>\n",
       "<style scoped>\n",
       "    .dataframe tbody tr th:only-of-type {\n",
       "        vertical-align: middle;\n",
       "    }\n",
       "\n",
       "    .dataframe tbody tr th {\n",
       "        vertical-align: top;\n",
       "    }\n",
       "\n",
       "    .dataframe thead th {\n",
       "        text-align: right;\n",
       "    }\n",
       "</style>\n",
       "<table border=\"1\" class=\"dataframe\">\n",
       "  <thead>\n",
       "    <tr style=\"text-align: right;\">\n",
       "      <th></th>\n",
       "      <th>record_id</th>\n",
       "      <th>service_date</th>\n",
       "      <th>service_name</th>\n",
       "      <th>service_amount</th>\n",
       "      <th>service_number</th>\n",
       "      <th>insured</th>\n",
       "      <th>sex_id</th>\n",
       "      <th>age_for_service_date</th>\n",
       "    </tr>\n",
       "  </thead>\n",
       "  <tbody>\n",
       "    <tr>\n",
       "      <th>0</th>\n",
       "      <td>30268157003</td>\n",
       "      <td>2021-01-24</td>\n",
       "      <td>Прием первичный</td>\n",
       "      <td>1470</td>\n",
       "      <td>1</td>\n",
       "      <td>490777</td>\n",
       "      <td>2.0</td>\n",
       "      <td>26</td>\n",
       "    </tr>\n",
       "    <tr>\n",
       "      <th>1</th>\n",
       "      <td>30268157103</td>\n",
       "      <td>2021-01-24</td>\n",
       "      <td>Взятие материала на посев, цитологическое иссл...</td>\n",
       "      <td>284</td>\n",
       "      <td>1</td>\n",
       "      <td>490777</td>\n",
       "      <td>2.0</td>\n",
       "      <td>26</td>\n",
       "    </tr>\n",
       "    <tr>\n",
       "      <th>2</th>\n",
       "      <td>30268157203</td>\n",
       "      <td>2021-01-24</td>\n",
       "      <td>Посев отдел, дыхательных путей - слизистая зев...</td>\n",
       "      <td>1134</td>\n",
       "      <td>1</td>\n",
       "      <td>490777</td>\n",
       "      <td>2.0</td>\n",
       "      <td>26</td>\n",
       "    </tr>\n",
       "    <tr>\n",
       "      <th>3</th>\n",
       "      <td>30268157303</td>\n",
       "      <td>2021-01-24</td>\n",
       "      <td>Общий анализ крови (лейкоцитарная форм,, СОЭ)</td>\n",
       "      <td>693</td>\n",
       "      <td>1</td>\n",
       "      <td>490777</td>\n",
       "      <td>2.0</td>\n",
       "      <td>26</td>\n",
       "    </tr>\n",
       "    <tr>\n",
       "      <th>4</th>\n",
       "      <td>30268157403</td>\n",
       "      <td>2021-01-24</td>\n",
       "      <td>Ревматоидный фактор</td>\n",
       "      <td>420</td>\n",
       "      <td>1</td>\n",
       "      <td>490777</td>\n",
       "      <td>2.0</td>\n",
       "      <td>26</td>\n",
       "    </tr>\n",
       "  </tbody>\n",
       "</table>\n",
       "</div>"
      ],
      "text/plain": [
       "     record_id service_date  \\\n",
       "0  30268157003   2021-01-24   \n",
       "1  30268157103   2021-01-24   \n",
       "2  30268157203   2021-01-24   \n",
       "3  30268157303   2021-01-24   \n",
       "4  30268157403   2021-01-24   \n",
       "\n",
       "                                        service_name  service_amount  \\\n",
       "0                                    Прием первичный            1470   \n",
       "1  Взятие материала на посев, цитологическое иссл...             284   \n",
       "2  Посев отдел, дыхательных путей - слизистая зев...            1134   \n",
       "3      Общий анализ крови (лейкоцитарная форм,, СОЭ)             693   \n",
       "4                                Ревматоидный фактор             420   \n",
       "\n",
       "   service_number  insured  sex_id  age_for_service_date  \n",
       "0               1   490777     2.0                    26  \n",
       "1               1   490777     2.0                    26  \n",
       "2               1   490777     2.0                    26  \n",
       "3               1   490777     2.0                    26  \n",
       "4               1   490777     2.0                    26  "
      ]
     },
     "metadata": {},
     "output_type": "display_data"
    }
   ],
   "source": [
    "#делаем из файла датасет\n",
    "data = pd.read_excel('data_test_task_2022.xlsx')\n",
    "display(data.head())"
   ]
  },
  {
   "cell_type": "markdown",
   "id": "4cffe321",
   "metadata": {},
   "source": [
    "<h2>Обработка данных</h2>"
   ]
  },
  {
   "cell_type": "code",
   "execution_count": 3,
   "id": "bb915ae8",
   "metadata": {
    "scrolled": true
   },
   "outputs": [
    {
     "name": "stdout",
     "output_type": "stream",
     "text": [
      "<class 'pandas.core.frame.DataFrame'>\n",
      "RangeIndex: 85369 entries, 0 to 85368\n",
      "Data columns (total 8 columns):\n",
      " #   Column                Non-Null Count  Dtype  \n",
      "---  ------                --------------  -----  \n",
      " 0   record_id             85369 non-null  int64  \n",
      " 1   service_date          85369 non-null  object \n",
      " 2   service_name          85369 non-null  object \n",
      " 3   service_amount        85369 non-null  int64  \n",
      " 4   service_number        85369 non-null  int64  \n",
      " 5   insured               85369 non-null  int64  \n",
      " 6   sex_id                85348 non-null  float64\n",
      " 7   age_for_service_date  85369 non-null  int64  \n",
      "dtypes: float64(1), int64(5), object(2)\n",
      "memory usage: 5.2+ MB\n"
     ]
    }
   ],
   "source": [
    "#проверим, всего ли у нас хватает\n",
    "data.info()"
   ]
  },
  {
   "cell_type": "code",
   "execution_count": 4,
   "id": "591d62d1",
   "metadata": {
    "scrolled": true
   },
   "outputs": [
    {
     "name": "stdout",
     "output_type": "stream",
     "text": [
      "Число дубликатов: 0\n",
      "Число пропусков:\n",
      "record_id                0\n",
      "service_date             0\n",
      "service_name             0\n",
      "service_amount           0\n",
      "service_number           0\n",
      "insured                  0\n",
      "sex_id                  21\n",
      "age_for_service_date     0\n",
      "dtype: int64\n"
     ]
    }
   ],
   "source": [
    "# Проверим данные на пропуски и дубликаты\n",
    "print('Число дубликатов:', data.duplicated().sum())\n",
    "print('Число пропусков:')\n",
    "print(data.isna().sum())"
   ]
  },
  {
   "cell_type": "markdown",
   "id": "3b5ae3d3",
   "metadata": {},
   "source": [
    "21 пропуск в данных о поле"
   ]
  },
  {
   "cell_type": "markdown",
   "id": "de63aceb",
   "metadata": {},
   "source": [
    "<h3>Приводим в порядок данные пола</h3>"
   ]
  },
  {
   "cell_type": "markdown",
   "id": "53dcbd75",
   "metadata": {},
   "source": [
    "Известно, что пациенты в датасете – разных полов, однако неизвестно, какая цифра какой пол обозначает. \n",
    "Попробуем для начала восстановить утраченные данные самым простым способом - посмотреть, не существует ли такой записи для конкретных застрахованных лиц, в которых пол известен. Присвоим записям с неизвестным полом категорию 3."
   ]
  },
  {
   "cell_type": "code",
   "execution_count": 5,
   "id": "bdae5d24",
   "metadata": {},
   "outputs": [],
   "source": [
    "data['sex_id']=data['sex_id'].fillna(3)"
   ]
  },
  {
   "cell_type": "code",
   "execution_count": 6,
   "id": "e1c4ea4b",
   "metadata": {},
   "outputs": [
    {
     "name": "stdout",
     "output_type": "stream",
     "text": [
      "[2. 1. 3.]\n"
     ]
    }
   ],
   "source": [
    "print(data['sex_id'].unique())"
   ]
  },
  {
   "cell_type": "code",
   "execution_count": 7,
   "id": "b9de662b",
   "metadata": {
    "scrolled": true
   },
   "outputs": [
    {
     "data": {
      "text/plain": [
       "record_id                int64\n",
       "service_date            object\n",
       "service_name            object\n",
       "service_amount           int64\n",
       "service_number           int64\n",
       "insured                  int64\n",
       "sex_id                   int64\n",
       "age_for_service_date     int64\n",
       "dtype: object"
      ]
     },
     "execution_count": 7,
     "metadata": {},
     "output_type": "execute_result"
    }
   ],
   "source": [
    "data['sex_id'] = data['sex_id'].astype(int)\n",
    "data.dtypes\n"
   ]
  },
  {
   "cell_type": "markdown",
   "id": "5abb5f46",
   "metadata": {},
   "source": [
    "и выделим для удобства категорию 3 в отдельный срез"
   ]
  },
  {
   "cell_type": "code",
   "execution_count": 8,
   "id": "8d9b1469",
   "metadata": {},
   "outputs": [],
   "source": [
    "no_sex=data.query('sex_id ==3')"
   ]
  },
  {
   "cell_type": "code",
   "execution_count": 9,
   "id": "d97f800b",
   "metadata": {
    "scrolled": true
   },
   "outputs": [
    {
     "data": {
      "text/html": [
       "<div>\n",
       "<style scoped>\n",
       "    .dataframe tbody tr th:only-of-type {\n",
       "        vertical-align: middle;\n",
       "    }\n",
       "\n",
       "    .dataframe tbody tr th {\n",
       "        vertical-align: top;\n",
       "    }\n",
       "\n",
       "    .dataframe thead th {\n",
       "        text-align: right;\n",
       "    }\n",
       "</style>\n",
       "<table border=\"1\" class=\"dataframe\">\n",
       "  <thead>\n",
       "    <tr style=\"text-align: right;\">\n",
       "      <th></th>\n",
       "      <th>record_id</th>\n",
       "      <th>service_date</th>\n",
       "      <th>service_name</th>\n",
       "      <th>service_amount</th>\n",
       "      <th>service_number</th>\n",
       "      <th>sex_id</th>\n",
       "      <th>age_for_service_date</th>\n",
       "    </tr>\n",
       "    <tr>\n",
       "      <th>insured</th>\n",
       "      <th></th>\n",
       "      <th></th>\n",
       "      <th></th>\n",
       "      <th></th>\n",
       "      <th></th>\n",
       "      <th></th>\n",
       "      <th></th>\n",
       "    </tr>\n",
       "  </thead>\n",
       "  <tbody>\n",
       "    <tr>\n",
       "      <th>221581</th>\n",
       "      <td>4</td>\n",
       "      <td>4</td>\n",
       "      <td>4</td>\n",
       "      <td>4</td>\n",
       "      <td>4</td>\n",
       "      <td>4</td>\n",
       "      <td>4</td>\n",
       "    </tr>\n",
       "    <tr>\n",
       "      <th>512590</th>\n",
       "      <td>17</td>\n",
       "      <td>17</td>\n",
       "      <td>17</td>\n",
       "      <td>17</td>\n",
       "      <td>17</td>\n",
       "      <td>17</td>\n",
       "      <td>17</td>\n",
       "    </tr>\n",
       "  </tbody>\n",
       "</table>\n",
       "</div>"
      ],
      "text/plain": [
       "         record_id  service_date  service_name  service_amount  \\\n",
       "insured                                                          \n",
       "221581           4             4             4               4   \n",
       "512590          17            17            17              17   \n",
       "\n",
       "         service_number  sex_id  age_for_service_date  \n",
       "insured                                                \n",
       "221581                4       4                     4  \n",
       "512590               17      17                    17  "
      ]
     },
     "execution_count": 9,
     "metadata": {},
     "output_type": "execute_result"
    }
   ],
   "source": [
    "#оценим, по многим ли застрахованным этих данных нет\n",
    "no_sex.groupby('insured').count()"
   ]
  },
  {
   "cell_type": "markdown",
   "id": "6d94c4d9",
   "metadata": {},
   "source": [
    "пол неизвестен только по двум застрахованным, для первого из которых отмечено 4 визита, а для второго - 17. Проверим, сколько всего существует записей в базе данных для этих застрахованных"
   ]
  },
  {
   "cell_type": "code",
   "execution_count": 10,
   "id": "7bed4e01",
   "metadata": {
    "scrolled": true
   },
   "outputs": [
    {
     "name": "stdout",
     "output_type": "stream",
     "text": [
      "4\n",
      "21\n"
     ]
    }
   ],
   "source": [
    "one=data.query('insured ==221581')\n",
    "two=data.query('insured ==512590')\n",
    "print(len(one))\n",
    "print(len(two))"
   ]
  },
  {
   "cell_type": "markdown",
   "id": "f77dc055",
   "metadata": {},
   "source": [
    "Интересно, что только для части визитов в клинику для застрахованного номер 512590 неизвестен его пол, значит, его пол восстановить возможно"
   ]
  },
  {
   "cell_type": "code",
   "execution_count": 11,
   "id": "84d676d0",
   "metadata": {
    "scrolled": true
   },
   "outputs": [
    {
     "name": "stdout",
     "output_type": "stream",
     "text": [
      "[3 2]\n"
     ]
    }
   ],
   "source": [
    "print(two['sex_id'].unique())"
   ]
  },
  {
   "cell_type": "markdown",
   "id": "9867b746",
   "metadata": {},
   "source": [
    "И это пол 2"
   ]
  },
  {
   "cell_type": "code",
   "execution_count": 180,
   "id": "55fe3b8e",
   "metadata": {},
   "outputs": [],
   "source": [
    "data.loc[data['insured'] == 512590, 'sex_id'] = 2"
   ]
  },
  {
   "cell_type": "markdown",
   "id": "d5796672",
   "metadata": {},
   "source": [
    "Перезапишем это значение"
   ]
  },
  {
   "cell_type": "code",
   "execution_count": 182,
   "id": "afd4cf09",
   "metadata": {},
   "outputs": [
    {
     "data": {
      "text/html": [
       "<div>\n",
       "<style scoped>\n",
       "    .dataframe tbody tr th:only-of-type {\n",
       "        vertical-align: middle;\n",
       "    }\n",
       "\n",
       "    .dataframe tbody tr th {\n",
       "        vertical-align: top;\n",
       "    }\n",
       "\n",
       "    .dataframe thead th {\n",
       "        text-align: right;\n",
       "    }\n",
       "</style>\n",
       "<table border=\"1\" class=\"dataframe\">\n",
       "  <thead>\n",
       "    <tr style=\"text-align: right;\">\n",
       "      <th></th>\n",
       "      <th>record_id</th>\n",
       "      <th>service_date</th>\n",
       "      <th>service_name</th>\n",
       "      <th>service_amount</th>\n",
       "      <th>service_number</th>\n",
       "      <th>insured</th>\n",
       "      <th>sex_id</th>\n",
       "      <th>age_for_service_date</th>\n",
       "      <th>month</th>\n",
       "      <th>year</th>\n",
       "    </tr>\n",
       "  </thead>\n",
       "  <tbody>\n",
       "    <tr>\n",
       "      <th>4411</th>\n",
       "      <td>30489299203</td>\n",
       "      <td>2021-03-18</td>\n",
       "      <td>Прием первичный</td>\n",
       "      <td>1470</td>\n",
       "      <td>1</td>\n",
       "      <td>512590</td>\n",
       "      <td>2</td>\n",
       "      <td>26</td>\n",
       "      <td>2021-03</td>\n",
       "      <td>2021</td>\n",
       "    </tr>\n",
       "    <tr>\n",
       "      <th>4412</th>\n",
       "      <td>30489299303</td>\n",
       "      <td>2021-03-27</td>\n",
       "      <td>Общий анализ крови (лейкоцитарная форм,, СОЭ)</td>\n",
       "      <td>693</td>\n",
       "      <td>1</td>\n",
       "      <td>512590</td>\n",
       "      <td>2</td>\n",
       "      <td>26</td>\n",
       "      <td>2021-03</td>\n",
       "      <td>2021</td>\n",
       "    </tr>\n",
       "    <tr>\n",
       "      <th>4413</th>\n",
       "      <td>30489299403</td>\n",
       "      <td>2021-03-27</td>\n",
       "      <td>Общий анализ мочи</td>\n",
       "      <td>431</td>\n",
       "      <td>1</td>\n",
       "      <td>512590</td>\n",
       "      <td>2</td>\n",
       "      <td>26</td>\n",
       "      <td>2021-03</td>\n",
       "      <td>2021</td>\n",
       "    </tr>\n",
       "    <tr>\n",
       "      <th>4414</th>\n",
       "      <td>30489299503</td>\n",
       "      <td>2021-03-27</td>\n",
       "      <td>Альфа-амилаза панкреатическая</td>\n",
       "      <td>287</td>\n",
       "      <td>1</td>\n",
       "      <td>512590</td>\n",
       "      <td>2</td>\n",
       "      <td>26</td>\n",
       "      <td>2021-03</td>\n",
       "      <td>2021</td>\n",
       "    </tr>\n",
       "    <tr>\n",
       "      <th>4415</th>\n",
       "      <td>30489299603</td>\n",
       "      <td>2021-03-27</td>\n",
       "      <td>АЛТ (аланинаминотрансфераза)</td>\n",
       "      <td>278</td>\n",
       "      <td>1</td>\n",
       "      <td>512590</td>\n",
       "      <td>2</td>\n",
       "      <td>26</td>\n",
       "      <td>2021-03</td>\n",
       "      <td>2021</td>\n",
       "    </tr>\n",
       "    <tr>\n",
       "      <th>4416</th>\n",
       "      <td>30489299703</td>\n",
       "      <td>2021-03-27</td>\n",
       "      <td>АСТ (аспартатаминотрансфераза)</td>\n",
       "      <td>242</td>\n",
       "      <td>1</td>\n",
       "      <td>512590</td>\n",
       "      <td>2</td>\n",
       "      <td>26</td>\n",
       "      <td>2021-03</td>\n",
       "      <td>2021</td>\n",
       "    </tr>\n",
       "    <tr>\n",
       "      <th>4417</th>\n",
       "      <td>30489299803</td>\n",
       "      <td>2021-03-27</td>\n",
       "      <td>Билирубин общий</td>\n",
       "      <td>287</td>\n",
       "      <td>1</td>\n",
       "      <td>512590</td>\n",
       "      <td>2</td>\n",
       "      <td>26</td>\n",
       "      <td>2021-03</td>\n",
       "      <td>2021</td>\n",
       "    </tr>\n",
       "    <tr>\n",
       "      <th>4418</th>\n",
       "      <td>30489299903</td>\n",
       "      <td>2021-03-27</td>\n",
       "      <td>ГГТ (гамма - глютамилтрансфераза)</td>\n",
       "      <td>287</td>\n",
       "      <td>1</td>\n",
       "      <td>512590</td>\n",
       "      <td>2</td>\n",
       "      <td>26</td>\n",
       "      <td>2021-03</td>\n",
       "      <td>2021</td>\n",
       "    </tr>\n",
       "    <tr>\n",
       "      <th>4419</th>\n",
       "      <td>30489300003</td>\n",
       "      <td>2021-03-27</td>\n",
       "      <td>Глюкоза крови</td>\n",
       "      <td>273</td>\n",
       "      <td>1</td>\n",
       "      <td>512590</td>\n",
       "      <td>2</td>\n",
       "      <td>26</td>\n",
       "      <td>2021-03</td>\n",
       "      <td>2021</td>\n",
       "    </tr>\n",
       "    <tr>\n",
       "      <th>4420</th>\n",
       "      <td>30489300103</td>\n",
       "      <td>2021-03-27</td>\n",
       "      <td>Фосфотаза щелочная</td>\n",
       "      <td>287</td>\n",
       "      <td>1</td>\n",
       "      <td>512590</td>\n",
       "      <td>2</td>\n",
       "      <td>26</td>\n",
       "      <td>2021-03</td>\n",
       "      <td>2021</td>\n",
       "    </tr>\n",
       "    <tr>\n",
       "      <th>4421</th>\n",
       "      <td>30489300203</td>\n",
       "      <td>2021-03-27</td>\n",
       "      <td>Взятие крови из периферической вены</td>\n",
       "      <td>158</td>\n",
       "      <td>1</td>\n",
       "      <td>512590</td>\n",
       "      <td>2</td>\n",
       "      <td>26</td>\n",
       "      <td>2021-03</td>\n",
       "      <td>2021</td>\n",
       "    </tr>\n",
       "    <tr>\n",
       "      <th>4422</th>\n",
       "      <td>30489300303</td>\n",
       "      <td>2021-03-27</td>\n",
       "      <td>Эзофагогастродуоденоскопия</td>\n",
       "      <td>2678</td>\n",
       "      <td>1</td>\n",
       "      <td>512590</td>\n",
       "      <td>2</td>\n",
       "      <td>26</td>\n",
       "      <td>2021-03</td>\n",
       "      <td>2021</td>\n",
       "    </tr>\n",
       "    <tr>\n",
       "      <th>4423</th>\n",
       "      <td>30489300403</td>\n",
       "      <td>2021-03-27</td>\n",
       "      <td>Ультразвуковое исследование брюшной полости</td>\n",
       "      <td>2100</td>\n",
       "      <td>1</td>\n",
       "      <td>512590</td>\n",
       "      <td>2</td>\n",
       "      <td>26</td>\n",
       "      <td>2021-03</td>\n",
       "      <td>2021</td>\n",
       "    </tr>\n",
       "    <tr>\n",
       "      <th>4424</th>\n",
       "      <td>30489300503</td>\n",
       "      <td>2021-03-29</td>\n",
       "      <td>Прием первичный</td>\n",
       "      <td>1470</td>\n",
       "      <td>1</td>\n",
       "      <td>512590</td>\n",
       "      <td>2</td>\n",
       "      <td>26</td>\n",
       "      <td>2021-03</td>\n",
       "      <td>2021</td>\n",
       "    </tr>\n",
       "    <tr>\n",
       "      <th>4425</th>\n",
       "      <td>30489300603</td>\n",
       "      <td>2021-03-29</td>\n",
       "      <td>Прием повторный</td>\n",
       "      <td>1313</td>\n",
       "      <td>1</td>\n",
       "      <td>512590</td>\n",
       "      <td>2</td>\n",
       "      <td>26</td>\n",
       "      <td>2021-03</td>\n",
       "      <td>2021</td>\n",
       "    </tr>\n",
       "    <tr>\n",
       "      <th>18016</th>\n",
       "      <td>30961736803</td>\n",
       "      <td>2021-06-22</td>\n",
       "      <td>Прием первичный</td>\n",
       "      <td>1470</td>\n",
       "      <td>1</td>\n",
       "      <td>512590</td>\n",
       "      <td>2</td>\n",
       "      <td>26</td>\n",
       "      <td>2021-06</td>\n",
       "      <td>2021</td>\n",
       "    </tr>\n",
       "    <tr>\n",
       "      <th>18017</th>\n",
       "      <td>30961736903</td>\n",
       "      <td>2021-06-22</td>\n",
       "      <td>Дуплексное сканирование вен нижних конечностей</td>\n",
       "      <td>2625</td>\n",
       "      <td>1</td>\n",
       "      <td>512590</td>\n",
       "      <td>2</td>\n",
       "      <td>26</td>\n",
       "      <td>2021-06</td>\n",
       "      <td>2021</td>\n",
       "    </tr>\n",
       "    <tr>\n",
       "      <th>29311</th>\n",
       "      <td>31408954403</td>\n",
       "      <td>2021-09-24</td>\n",
       "      <td>Прием первичный</td>\n",
       "      <td>1470</td>\n",
       "      <td>1</td>\n",
       "      <td>512590</td>\n",
       "      <td>2</td>\n",
       "      <td>27</td>\n",
       "      <td>2021-09</td>\n",
       "      <td>2021</td>\n",
       "    </tr>\n",
       "    <tr>\n",
       "      <th>29312</th>\n",
       "      <td>31408954503</td>\n",
       "      <td>2021-09-25</td>\n",
       "      <td>Рентгенография крупного сустава (2 снимка)</td>\n",
       "      <td>1575</td>\n",
       "      <td>1</td>\n",
       "      <td>512590</td>\n",
       "      <td>2</td>\n",
       "      <td>27</td>\n",
       "      <td>2021-09</td>\n",
       "      <td>2021</td>\n",
       "    </tr>\n",
       "    <tr>\n",
       "      <th>29313</th>\n",
       "      <td>31408954603</td>\n",
       "      <td>2021-09-25</td>\n",
       "      <td>Ультразвуковое исследование сустава</td>\n",
       "      <td>1890</td>\n",
       "      <td>1</td>\n",
       "      <td>512590</td>\n",
       "      <td>2</td>\n",
       "      <td>27</td>\n",
       "      <td>2021-09</td>\n",
       "      <td>2021</td>\n",
       "    </tr>\n",
       "    <tr>\n",
       "      <th>29314</th>\n",
       "      <td>31408954703</td>\n",
       "      <td>2021-09-27</td>\n",
       "      <td>Прием повторный</td>\n",
       "      <td>1313</td>\n",
       "      <td>1</td>\n",
       "      <td>512590</td>\n",
       "      <td>2</td>\n",
       "      <td>27</td>\n",
       "      <td>2021-09</td>\n",
       "      <td>2021</td>\n",
       "    </tr>\n",
       "  </tbody>\n",
       "</table>\n",
       "</div>"
      ],
      "text/plain": [
       "         record_id service_date  \\\n",
       "4411   30489299203   2021-03-18   \n",
       "4412   30489299303   2021-03-27   \n",
       "4413   30489299403   2021-03-27   \n",
       "4414   30489299503   2021-03-27   \n",
       "4415   30489299603   2021-03-27   \n",
       "4416   30489299703   2021-03-27   \n",
       "4417   30489299803   2021-03-27   \n",
       "4418   30489299903   2021-03-27   \n",
       "4419   30489300003   2021-03-27   \n",
       "4420   30489300103   2021-03-27   \n",
       "4421   30489300203   2021-03-27   \n",
       "4422   30489300303   2021-03-27   \n",
       "4423   30489300403   2021-03-27   \n",
       "4424   30489300503   2021-03-29   \n",
       "4425   30489300603   2021-03-29   \n",
       "18016  30961736803   2021-06-22   \n",
       "18017  30961736903   2021-06-22   \n",
       "29311  31408954403   2021-09-24   \n",
       "29312  31408954503   2021-09-25   \n",
       "29313  31408954603   2021-09-25   \n",
       "29314  31408954703   2021-09-27   \n",
       "\n",
       "                                         service_name  service_amount  \\\n",
       "4411                                  Прием первичный            1470   \n",
       "4412    Общий анализ крови (лейкоцитарная форм,, СОЭ)             693   \n",
       "4413                                Общий анализ мочи             431   \n",
       "4414                    Альфа-амилаза панкреатическая             287   \n",
       "4415                     АЛТ (аланинаминотрансфераза)             278   \n",
       "4416                   АСТ (аспартатаминотрансфераза)             242   \n",
       "4417                                  Билирубин общий             287   \n",
       "4418                ГГТ (гамма - глютамилтрансфераза)             287   \n",
       "4419                                    Глюкоза крови             273   \n",
       "4420                               Фосфотаза щелочная             287   \n",
       "4421              Взятие крови из периферической вены             158   \n",
       "4422                       Эзофагогастродуоденоскопия            2678   \n",
       "4423      Ультразвуковое исследование брюшной полости            2100   \n",
       "4424                                  Прием первичный            1470   \n",
       "4425                                  Прием повторный            1313   \n",
       "18016                                 Прием первичный            1470   \n",
       "18017  Дуплексное сканирование вен нижних конечностей            2625   \n",
       "29311                                 Прием первичный            1470   \n",
       "29312      Рентгенография крупного сустава (2 снимка)            1575   \n",
       "29313             Ультразвуковое исследование сустава            1890   \n",
       "29314                                 Прием повторный            1313   \n",
       "\n",
       "       service_number  insured  sex_id  age_for_service_date    month  year  \n",
       "4411                1   512590       2                    26  2021-03  2021  \n",
       "4412                1   512590       2                    26  2021-03  2021  \n",
       "4413                1   512590       2                    26  2021-03  2021  \n",
       "4414                1   512590       2                    26  2021-03  2021  \n",
       "4415                1   512590       2                    26  2021-03  2021  \n",
       "4416                1   512590       2                    26  2021-03  2021  \n",
       "4417                1   512590       2                    26  2021-03  2021  \n",
       "4418                1   512590       2                    26  2021-03  2021  \n",
       "4419                1   512590       2                    26  2021-03  2021  \n",
       "4420                1   512590       2                    26  2021-03  2021  \n",
       "4421                1   512590       2                    26  2021-03  2021  \n",
       "4422                1   512590       2                    26  2021-03  2021  \n",
       "4423                1   512590       2                    26  2021-03  2021  \n",
       "4424                1   512590       2                    26  2021-03  2021  \n",
       "4425                1   512590       2                    26  2021-03  2021  \n",
       "18016               1   512590       2                    26  2021-06  2021  \n",
       "18017               1   512590       2                    26  2021-06  2021  \n",
       "29311               1   512590       2                    27  2021-09  2021  \n",
       "29312               1   512590       2                    27  2021-09  2021  \n",
       "29313               1   512590       2                    27  2021-09  2021  \n",
       "29314               1   512590       2                    27  2021-09  2021  "
      ]
     },
     "metadata": {},
     "output_type": "display_data"
    }
   ],
   "source": [
    "display(data.query('insured==512590'))"
   ]
  },
  {
   "cell_type": "markdown",
   "id": "018cfd70",
   "metadata": {},
   "source": [
    "кажется, все корректно"
   ]
  },
  {
   "cell_type": "code",
   "execution_count": 63,
   "id": "25b3255f",
   "metadata": {
    "scrolled": false
   },
   "outputs": [
    {
     "data": {
      "text/plain": [
       "count    85369.000000\n",
       "mean      1166.094636\n",
       "std        799.062660\n",
       "min        147.000000\n",
       "25%        550.000000\n",
       "50%       1155.000000\n",
       "75%       1530.000000\n",
       "max      26999.000000\n",
       "Name: service_amount, dtype: float64"
      ]
     },
     "execution_count": 63,
     "metadata": {},
     "output_type": "execute_result"
    }
   ],
   "source": [
    "#посмотрим, нет ли проблем с данными по ценам на услуги, например, отрицательных значений\n",
    "data['service_amount'].describe()"
   ]
  },
  {
   "cell_type": "markdown",
   "id": "85a28781",
   "metadata": {},
   "source": [
    "<h3>Работа с датами</h3>"
   ]
  },
  {
   "cell_type": "code",
   "execution_count": 15,
   "id": "117e23af",
   "metadata": {},
   "outputs": [],
   "source": [
    "#поменяем тип даты и добавим два новых столбца, чтобы удобнее было считать общую динамику\n",
    "data['service_date'] = pd.to_datetime(data['service_date'])\n",
    "data['month']= pd.to_datetime(data['service_date']).dt.strftime('%Y-%m')\n",
    "data['year'] = pd.to_datetime(data['service_date']).dt.strftime('%Y')"
   ]
  },
  {
   "cell_type": "markdown",
   "id": "2f29f3f9",
   "metadata": {},
   "source": [
    "<h2>Анализ данных</h2>"
   ]
  },
  {
   "cell_type": "markdown",
   "id": "92e3508b",
   "metadata": {},
   "source": [
    "<h3>Гипотеза: цена осталась прежней</h3>"
   ]
  },
  {
   "cell_type": "code",
   "execution_count": 184,
   "id": "25823b8f",
   "metadata": {},
   "outputs": [
    {
     "name": "stdout",
     "output_type": "stream",
     "text": [
      "                      0        1\n",
      "year               2021     2022\n",
      "service_amount  1138.98  1195.47\n",
      "Рост средней стоимости услуги в 2022 году 4.96%\n"
     ]
    }
   ],
   "source": [
    "#сгруппируем данные о средних ценах услуг по годам\n",
    "year_price = data.groupby('year', as_index=False)['service_amount'].mean().round(2).T\n",
    "diff_year=round(((year_price.loc['service_amount',1] - year_price.loc['service_amount',0]) / year_price.loc['service_amount',0]) * 100, 2)\n",
    "print(year_price)\n",
    "print(f'Рост средней стоимости услуги в 2022 году {diff_year}%')"
   ]
  },
  {
   "cell_type": "markdown",
   "id": "a929fe06",
   "metadata": {},
   "source": [
    "Средняя стоимость услуги в медцентре определенно выросла"
   ]
  },
  {
   "cell_type": "code",
   "execution_count": 185,
   "id": "83dffc2d",
   "metadata": {
    "scrolled": true
   },
   "outputs": [
    {
     "name": "stdout",
     "output_type": "stream",
     "text": [
      "      month  service_amount\n",
      "0   2021-01     1121.192974\n",
      "1   2021-02     1122.228774\n",
      "2   2021-03     1062.567100\n",
      "3   2021-04     1132.201344\n",
      "4   2021-05     1134.893875\n",
      "5   2021-06     1155.194125\n",
      "6   2021-07     1092.301551\n",
      "7   2021-08     1139.870175\n",
      "8   2021-09     1130.966895\n",
      "9   2021-10     1197.153011\n",
      "10  2021-11     1165.274914\n",
      "11  2021-12     1168.458489\n",
      "12  2022-01     1158.657977\n",
      "13  2022-02     1155.306367\n",
      "14  2022-03     1162.981792\n",
      "15  2022-04     1200.699342\n",
      "16  2022-05     1190.478506\n",
      "17  2022-06     1193.335646\n",
      "18  2022-07     1284.135096\n",
      "19  2022-08     1227.394850\n"
     ]
    }
   ],
   "source": [
    "monthly=data.groupby('month', as_index=False)['service_amount'].mean()\n",
    "print(monthly)"
   ]
  },
  {
   "cell_type": "code",
   "execution_count": 186,
   "id": "0251cfd4",
   "metadata": {
    "scrolled": false
   },
   "outputs": [
    {
     "data": {
      "image/png": "[encoded data removed]",
      "text/plain": [
       "<Figure size 432x288 with 1 Axes>"
      ]
     },
     "metadata": {
      "needs_background": "light"
     },
     "output_type": "display_data"
    }
   ],
   "source": [
    "sns.lineplot(data=data, x='month', y='service_amount')\n",
    "plt.xticks(rotation=45)\n",
    "plt.title('Помесячная динамика средней стоимости услуги')\n",
    "plt.xlabel('Дата')\n",
    "plt.ylabel('Стоимость')\n",
    "plt.show();\n",
    "\n"
   ]
  },
  {
   "cell_type": "markdown",
   "id": "0a3a513f",
   "metadata": {},
   "source": [
    "Пики цены - сентябрь 2021 года и июнь 2022\n",
    "Данные за 22 год есть с января по август включительно"
   ]
  },
  {
   "cell_type": "markdown",
   "id": "0b0197fb",
   "metadata": {},
   "source": [
    "<b>Гипотеза не подтвердилась: средняя цена услуг выросла</b>\n",
    "Есть постоянная сезонная динамика, связанная, вероятно, с типом сезонных услуг и их стоимостью"
   ]
  },
  {
   "cell_type": "markdown",
   "id": "9f355eff",
   "metadata": {},
   "source": [
    "<h3>Гипотеза: произошло какое событие, спровоцировавшее частые заказы  в 2022 году более дорогих услуг</h3>"
   ]
  },
  {
   "cell_type": "code",
   "execution_count": 188,
   "id": "29a0ede4",
   "metadata": {
    "scrolled": true
   },
   "outputs": [
    {
     "data": {
      "image/png": "[encoded data removed]",
      "text/plain": [
       "<Figure size 432x288 with 1 Axes>"
      ]
     },
     "metadata": {
      "needs_background": "light"
     },
     "output_type": "display_data"
    }
   ],
   "source": [
    "#проверим, есть ли выбросы в динамике по значениям и в какой ценовой зоне находится большая часть услуг\n",
    "sns.scatterplot(x='service_amount', y='month', data=data)\n",
    "plt.title('Помесячная стоимость услуг')\n",
    "plt.xlabel('Стоимость услуги')\n",
    "plt.ylabel('Месяц')\n",
    "plt.show();"
   ]
  },
  {
   "cell_type": "markdown",
   "id": "3e8a25fa",
   "metadata": {},
   "source": [
    "Большая часть услуг сгруппирована в диапазоне до 5000 рублей, выглядит похоже на реальность, есть выбросы, но  заметного изменения общей картины по сравнению с 2021 годом нет.\n",
    "<b>Гипотеза не подтвердилась: заметного изменения нет</b>"
   ]
  },
  {
   "cell_type": "markdown",
   "id": "084c37f5",
   "metadata": {},
   "source": [
    "<h3>Гипотеза: общее лечение в клинике стало обходиться дороже за счет включения большего количества услуг в план лечения</h3>"
   ]
  },
  {
   "cell_type": "code",
   "execution_count": 192,
   "id": "736c2c32",
   "metadata": {},
   "outputs": [],
   "source": [
    "#сделаем сравнительные таблицы по 8 месяцев от начала каждого года \n",
    "year_2021 = data[data['year'] == '2021']\n",
    "year_2021 = data[data['month'] < '2021-09'] \n",
    "\n",
    "year_2022 = data[data['year'] == '2022']"
   ]
  },
  {
   "cell_type": "code",
   "execution_count": 203,
   "id": "1f1e8a85",
   "metadata": {
    "scrolled": false
   },
   "outputs": [
    {
     "name": "stdout",
     "output_type": "stream",
     "text": [
      "Медианная сумма за аналогичные периоды выросла с 9188.0 на 5.9% и составила 9730.0\n"
     ]
    }
   ],
   "source": [
    "#узнаем, сколько страховая платила за одинаковые периоды обслуживания за одного застрахованного в медцентре\n",
    "#возьмем медианные значения, поскольку они более устойчивы к выбросам\n",
    "\n",
    "median_sum_2021=year_2021.groupby(['insured'])['service_amount'].sum().median()\n",
    "median_sum_2022=year_2022.groupby(['insured'])['service_amount'].sum().median()\n",
    "diff=round(((median_sum_2022-median_sum_2021)/median_sum_2021*100),2)\n",
    "\n",
    "\n",
    "print(f'Медианная сумма за аналогичные периоды выросла с {median_sum_2021} на {diff}% и составила {median_sum_2022}')"
   ]
  },
  {
   "cell_type": "markdown",
   "id": "6c80a0c2",
   "metadata": {},
   "source": [
    "Проверим, выросла только медианная стоимость или объем услуг тоже<br>\n",
    "Если сумма, потраченная на застрахованного за период, выросла, а количество услуг - нет, значит, выросла именно стоимость услуг"
   ]
  },
  {
   "cell_type": "code",
   "execution_count": 194,
   "id": "75a5c2ea",
   "metadata": {},
   "outputs": [
    {
     "name": "stdout",
     "output_type": "stream",
     "text": [
      "Медианное количество обращений в медцентр в 2021 году 8.0, а в 2022 - 8.0\n"
     ]
    }
   ],
   "source": [
    "#сколько было зарегистрированных случаев обращений на пациента\n",
    "#также возьмем медианные значение как более устойчивые к выбросам\n",
    "med_visits_2021=year_2021.groupby('insured')['service_amount'].count().median()\n",
    "med_visits_2022=year_2022.groupby('insured')['service_amount'].count().median()\n",
    "\n",
    "print(f'Медианное количество обращений в медцентр в 2021 году {med_visits_2021}, а в 2022 - {med_visits_2022}')"
   ]
  },
  {
   "cell_type": "markdown",
   "id": "cfc25289",
   "metadata": {},
   "source": [
    "<b>Гипотеза не подтвердилась: за 8 месяцев - 8 обращений от пациента, вне зависимости от года</b>"
   ]
  },
  {
   "cell_type": "markdown",
   "id": "93afc7e0",
   "metadata": {},
   "source": [
    "<h3>Гипотеза: стоимость услуг была повышена в связи большим приростом клиентской базы</h3>"
   ]
  },
  {
   "cell_type": "code",
   "execution_count": 54,
   "id": "2b347ae9",
   "metadata": {
    "scrolled": true
   },
   "outputs": [
    {
     "name": "stdout",
     "output_type": "stream",
     "text": [
      "в 2021 году в клинику обратилось 1733 пациентов, а в 2022 2757, что составляет 59.09% роста базы за год \n"
     ]
    }
   ],
   "source": [
    "#посчитаем базу пациентов для уверенности\n",
    "ins_count_2021=len(year_2021['insured'].unique())\n",
    "ins_count_2022= len(year_2022['insured'].unique())\n",
    "grow_persons = round(((ins_count_2022-ins_count_2021)/ins_count_2021*100),2)\n",
    "print(f'в 2021 году в клинику обратилось {ins_count_2021} пациентов, а в 2022 {ins_count_2022}, что составляет {grow_persons}% роста базы за год ')"
   ]
  },
  {
   "cell_type": "markdown",
   "id": "54b1e2ca",
   "metadata": {},
   "source": [
    "<b>Гипотеза подтвердилась: база обратившихся застрахованных выросла значительно</b>\n",
    "\n",
    "Вероятно, выросла популярность клиники. Как правило, рост популярности логичным образом влечет за собой рост цен."
   ]
  },
  {
   "attachments": {},
   "cell_type": "markdown",
   "id": "d3298007",
   "metadata": {},
   "source": [
    "<h3>Гипотеза: клиника изменила цены на какие-то конкретные типовые, часто заказываемые услуги</h3>"
   ]
  },
  {
   "cell_type": "markdown",
   "id": "fe632174",
   "metadata": {},
   "source": [
    "Средняя и медианная стоимость услуг выросли. Проверим, выросла ли стоимость или частотность каких-то конкрентных услуг, что дало общий рост? Возможно, произошла эпидемия нового вируса, и в прайслист добавили новую дорогую прививку.\n",
    "На графике 2.2 видно, что большая часть услуг сгруппирована в диапазоне до 5000 рублей. Выделим типичные ценовые значения за разные годы."
   ]
  },
  {
   "cell_type": "markdown",
   "id": "b35c0110",
   "metadata": {},
   "source": [
    "<h4>Найдем часто появляющиеся в датасете услуги с их ценами</h4>"
   ]
  },
  {
   "cell_type": "code",
   "execution_count": 198,
   "id": "70f58f9f",
   "metadata": {},
   "outputs": [
    {
     "data": {
      "text/plain": [
       "count    26736.000000\n",
       "mean      1120.494913\n",
       "std        818.483224\n",
       "min        147.000000\n",
       "25%        525.000000\n",
       "50%       1092.000000\n",
       "75%       1470.000000\n",
       "max      26999.000000\n",
       "Name: service_amount, dtype: float64"
      ]
     },
     "execution_count": 198,
     "metadata": {},
     "output_type": "execute_result"
    }
   ],
   "source": [
    "year_2021['service_amount'].describe()"
   ]
  },
  {
   "cell_type": "code",
   "execution_count": 199,
   "id": "f90a5cfc",
   "metadata": {
    "scrolled": true
   },
   "outputs": [
    {
     "data": {
      "text/plain": [
       "count    40977.000000\n",
       "mean      1195.467262\n",
       "std        779.103772\n",
       "min        150.000000\n",
       "25%        600.000000\n",
       "50%       1200.000000\n",
       "75%       1540.000000\n",
       "max      13000.000000\n",
       "Name: service_amount, dtype: float64"
      ]
     },
     "execution_count": 199,
     "metadata": {},
     "output_type": "execute_result"
    }
   ],
   "source": [
    "year_2022['service_amount'].describe()"
   ]
  },
  {
   "cell_type": "code",
   "execution_count": 202,
   "id": "6060718b",
   "metadata": {},
   "outputs": [
    {
     "data": {
      "image/png": "[encoded data removed]",
      "text/plain": [
       "<Figure size 1080x360 with 1 Axes>"
      ]
     },
     "metadata": {
      "needs_background": "light"
     },
     "output_type": "display_data"
    },
    {
     "data": {
      "image/png": "[encoded data removed]",
      "text/plain": [
       "<Figure size 432x288 with 1 Axes>"
      ]
     },
     "metadata": {
      "needs_background": "light"
     },
     "output_type": "display_data"
    }
   ],
   "source": [
    "#Нарисуем графики, взяв типичные ценовые значения в примерных границах от минимального значения до чуть выше 75 перцентиля\n",
    "plt.figure(figsize=(15, 5))\n",
    "ax1 = plt.subplot(1, 2, 1)\n",
    "plt.hist(year_2021['service_amount'], bins=60, range=(147, 2000))\n",
    "plt.title('Стоимость типичных услуг 2021')\n",
    "plt.xlabel('Cтоимость')\n",
    "plt.ylabel('Количество обращений')\n",
    "plt.show()\n",
    "\n",
    "\n",
    "plt.hist(year_2022['service_amount'], bins=60, range=(147, 2000))\n",
    "\n",
    "plt.title('Стоимость типичных услуг 2022')\n",
    "plt.xlabel('Cтоимость')\n",
    "plt.ylabel('Количество обращений')\n",
    "plt.show()\n"
   ]
  },
  {
   "cell_type": "markdown",
   "id": "52ecbb30",
   "metadata": {},
   "source": [
    "Любопытно, что в 2021 году заметно большое количество обращений за услугой стоимостью чуть ниже 1500, а в 2022 - пик еще выше прошлогоднего, но с ценой чуть выше 1500. Что бы это могло быть?"
   ]
  },
  {
   "cell_type": "code",
   "execution_count": 24,
   "id": "acc9b062",
   "metadata": {
    "scrolled": true
   },
   "outputs": [
    {
     "data": {
      "text/plain": [
       "service_name\n",
       "Прием первичный                                          4477\n",
       "Прием повторный                                          3295\n",
       "Рентгенография шейного отдела позвоночника (2 снимка)      99\n",
       "Классический лечебный массаж спины                         99\n",
       "Расширеная кольпоскопия                                    89\n",
       "Name: service_amount, dtype: int64"
      ]
     },
     "execution_count": 24,
     "metadata": {},
     "output_type": "execute_result"
    }
   ],
   "source": [
    "#вероятные кандидаты на роль пиков в 2021 году между 1300 и 1500 рублей\n",
    "candidates_one=year_2021.query(\"1300<service_amount <1500\")\n",
    "candidates_one.groupby('service_name')['service_amount'].count().sort_values(ascending=False).head(5)\n",
    "\n"
   ]
  },
  {
   "cell_type": "code",
   "execution_count": 204,
   "id": "4c84d8fb",
   "metadata": {
    "scrolled": true
   },
   "outputs": [
    {
     "data": {
      "text/plain": [
       "service_name\n",
       "Прием трапевта, первичный          809\n",
       "Прием отоларинголога, первичный    615\n",
       "Прием невролога, первичный         561\n",
       "Прием офтальмолога,  первичный     423\n",
       "Прием гинеколога, первичный        410\n",
       "Name: service_amount, dtype: int64"
      ]
     },
     "execution_count": 204,
     "metadata": {},
     "output_type": "execute_result"
    }
   ],
   "source": [
    "#вероятные кандидаты на роль пика в 2022 году между 1500 и 1600 рублей\n",
    "candidates_two=year_2022.query(\"1500<service_amount <1600\")\n",
    "candidates_two.groupby('service_name')['service_amount'].count().sort_values(ascending=False).head(5)\n"
   ]
  },
  {
   "cell_type": "code",
   "execution_count": 26,
   "id": "db1b1193",
   "metadata": {},
   "outputs": [
    {
     "data": {
      "text/plain": [
       "service_name\n",
       "Прием гинеколога, повторный               772\n",
       "Прием терапевта , повторный               468\n",
       "Прием гастроэнтеролога, повторный         334\n",
       "Прием невролога, повторный                332\n",
       "Прием травматолога-ортопеда, повторный    310\n",
       "Name: service_amount, dtype: int64"
      ]
     },
     "execution_count": 26,
     "metadata": {},
     "output_type": "execute_result"
    }
   ],
   "source": [
    "#вероятные кандидаты на роль пика в 2022 году между 1300 и 1400 рублями\n",
    "candidates_three=year_2022.query(\"1300<service_amount <1400\")\n",
    "candidates_three.groupby('service_name')['service_amount'].count().sort_values(ascending=False).head(5)\n"
   ]
  },
  {
   "cell_type": "markdown",
   "id": "290f0a26",
   "metadata": {},
   "source": [
    "Очевидно, что с 2021 поменялась структура разметки страховых случаев: кажется \"Прием\" разделился на приемы различных врачей, как повторный, так и первичный\n"
   ]
  },
  {
   "cell_type": "markdown",
   "id": "e027891d",
   "metadata": {},
   "source": [
    "<h4>Сравним цены на типичные услуги год к году</h4>"
   ]
  },
  {
   "cell_type": "code",
   "execution_count": 27,
   "id": "24457281",
   "metadata": {},
   "outputs": [],
   "source": [
    "#попробуем составить прайслист 2022 года\n",
    "pricelist2022= year_2022[['service_name','service_amount','record_id']]. copy ()\n"
   ]
  },
  {
   "cell_type": "code",
   "execution_count": 28,
   "id": "365fa59f",
   "metadata": {},
   "outputs": [
    {
     "name": "stdout",
     "output_type": "stream",
     "text": [
      "40977\n"
     ]
    }
   ],
   "source": [
    "print(len(pricelist2022))"
   ]
  },
  {
   "cell_type": "code",
   "execution_count": 96,
   "id": "e914e849",
   "metadata": {
    "scrolled": true
   },
   "outputs": [
    {
     "name": "stdout",
     "output_type": "stream",
     "text": [
      "service_name                                   service_amount\n",
      "Взятие крови из периферической вены            170               1642\n",
      "Общий анализ крови (лейкоцитарная форм,, СОЭ)  730               1225\n",
      "Магнитотерапия (1 сеанс)                       1090              1142\n",
      "Прием трапевта, первичный                      1540               809\n",
      "Прием гинеколога, повторный                    1380               772\n",
      "Name: record_id, dtype: int64\n"
     ]
    }
   ],
   "source": [
    "#посчитаем количество обращений по каждой услуги с ее ценой\n",
    "grouped2022 = pricelist2022.groupby(['service_name', 'service_amount'])['record_id'].count().sort_values(ascending=False)\n",
    "print(grouped2022.head())"
   ]
  },
  {
   "cell_type": "code",
   "execution_count": 30,
   "id": "5f670f98",
   "metadata": {
    "scrolled": true
   },
   "outputs": [
    {
     "name": "stdout",
     "output_type": "stream",
     "text": [
      "26736\n"
     ]
    }
   ],
   "source": [
    "pricelist2021=year_2021[['service_name','service_amount','record_id']]. copy ()\n",
    "print(len(pricelist2021))"
   ]
  },
  {
   "cell_type": "code",
   "execution_count": 31,
   "id": "4c15483b",
   "metadata": {
    "scrolled": true
   },
   "outputs": [
    {
     "name": "stdout",
     "output_type": "stream",
     "text": [
      "service_name                                   service_amount\n",
      "Прием первичный                                1470              4477\n",
      "Прием повторный                                1313              3295\n",
      "Взятие крови из периферической вены            158               1291\n",
      "Общий анализ крови (лейкоцитарная форм,, СОЭ)  693                995\n",
      "Магнитотерапия (1 сеанс)                       1040               806\n",
      "Name: record_id, dtype: int64\n"
     ]
    }
   ],
   "source": [
    "grouped2021 = pricelist2021.groupby(['service_name', 'service_amount'])['record_id'].count().sort_values(ascending=False)\n",
    "print(grouped2021.head())"
   ]
  },
  {
   "cell_type": "markdown",
   "id": "47f5d65b",
   "metadata": {},
   "source": [
    "Большие пики 2021 года - это первичный (1470) и повторный приемы (1313)\n"
   ]
  },
  {
   "cell_type": "code",
   "execution_count": 205,
   "id": "8094cf8d",
   "metadata": {},
   "outputs": [
    {
     "data": {
      "image/png": "[encoded data removed]",
      "text/plain": [
       "<Figure size 1080x360 with 1 Axes>"
      ]
     },
     "metadata": {
      "needs_background": "light"
     },
     "output_type": "display_data"
    },
    {
     "data": {
      "image/png": "[encoded data removed]",
      "text/plain": [
       "<Figure size 432x288 with 1 Axes>"
      ]
     },
     "metadata": {
      "needs_background": "light"
     },
     "output_type": "display_data"
    },
    {
     "data": {
      "image/png": "[encoded data removed]",
      "text/plain": [
       "<Figure size 432x288 with 1 Axes>"
      ]
     },
     "metadata": {
      "needs_background": "light"
     },
     "output_type": "display_data"
    }
   ],
   "source": [
    "plt.figure(figsize=(15, 5))\n",
    "ax1 = plt.subplot(1, 2, 1)\n",
    "plt.hist(candidates_one['service_amount'], bins=10)\n",
    "plt.title('Стоимость типичных услуг 2021')\n",
    "plt.xlabel('Cтоимость')\n",
    "plt.ylabel('Количество обращений')\n",
    "plt.show()\n",
    "\n",
    "\n",
    "plt.hist(candidates_two['service_amount'], bins=10)\n",
    "plt.title('Стоимость типичных услуг 2022')\n",
    "plt.xlabel('Cтоимость')\n",
    "plt.ylabel('Количество обращений')\n",
    "plt.show()\n",
    "\n",
    "plt.hist(candidates_three['service_amount'], bins=10)\n",
    "plt.title('Стоимость типичных услуг 2022')\n",
    "plt.xlabel('Cтоимость')\n",
    "plt.ylabel('Количество обращений')\n",
    "plt.show()"
   ]
  },
  {
   "cell_type": "code",
   "execution_count": 33,
   "id": "ea8cb5db",
   "metadata": {
    "scrolled": true
   },
   "outputs": [
    {
     "data": {
      "text/plain": [
       "service_name\n",
       "Прием трапевта, первичный                                                                                  809\n",
       "Прием отоларинголога, первичный                                                                            615\n",
       "Прием невролога, первичный                                                                                 561\n",
       "Прием офтальмолога,  первичный                                                                             423\n",
       "Прием гинеколога, первичный                                                                                410\n",
       "Прием хирурга, первичный                                                                                   379\n",
       "Прием травматолога-ортопеда, первичный                                                                     371\n",
       "Прием эндокринолога, первичный                                                                             365\n",
       "Прием дерматолога, первичный                                                                               331\n",
       "Прием гастроэнтеролога, первичный                                                                          293\n",
       "Прием физиотерапевта, первичный                                                                            260\n",
       "Прием уролога, первичный                                                                                   256\n",
       "Прием педиатра,  первичный                                                                                 244\n",
       "Прием кардиолога, первичный                                                                                197\n",
       "Прием аллерголога, первичный                                                                               107\n",
       "Прием онколога, первичный                                                                                  106\n",
       "Прием мануального терапевта, первичный                                                                      82\n",
       "Прием рефлексотерапевта, первичный                                                                          51\n",
       "Прием ревматолога, первичный                                                                                27\n",
       "Прием проктолога, первичный                                                                                 25\n",
       "Наложение фиксирующей повязки сложной                                                                       16\n",
       "Прием пульмонолога, первичный                                                                               16\n",
       "Прием нефролога, первичный                                                                                   8\n",
       "Удаление серной пробки  (за одно ухо)                                                                        6\n",
       "Лечебная пункция сустава с внутрисуставным введением лекарственного препарата (без стоимости препарата)      6\n",
       "Прием анестезиолога, первичный                                                                               4\n",
       "Удаление ушной серы с одной стороны                                                                          4\n",
       "Прием логопеда, первичный                                                                                    1\n",
       "Name: record_id, dtype: int64"
      ]
     },
     "execution_count": 33,
     "metadata": {},
     "output_type": "execute_result"
    }
   ],
   "source": [
    "candidates_two.query('service_amount ==1540').groupby('service_name')['record_id'].count().sort_values(ascending=False)"
   ]
  },
  {
   "cell_type": "code",
   "execution_count": 206,
   "id": "93aa4529",
   "metadata": {
    "scrolled": true
   },
   "outputs": [
    {
     "data": {
      "text/plain": [
       "service_name\n",
       "Прием гинеколога, повторный                                           772\n",
       "Прием терапевта , повторный                                           468\n",
       "Прием гастроэнтеролога, повторный                                     334\n",
       "Прием невролога, повторный                                            332\n",
       "Прием травматолога-ортопеда, повторный                                310\n",
       "Прием уролога, повторный                                              277\n",
       "Прием отоларинголога, повторный                                       267\n",
       "Прием эндокринолога, повторный                                        261\n",
       "Прием физиотерапевта, повторный                                       223\n",
       "Прием педиатра, повторный                                             190\n",
       "Прием хирурга, повторный                                              184\n",
       "Прием кардиолога, повторный                                           153\n",
       "Прием аллерголога, повторный                                           86\n",
       "Прием дерматолога, повторный                                           80\n",
       "Прием мануального терапевта, повторный                                 76\n",
       "Прием офтальмолога, повторный                                          74\n",
       "Прием онколога, повторный                                              62\n",
       "Прием рефлексотерапевта, повторный                                     36\n",
       "Прием пульмонолога, повторный                                          24\n",
       "Ультразвуковое исследование лимфоузлов (один регион с двух сторон)     23\n",
       "Мануальная терапия (1 отдел)                                           18\n",
       "Прием ревматолога, повторный                                           16\n",
       "Рентгенография черепа стандартная (2 снимка)                            6\n",
       "Прием проктолога, повторный                                             3\n",
       "Прием нефролога, повторный                                              2\n",
       "Name: record_id, dtype: int64"
      ]
     },
     "execution_count": 206,
     "metadata": {},
     "output_type": "execute_result"
    }
   ],
   "source": [
    "#кандидаты пик 2022\n",
    "candidates_three.query('service_amount ==1380').groupby('service_name')['record_id'].count().sort_values(ascending=False)"
   ]
  },
  {
   "cell_type": "markdown",
   "id": "5cd418ac",
   "metadata": {},
   "source": [
    "Пики 2021 года - это преимущественно первичный (1470) и повторный приемы (1313)\n",
    "Пики 2022 года - это преимущественно первичный прием врача стоимостью 1540, и повторный прием врача - 1380 рублей\n",
    "\n",
    "Вывод: клиника разбила приемы общие по категориям врачей и подняла цену на них,гипотеза подтвердилась\n"
   ]
  },
  {
   "cell_type": "markdown",
   "id": "cfb58856",
   "metadata": {},
   "source": [
    "<h4>Соберем прайслисты по двум годам</h4>"
   ]
  },
  {
   "cell_type": "code",
   "execution_count": 71,
   "id": "e0db4121",
   "metadata": {},
   "outputs": [
    {
     "data": {
      "text/html": [
       "<div>\n",
       "<style scoped>\n",
       "    .dataframe tbody tr th:only-of-type {\n",
       "        vertical-align: middle;\n",
       "    }\n",
       "\n",
       "    .dataframe tbody tr th {\n",
       "        vertical-align: top;\n",
       "    }\n",
       "\n",
       "    .dataframe thead th {\n",
       "        text-align: right;\n",
       "    }\n",
       "</style>\n",
       "<table border=\"1\" class=\"dataframe\">\n",
       "  <thead>\n",
       "    <tr style=\"text-align: right;\">\n",
       "      <th></th>\n",
       "      <th>service_name</th>\n",
       "      <th>service_amount</th>\n",
       "    </tr>\n",
       "  </thead>\n",
       "  <tbody>\n",
       "    <tr>\n",
       "      <th>0</th>\n",
       "      <td>(Б1 (11))Аллергопанель IgE шерсть кошки, шерст...</td>\n",
       "      <td>1449.0</td>\n",
       "    </tr>\n",
       "    <tr>\n",
       "      <th>1</th>\n",
       "      <td>25-OH витамин D (25-гидроксихолекальциферол)</td>\n",
       "      <td>3255.0</td>\n",
       "    </tr>\n",
       "    <tr>\n",
       "      <th>2</th>\n",
       "      <td>Bordetella pertussis (Слюна)</td>\n",
       "      <td>462.0</td>\n",
       "    </tr>\n",
       "    <tr>\n",
       "      <th>3</th>\n",
       "      <td>CMV (цитомегаловирус) (Кровь)</td>\n",
       "      <td>378.0</td>\n",
       "    </tr>\n",
       "    <tr>\n",
       "      <th>4</th>\n",
       "      <td>CMV (цитомегаловирус) (Слюна)</td>\n",
       "      <td>378.0</td>\n",
       "    </tr>\n",
       "    <tr>\n",
       "      <th>5</th>\n",
       "      <td>CMV (цитомегаловирус) (Соскоб)</td>\n",
       "      <td>378.0</td>\n",
       "    </tr>\n",
       "    <tr>\n",
       "      <th>6</th>\n",
       "      <td>Candida albicans (Соскоб)</td>\n",
       "      <td>378.0</td>\n",
       "    </tr>\n",
       "    <tr>\n",
       "      <th>7</th>\n",
       "      <td>Chlamydia pneumoniae IgA</td>\n",
       "      <td>599.0</td>\n",
       "    </tr>\n",
       "    <tr>\n",
       "      <th>8</th>\n",
       "      <td>Chlamydia pneumoniae IgG</td>\n",
       "      <td>599.0</td>\n",
       "    </tr>\n",
       "    <tr>\n",
       "      <th>9</th>\n",
       "      <td>Chlamydia pneumoniae IgM</td>\n",
       "      <td>599.0</td>\n",
       "    </tr>\n",
       "    <tr>\n",
       "      <th>10</th>\n",
       "      <td>Chlamydia trachomatis (Соскоб)</td>\n",
       "      <td>378.0</td>\n",
       "    </tr>\n",
       "    <tr>\n",
       "      <th>11</th>\n",
       "      <td>Chlamydia trachomatis IgG</td>\n",
       "      <td>599.0</td>\n",
       "    </tr>\n",
       "    <tr>\n",
       "      <th>12</th>\n",
       "      <td>Chlamydia trachomatis IgM</td>\n",
       "      <td>599.0</td>\n",
       "    </tr>\n",
       "    <tr>\n",
       "      <th>13</th>\n",
       "      <td>Cytomegalovirus IgG</td>\n",
       "      <td>599.0</td>\n",
       "    </tr>\n",
       "    <tr>\n",
       "      <th>14</th>\n",
       "      <td>Cytomegalovirus IgM</td>\n",
       "      <td>599.0</td>\n",
       "    </tr>\n",
       "    <tr>\n",
       "      <th>15</th>\n",
       "      <td>EBV (вирус Эпштейна-Барр) (Слюна)</td>\n",
       "      <td>462.0</td>\n",
       "    </tr>\n",
       "    <tr>\n",
       "      <th>16</th>\n",
       "      <td>EBV (вирус Эпштейна-Барр) (Соскоб)</td>\n",
       "      <td>462.0</td>\n",
       "    </tr>\n",
       "    <tr>\n",
       "      <th>17</th>\n",
       "      <td>Echinococcus IgG</td>\n",
       "      <td>599.0</td>\n",
       "    </tr>\n",
       "    <tr>\n",
       "      <th>18</th>\n",
       "      <td>Epstein Barr virus  капсидный антиген IgM</td>\n",
       "      <td>494.0</td>\n",
       "    </tr>\n",
       "    <tr>\n",
       "      <th>19</th>\n",
       "      <td>Epstein Barr virus IgG</td>\n",
       "      <td>494.0</td>\n",
       "    </tr>\n",
       "  </tbody>\n",
       "</table>\n",
       "</div>"
      ],
      "text/plain": [
       "                                         service_name  service_amount\n",
       "0   (Б1 (11))Аллергопанель IgE шерсть кошки, шерст...          1449.0\n",
       "1        25-OH витамин D (25-гидроксихолекальциферол)          3255.0\n",
       "2                        Bordetella pertussis (Слюна)           462.0\n",
       "3                       CMV (цитомегаловирус) (Кровь)           378.0\n",
       "4                       CMV (цитомегаловирус) (Слюна)           378.0\n",
       "5                      CMV (цитомегаловирус) (Соскоб)           378.0\n",
       "6                           Candida albicans (Соскоб)           378.0\n",
       "7                            Chlamydia pneumoniae IgA           599.0\n",
       "8                            Chlamydia pneumoniae IgG           599.0\n",
       "9                            Chlamydia pneumoniae IgM           599.0\n",
       "10                     Chlamydia trachomatis (Соскоб)           378.0\n",
       "11                          Chlamydia trachomatis IgG           599.0\n",
       "12                          Chlamydia trachomatis IgM           599.0\n",
       "13                                Cytomegalovirus IgG           599.0\n",
       "14                                Cytomegalovirus IgM           599.0\n",
       "15                  EBV (вирус Эпштейна-Барр) (Слюна)           462.0\n",
       "16                 EBV (вирус Эпштейна-Барр) (Соскоб)           462.0\n",
       "17                                   Echinococcus IgG           599.0\n",
       "18          Epstein Barr virus  капсидный антиген IgM           494.0\n",
       "19                             Epstein Barr virus IgG           494.0"
      ]
     },
     "metadata": {},
     "output_type": "display_data"
    },
    {
     "name": "stdout",
     "output_type": "stream",
     "text": [
      "596\n"
     ]
    },
    {
     "data": {
      "text/html": [
       "<div>\n",
       "<style scoped>\n",
       "    .dataframe tbody tr th:only-of-type {\n",
       "        vertical-align: middle;\n",
       "    }\n",
       "\n",
       "    .dataframe tbody tr th {\n",
       "        vertical-align: top;\n",
       "    }\n",
       "\n",
       "    .dataframe thead th {\n",
       "        text-align: right;\n",
       "    }\n",
       "</style>\n",
       "<table border=\"1\" class=\"dataframe\">\n",
       "  <thead>\n",
       "    <tr style=\"text-align: right;\">\n",
       "      <th></th>\n",
       "      <th>service_name</th>\n",
       "      <th>service_amount</th>\n",
       "    </tr>\n",
       "  </thead>\n",
       "  <tbody>\n",
       "    <tr>\n",
       "      <th>0</th>\n",
       "      <td>(1 E)Аллергопанель IgE (Молоко коровье, Молоко...</td>\n",
       "      <td>1520.0</td>\n",
       "    </tr>\n",
       "    <tr>\n",
       "      <th>1</th>\n",
       "      <td>(2 E)Аллергопанель IgE (Пшеничная мука, Ржаная...</td>\n",
       "      <td>1520.0</td>\n",
       "    </tr>\n",
       "    <tr>\n",
       "      <th>2</th>\n",
       "      <td>(3 E)Аллергопанель IgE (Фасоль (бобы), Горох, ...</td>\n",
       "      <td>1520.0</td>\n",
       "    </tr>\n",
       "    <tr>\n",
       "      <th>3</th>\n",
       "      <td>(4 E)Аллергопанель IgE (Говядина, Телятина, Св...</td>\n",
       "      <td>1520.0</td>\n",
       "    </tr>\n",
       "    <tr>\n",
       "      <th>4</th>\n",
       "      <td>(Б1 (11))Аллергопанель IgE шерсть кошки, шерст...</td>\n",
       "      <td>1520.0</td>\n",
       "    </tr>\n",
       "    <tr>\n",
       "      <th>5</th>\n",
       "      <td>17-OH - гидроксипрогестерон</td>\n",
       "      <td>610.0</td>\n",
       "    </tr>\n",
       "    <tr>\n",
       "      <th>6</th>\n",
       "      <td>25-OH витамин D (25-гидроксихолекальциферол)</td>\n",
       "      <td>3420.0</td>\n",
       "    </tr>\n",
       "    <tr>\n",
       "      <th>7</th>\n",
       "      <td>Ascaris IgG</td>\n",
       "      <td>830.0</td>\n",
       "    </tr>\n",
       "    <tr>\n",
       "      <th>8</th>\n",
       "      <td>Bordetella (pertusis) IgA</td>\n",
       "      <td>970.0</td>\n",
       "    </tr>\n",
       "    <tr>\n",
       "      <th>9</th>\n",
       "      <td>Bordetella (pertusis) IgG</td>\n",
       "      <td>690.0</td>\n",
       "    </tr>\n",
       "    <tr>\n",
       "      <th>10</th>\n",
       "      <td>Bordetella (pertusis) IgM</td>\n",
       "      <td>660.0</td>\n",
       "    </tr>\n",
       "    <tr>\n",
       "      <th>11</th>\n",
       "      <td>Bordetella pertussis (Соскоб)</td>\n",
       "      <td>500.0</td>\n",
       "    </tr>\n",
       "    <tr>\n",
       "      <th>12</th>\n",
       "      <td>CMV (цитомегаловирус) (Кровь)</td>\n",
       "      <td>400.0</td>\n",
       "    </tr>\n",
       "    <tr>\n",
       "      <th>13</th>\n",
       "      <td>CMV (цитомегаловирус) (Слюна)</td>\n",
       "      <td>400.0</td>\n",
       "    </tr>\n",
       "    <tr>\n",
       "      <th>14</th>\n",
       "      <td>CMV (цитомегаловирус) (Соскоб)</td>\n",
       "      <td>400.0</td>\n",
       "    </tr>\n",
       "    <tr>\n",
       "      <th>15</th>\n",
       "      <td>Chlamydia pneumoniae IgG</td>\n",
       "      <td>690.0</td>\n",
       "    </tr>\n",
       "    <tr>\n",
       "      <th>16</th>\n",
       "      <td>Chlamydia pneumoniae IgM</td>\n",
       "      <td>660.0</td>\n",
       "    </tr>\n",
       "    <tr>\n",
       "      <th>17</th>\n",
       "      <td>Chlamydia trachomatis (Соскоб)</td>\n",
       "      <td>400.0</td>\n",
       "    </tr>\n",
       "    <tr>\n",
       "      <th>18</th>\n",
       "      <td>Chlamydia trachomatis IgA</td>\n",
       "      <td>630.0</td>\n",
       "    </tr>\n",
       "    <tr>\n",
       "      <th>19</th>\n",
       "      <td>Chlamydia trachomatis IgG</td>\n",
       "      <td>630.0</td>\n",
       "    </tr>\n",
       "  </tbody>\n",
       "</table>\n",
       "</div>"
      ],
      "text/plain": [
       "                                         service_name  service_amount\n",
       "0   (1 E)Аллергопанель IgE (Молоко коровье, Молоко...          1520.0\n",
       "1   (2 E)Аллергопанель IgE (Пшеничная мука, Ржаная...          1520.0\n",
       "2   (3 E)Аллергопанель IgE (Фасоль (бобы), Горох, ...          1520.0\n",
       "3   (4 E)Аллергопанель IgE (Говядина, Телятина, Св...          1520.0\n",
       "4   (Б1 (11))Аллергопанель IgE шерсть кошки, шерст...          1520.0\n",
       "5                         17-OH - гидроксипрогестерон           610.0\n",
       "6        25-OH витамин D (25-гидроксихолекальциферол)          3420.0\n",
       "7                                         Ascaris IgG           830.0\n",
       "8                           Bordetella (pertusis) IgA           970.0\n",
       "9                           Bordetella (pertusis) IgG           690.0\n",
       "10                          Bordetella (pertusis) IgM           660.0\n",
       "11                      Bordetella pertussis (Соскоб)           500.0\n",
       "12                      CMV (цитомегаловирус) (Кровь)           400.0\n",
       "13                      CMV (цитомегаловирус) (Слюна)           400.0\n",
       "14                     CMV (цитомегаловирус) (Соскоб)           400.0\n",
       "15                           Chlamydia pneumoniae IgG           690.0\n",
       "16                           Chlamydia pneumoniae IgM           660.0\n",
       "17                     Chlamydia trachomatis (Соскоб)           400.0\n",
       "18                          Chlamydia trachomatis IgA           630.0\n",
       "19                          Chlamydia trachomatis IgG           630.0"
      ]
     },
     "metadata": {},
     "output_type": "display_data"
    },
    {
     "name": "stdout",
     "output_type": "stream",
     "text": [
      "679\n"
     ]
    }
   ],
   "source": [
    "# создадим отдельные таблицы с ценами на услуги за 2021 и 2022 года\n",
    "median_price_2021 = year_2021.groupby('service_name', as_index=False)['service_amount'].median()\n",
    "display(median_price_2021.head(20))\n",
    "print(len(median_price_2021))\n",
    "\n",
    "median_price_2022 = year_2022.groupby('service_name', as_index=False)['service_amount'].median()\n",
    "display(median_price_2022.head(20))\n",
    "print(len(median_price_2022))"
   ]
  },
  {
   "cell_type": "markdown",
   "id": "a9e53332",
   "metadata": {},
   "source": [
    "Тут так же очевидно, что в 2022 расширился ассортимент услуг медцентра: в 2021 их 596, а в 2022 - 679"
   ]
  },
  {
   "cell_type": "code",
   "execution_count": 73,
   "id": "797209fc",
   "metadata": {
    "scrolled": true
   },
   "outputs": [
    {
     "data": {
      "image/png": "[encoded data removed]",
      "text/plain": [
       "<Figure size 1080x360 with 1 Axes>"
      ]
     },
     "metadata": {
      "needs_background": "light"
     },
     "output_type": "display_data"
    }
   ],
   "source": [
    "# построим график распределения цены услуг. (выпилить? не показательно)\n",
    "plt.figure(figsize=(15, 5))\n",
    "sns.kdeplot(data=data, x='service_amount', hue='year')\n",
    "plt.title('Распределение стоимости услуг')\n",
    "plt.xlabel('Стоимость')\n",
    "\n",
    "plt.show()"
   ]
  },
  {
   "cell_type": "markdown",
   "id": "c58bed5e",
   "metadata": {},
   "source": [
    "<h4>Категоризуем по изменениям</h4>"
   ]
  },
  {
   "cell_type": "markdown",
   "id": "33009992",
   "metadata": {},
   "source": [
    "Соединим таблицы, чтобы подорожание стало наглядным<br>\n",
    "Помним, что сюда не входят первичные и вторичные приемы, составляющие большую долю типичных услуг<br>\n",
    "Будем считать это категорией \"другое\"<br>\n"
   ]
  },
  {
   "cell_type": "code",
   "execution_count": 152,
   "id": "578e5a8e",
   "metadata": {
    "scrolled": false
   },
   "outputs": [
    {
     "data": {
      "image/png": "[encoded data removed]",
      "text/plain": [
       "<Figure size 432x288 with 1 Axes>"
      ]
     },
     "metadata": {
      "needs_background": "light"
     },
     "output_type": "display_data"
    }
   ],
   "source": [
    "#смерджим таблички с ценами для наглядности (по тем услугам, которые встречаются за оба периода;\n",
    "diff_data = median_price_2021.merge(median_price_2022, how='inner', on='service_name')\n",
    "diff_data.columns = ['service_name', 'price_2021', 'price_2022']\n",
    "diff_data['diff'] = diff_data['price_2022']-diff_data['price_2021']\n",
    "table_diff=diff_data.sort_values(by='diff', ascending=False)\n",
    "\n",
    "#разметим их по изменениям\n",
    "def cat_diff(diff):\n",
    "    if diff>0:\n",
    "        return 'подорожало'\n",
    "    elif diff==0:\n",
    "        return 'не изменилось'\n",
    "    else:\n",
    "        return 'снизилась'\n",
    "\n",
    "table_diff['cat_diff']=table_diff['diff'].apply(cat_diff)\n",
    "\n",
    "#нарисуем график по этим данным\n",
    "table_diff.groupby('cat_diff')['diff'].count().plot(kind='barh');\n"
   ]
  },
  {
   "cell_type": "code",
   "execution_count": 162,
   "id": "1c83628e",
   "metadata": {
    "scrolled": true
   },
   "outputs": [
    {
     "data": {
      "text/html": [
       "<div>\n",
       "<style scoped>\n",
       "    .dataframe tbody tr th:only-of-type {\n",
       "        vertical-align: middle;\n",
       "    }\n",
       "\n",
       "    .dataframe tbody tr th {\n",
       "        vertical-align: top;\n",
       "    }\n",
       "\n",
       "    .dataframe thead th {\n",
       "        text-align: right;\n",
       "    }\n",
       "</style>\n",
       "<table border=\"1\" class=\"dataframe\">\n",
       "  <thead>\n",
       "    <tr style=\"text-align: right;\">\n",
       "      <th></th>\n",
       "      <th>service_name</th>\n",
       "      <th>price_2021</th>\n",
       "      <th>price_2022</th>\n",
       "      <th>diff</th>\n",
       "      <th>cat_diff</th>\n",
       "    </tr>\n",
       "  </thead>\n",
       "  <tbody>\n",
       "    <tr>\n",
       "      <th>202</th>\n",
       "      <td>МРТ коленного сустава</td>\n",
       "      <td>6195.0</td>\n",
       "      <td>9750.0</td>\n",
       "      <td>3555.0</td>\n",
       "      <td>подорожало</td>\n",
       "    </tr>\n",
       "    <tr>\n",
       "      <th>108</th>\n",
       "      <td>Гистологическое исследование операционного мат...</td>\n",
       "      <td>2426.0</td>\n",
       "      <td>3825.0</td>\n",
       "      <td>1399.0</td>\n",
       "      <td>подорожало</td>\n",
       "    </tr>\n",
       "    <tr>\n",
       "      <th>416</th>\n",
       "      <td>Хирургическое удаление доброкачественной опухо...</td>\n",
       "      <td>7665.0</td>\n",
       "      <td>8400.0</td>\n",
       "      <td>735.0</td>\n",
       "      <td>подорожало</td>\n",
       "    </tr>\n",
       "    <tr>\n",
       "      <th>375</th>\n",
       "      <td>Удаление вросшего ногтя</td>\n",
       "      <td>6300.0</td>\n",
       "      <td>6950.0</td>\n",
       "      <td>650.0</td>\n",
       "      <td>подорожало</td>\n",
       "    </tr>\n",
       "    <tr>\n",
       "      <th>382</th>\n",
       "      <td>Ультразвуковое исследование большие сроки бере...</td>\n",
       "      <td>3045.0</td>\n",
       "      <td>3500.0</td>\n",
       "      <td>455.0</td>\n",
       "      <td>подорожало</td>\n",
       "    </tr>\n",
       "    <tr>\n",
       "      <th>299</th>\n",
       "      <td>Пункция щитовидной или паращитовидной железы (...</td>\n",
       "      <td>4074.0</td>\n",
       "      <td>4500.0</td>\n",
       "      <td>426.0</td>\n",
       "      <td>подорожало</td>\n",
       "    </tr>\n",
       "    <tr>\n",
       "      <th>96</th>\n",
       "      <td>Вскрытие панариция</td>\n",
       "      <td>7665.0</td>\n",
       "      <td>8050.0</td>\n",
       "      <td>385.0</td>\n",
       "      <td>подорожало</td>\n",
       "    </tr>\n",
       "    <tr>\n",
       "      <th>123</th>\n",
       "      <td>Дуплексное сканирование вен верхних конечностей</td>\n",
       "      <td>2625.0</td>\n",
       "      <td>3000.0</td>\n",
       "      <td>375.0</td>\n",
       "      <td>подорожало</td>\n",
       "    </tr>\n",
       "    <tr>\n",
       "      <th>204</th>\n",
       "      <td>МРТ плечевого сустава</td>\n",
       "      <td>7350.0</td>\n",
       "      <td>7720.0</td>\n",
       "      <td>370.0</td>\n",
       "      <td>подорожало</td>\n",
       "    </tr>\n",
       "    <tr>\n",
       "      <th>374</th>\n",
       "      <td>Удаление атеромы</td>\n",
       "      <td>6615.0</td>\n",
       "      <td>6950.0</td>\n",
       "      <td>335.0</td>\n",
       "      <td>подорожало</td>\n",
       "    </tr>\n",
       "    <tr>\n",
       "      <th>298</th>\n",
       "      <td>Пункция с введением лекарственного средства (б...</td>\n",
       "      <td>2195.0</td>\n",
       "      <td>2530.0</td>\n",
       "      <td>335.0</td>\n",
       "      <td>подорожало</td>\n",
       "    </tr>\n",
       "    <tr>\n",
       "      <th>95</th>\n",
       "      <td>Вскрытие абсцесса различной локализации</td>\n",
       "      <td>6405.0</td>\n",
       "      <td>6730.0</td>\n",
       "      <td>325.0</td>\n",
       "      <td>подорожало</td>\n",
       "    </tr>\n",
       "    <tr>\n",
       "      <th>182</th>\n",
       "      <td>Колоноскопия с забором биопсии</td>\n",
       "      <td>6164.0</td>\n",
       "      <td>6470.0</td>\n",
       "      <td>306.0</td>\n",
       "      <td>подорожало</td>\n",
       "    </tr>\n",
       "    <tr>\n",
       "      <th>200</th>\n",
       "      <td>Лечение эрозии шейки матки радиохирургическим ...</td>\n",
       "      <td>5807.0</td>\n",
       "      <td>6100.0</td>\n",
       "      <td>293.0</td>\n",
       "      <td>подорожало</td>\n",
       "    </tr>\n",
       "    <tr>\n",
       "      <th>121</th>\n",
       "      <td>Дуплексное сканирование артерий нижних конечно...</td>\n",
       "      <td>2625.0</td>\n",
       "      <td>2880.0</td>\n",
       "      <td>255.0</td>\n",
       "      <td>подорожало</td>\n",
       "    </tr>\n",
       "    <tr>\n",
       "      <th>203</th>\n",
       "      <td>МРТ крестцово-подвздошных сочленений</td>\n",
       "      <td>5145.0</td>\n",
       "      <td>5400.0</td>\n",
       "      <td>255.0</td>\n",
       "      <td>подорожало</td>\n",
       "    </tr>\n",
       "    <tr>\n",
       "      <th>378</th>\n",
       "      <td>Удаление инородного тела мягких тканей</td>\n",
       "      <td>5145.0</td>\n",
       "      <td>5400.0</td>\n",
       "      <td>255.0</td>\n",
       "      <td>подорожало</td>\n",
       "    </tr>\n",
       "    <tr>\n",
       "      <th>61</th>\n",
       "      <td>Анализ мочи на содержание промежуточных метабо...</td>\n",
       "      <td>2363.0</td>\n",
       "      <td>2605.0</td>\n",
       "      <td>242.0</td>\n",
       "      <td>подорожало</td>\n",
       "    </tr>\n",
       "    <tr>\n",
       "      <th>94</th>\n",
       "      <td>Вскрытие абсцедирующего фурункула</td>\n",
       "      <td>4851.0</td>\n",
       "      <td>5090.0</td>\n",
       "      <td>239.0</td>\n",
       "      <td>подорожало</td>\n",
       "    </tr>\n",
       "    <tr>\n",
       "      <th>181</th>\n",
       "      <td>Колоноскопия</td>\n",
       "      <td>4536.0</td>\n",
       "      <td>4760.0</td>\n",
       "      <td>224.0</td>\n",
       "      <td>подорожало</td>\n",
       "    </tr>\n",
       "  </tbody>\n",
       "</table>\n",
       "</div>"
      ],
      "text/plain": [
       "                                          service_name  price_2021  \\\n",
       "202                              МРТ коленного сустава      6195.0   \n",
       "108  Гистологическое исследование операционного мат...      2426.0   \n",
       "416  Хирургическое удаление доброкачественной опухо...      7665.0   \n",
       "375                            Удаление вросшего ногтя      6300.0   \n",
       "382  Ультразвуковое исследование большие сроки бере...      3045.0   \n",
       "299  Пункция щитовидной или паращитовидной железы (...      4074.0   \n",
       "96                                  Вскрытие панариция      7665.0   \n",
       "123    Дуплексное сканирование вен верхних конечностей      2625.0   \n",
       "204                              МРТ плечевого сустава      7350.0   \n",
       "374                                   Удаление атеромы      6615.0   \n",
       "298  Пункция с введением лекарственного средства (б...      2195.0   \n",
       "95             Вскрытие абсцесса различной локализации      6405.0   \n",
       "182                     Колоноскопия с забором биопсии      6164.0   \n",
       "200  Лечение эрозии шейки матки радиохирургическим ...      5807.0   \n",
       "121  Дуплексное сканирование артерий нижних конечно...      2625.0   \n",
       "203               МРТ крестцово-подвздошных сочленений      5145.0   \n",
       "378             Удаление инородного тела мягких тканей      5145.0   \n",
       "61   Анализ мочи на содержание промежуточных метабо...      2363.0   \n",
       "94                   Вскрытие абсцедирующего фурункула      4851.0   \n",
       "181                                       Колоноскопия      4536.0   \n",
       "\n",
       "     price_2022    diff    cat_diff  \n",
       "202      9750.0  3555.0  подорожало  \n",
       "108      3825.0  1399.0  подорожало  \n",
       "416      8400.0   735.0  подорожало  \n",
       "375      6950.0   650.0  подорожало  \n",
       "382      3500.0   455.0  подорожало  \n",
       "299      4500.0   426.0  подорожало  \n",
       "96       8050.0   385.0  подорожало  \n",
       "123      3000.0   375.0  подорожало  \n",
       "204      7720.0   370.0  подорожало  \n",
       "374      6950.0   335.0  подорожало  \n",
       "298      2530.0   335.0  подорожало  \n",
       "95       6730.0   325.0  подорожало  \n",
       "182      6470.0   306.0  подорожало  \n",
       "200      6100.0   293.0  подорожало  \n",
       "121      2880.0   255.0  подорожало  \n",
       "203      5400.0   255.0  подорожало  \n",
       "378      5400.0   255.0  подорожало  \n",
       "61       2605.0   242.0  подорожало  \n",
       "94       5090.0   239.0  подорожало  \n",
       "181      4760.0   224.0  подорожало  "
      ]
     },
     "execution_count": 162,
     "metadata": {},
     "output_type": "execute_result"
    }
   ],
   "source": [
    "table_diff.head(20)"
   ]
  },
  {
   "cell_type": "code",
   "execution_count": 218,
   "id": "860b7a0e",
   "metadata": {},
   "outputs": [
    {
     "name": "stdout",
     "output_type": "stream",
     "text": [
      "                                          service_name  price_2021  \\\n",
      "0    (Б1 (11))Аллергопанель IgE шерсть кошки, шерст...      1449.0   \n",
      "1         25-OH витамин D (25-гидроксихолекальциферол)      3255.0   \n",
      "2                        CMV (цитомегаловирус) (Кровь)       378.0   \n",
      "3                        CMV (цитомегаловирус) (Слюна)       378.0   \n",
      "4                       CMV (цитомегаловирус) (Соскоб)       378.0   \n",
      "..                                                 ...         ...   \n",
      "434                                    Эпителий собаки      1155.0   \n",
      "435                                          Эстрадиол       630.0   \n",
      "436           Эхокардиография с допплеровским анализом      3465.0   \n",
      "437                                      альфа-амилаза       287.0   \n",
      "438         бета-ХГЧ (бета-хорионический гонадотропин)       756.0   \n",
      "\n",
      "     price_2022   diff  difference, %  \n",
      "0        1520.0   71.0       4.899931  \n",
      "1        3420.0  165.0       5.069124  \n",
      "2         400.0   22.0       5.820106  \n",
      "3         400.0   22.0       5.820106  \n",
      "4         400.0   22.0       5.820106  \n",
      "..          ...    ...            ...  \n",
      "434      1210.0   55.0       4.761905  \n",
      "435       660.0   30.0       4.761905  \n",
      "436      3640.0  175.0       5.050505  \n",
      "437       300.0   13.0       4.529617  \n",
      "438       790.0   34.0       4.497354  \n",
      "\n",
      "[439 rows x 5 columns]\n",
      "средний рост цены услуги: 5.09 %\n"
     ]
    }
   ],
   "source": [
    "\n",
    "# посчитаем разницу в процентах\n",
    "diff_data['difference, %'] = ((diff_data['price_2022'] - diff_data['price_2021']) /diff_data['price_2021']) * 100\n",
    "\n",
    "#средний рост цен на услуги\n",
    "grow=round(diff_data['difference, %'].mean(), 2)\n",
    "    \n",
    "print(diff_data)\n",
    "print(f'средний рост цены услуги: {grow} %')"
   ]
  },
  {
   "cell_type": "markdown",
   "id": "f21dd446",
   "metadata": {},
   "source": [
    "Вывод: пересекающиеся услуги подорожали практически все, что косвенным образом, вероятно, связано с ростом популярности клиники. В наибольшей степени подорожали МРТ и хирургия. что вероятно, связано с подорожанием расходников и логистики в 2022 году.\n",
    "Средний рост пересекающихся услуг - 5.09 %\n",
    "\n"
   ]
  },
  {
   "cell_type": "markdown",
   "id": "fed68019",
   "metadata": {},
   "source": [
    "<h3>Гипотеза: цены услуг связаны с полом застрахованного</h3>"
   ]
  },
  {
   "cell_type": "code",
   "execution_count": 212,
   "id": "87054c55",
   "metadata": {},
   "outputs": [
    {
     "name": "stdout",
     "output_type": "stream",
     "text": [
      "2021\n",
      "-0.01585989508796264\n"
     ]
    }
   ],
   "source": [
    "#посчитаем корреляцию между полом и ценой услуги\n",
    "print('2021')\n",
    "print(year_2021['sex_id'].corr(year_2021['service_amount']))\n",
    "\n"
   ]
  },
  {
   "cell_type": "code",
   "execution_count": 213,
   "id": "2acdea71",
   "metadata": {
    "scrolled": true
   },
   "outputs": [
    {
     "name": "stdout",
     "output_type": "stream",
     "text": [
      "2022\n",
      "0.0057697597770907895\n"
     ]
    }
   ],
   "source": [
    "print('2022')\n",
    "print(year_2022['sex_id'].corr(year_2022['service_amount']))\n"
   ]
  },
  {
   "cell_type": "markdown",
   "id": "b7273c7b",
   "metadata": {},
   "source": [
    "Гипотеза не подтвердилась - корреляция минимальна"
   ]
  },
  {
   "cell_type": "markdown",
   "id": "84075c94",
   "metadata": {},
   "source": [
    "<h3>Гипотеза: цены услуг связаны с возрастом застрахованного</h3>"
   ]
  },
  {
   "cell_type": "code",
   "execution_count": 214,
   "id": "beb760b5",
   "metadata": {},
   "outputs": [
    {
     "name": "stdout",
     "output_type": "stream",
     "text": [
      "2021\n",
      "0.02099631172713259\n"
     ]
    }
   ],
   "source": [
    "#посчитаем корреляцию между полом и ценой услуги\n",
    "print('2021')\n",
    "print(year_2021['age_for_service_date'].corr(year_2021['service_amount']))"
   ]
  },
  {
   "cell_type": "code",
   "execution_count": 216,
   "id": "02555a57",
   "metadata": {},
   "outputs": [
    {
     "name": "stdout",
     "output_type": "stream",
     "text": [
      "2022\n",
      "0.0010939114503073497\n"
     ]
    }
   ],
   "source": [
    "print('2022')\n",
    "print(year_2022['age_for_service_date'].corr(year_2022['service_amount']))"
   ]
  },
  {
   "cell_type": "markdown",
   "id": "87f8c022",
   "metadata": {},
   "source": [
    "Гипотеза не подтвердилась - корреляция минимальна"
   ]
  },
  {
   "cell_type": "markdown",
   "id": "320be4d7",
   "metadata": {},
   "source": [
    "Вывод: \n",
    "- с 2021 поменялась структура разметки страховых данных в медцентре: первичный прием (общий) в 2022 начали делить по врачам и повысили его стоимость\n",
    "- В 2021 году первичный прием врача стоил 1470, а повторный 1313, в 2022 первичный прием вырос до 1540, и повторный до 1380 рублей\n",
    "-  В среднем цена других повторяющихся услуг увеличилась на 5.09%.\n",
    "- популярность клиники выросла в 2022 году, обычно это провоцирует повышение стоимости, так что тоже могло стать причиной\n",
    "- в наибольшей степени подорожали МРТ и хирургия. что вероятно, связано с подорожанием расходников и логистики в 2022 году."
   ]
  },
  {
   "cell_type": "code",
   "execution_count": null,
   "id": "6b0ecaf8",
   "metadata": {},
   "outputs": [],
   "source": []
  }
 ],
 "metadata": {
  "ExecuteTimeLog": [
   {
    "duration": 428,
    "start_time": "2023-12-14T10:40:12.784Z"
   },
   {
    "duration": 9111,
    "start_time": "2023-12-14T10:41:54.918Z"
   },
   {
    "duration": 72,
    "start_time": "2023-12-14T10:50:56.207Z"
   },
   {
    "duration": 18,
    "start_time": "2023-12-14T10:51:05.527Z"
   },
   {
    "duration": 9,
    "start_time": "2023-12-14T10:51:49.325Z"
   },
   {
    "duration": 7,
    "start_time": "2023-12-14T10:52:32.598Z"
   },
   {
    "duration": 8,
    "start_time": "2023-12-14T10:52:49.698Z"
   },
   {
    "duration": 9,
    "start_time": "2023-12-14T10:53:43.959Z"
   },
   {
    "duration": 4,
    "start_time": "2023-12-14T10:54:04.582Z"
   },
   {
    "duration": 6,
    "start_time": "2023-12-14T10:56:02.432Z"
   },
   {
    "duration": 4,
    "start_time": "2023-12-14T10:56:16.427Z"
   },
   {
    "duration": 3,
    "start_time": "2023-12-14T10:56:41.191Z"
   },
   {
    "duration": 4,
    "start_time": "2023-12-14T10:56:44.781Z"
   },
   {
    "duration": 22,
    "start_time": "2023-12-14T10:57:15.265Z"
   },
   {
    "duration": 12,
    "start_time": "2023-12-14T10:57:36.272Z"
   },
   {
    "duration": 8,
    "start_time": "2023-12-14T11:00:17.631Z"
   },
   {
    "duration": 6,
    "start_time": "2023-12-14T11:00:24.832Z"
   },
   {
    "duration": 42,
    "start_time": "2023-12-14T11:01:40.010Z"
   },
   {
    "duration": 15,
    "start_time": "2023-12-14T11:04:02.231Z"
   },
   {
    "duration": 3,
    "start_time": "2023-12-14T11:05:02.599Z"
   },
   {
    "duration": 6,
    "start_time": "2023-12-14T12:43:42.290Z"
   },
   {
    "duration": 44,
    "start_time": "2023-12-17T13:01:44.906Z"
   },
   {
    "duration": 343,
    "start_time": "2023-12-17T13:01:51.864Z"
   },
   {
    "duration": 8357,
    "start_time": "2023-12-17T13:01:54.213Z"
   },
   {
    "duration": 13,
    "start_time": "2023-12-17T13:02:02.571Z"
   },
   {
    "duration": 45,
    "start_time": "2023-12-17T13:02:13.213Z"
   },
   {
    "duration": 32,
    "start_time": "2023-12-17T13:07:41.905Z"
   },
   {
    "duration": 6,
    "start_time": "2023-12-17T13:07:54.773Z"
   },
   {
    "duration": 8,
    "start_time": "2023-12-17T13:08:01.099Z"
   },
   {
    "duration": 8,
    "start_time": "2023-12-17T13:08:22.033Z"
   },
   {
    "duration": 323,
    "start_time": "2023-12-17T13:08:35.157Z"
   },
   {
    "duration": 7785,
    "start_time": "2023-12-17T13:08:35.481Z"
   },
   {
    "duration": 13,
    "start_time": "2023-12-17T13:08:43.267Z"
   },
   {
    "duration": 44,
    "start_time": "2023-12-17T13:08:43.281Z"
   },
   {
    "duration": 3,
    "start_time": "2023-12-17T13:08:43.327Z"
   },
   {
    "duration": 3,
    "start_time": "2023-12-17T13:08:43.331Z"
   },
   {
    "duration": 7,
    "start_time": "2023-12-17T13:08:43.335Z"
   },
   {
    "duration": 8,
    "start_time": "2023-12-17T13:08:43.343Z"
   },
   {
    "duration": 15,
    "start_time": "2023-12-17T13:08:43.352Z"
   },
   {
    "duration": 7,
    "start_time": "2023-12-17T13:08:43.368Z"
   },
   {
    "duration": 19,
    "start_time": "2023-12-17T13:08:43.376Z"
   },
   {
    "duration": 63,
    "start_time": "2023-12-17T13:09:29.406Z"
   },
   {
    "duration": 7,
    "start_time": "2023-12-17T13:09:35.148Z"
   },
   {
    "duration": 6,
    "start_time": "2023-12-17T13:11:07.589Z"
   },
   {
    "duration": 5,
    "start_time": "2023-12-17T13:11:39.631Z"
   },
   {
    "duration": 25,
    "start_time": "2023-12-17T13:13:45.005Z"
   },
   {
    "duration": 4,
    "start_time": "2023-12-17T13:14:14.445Z"
   },
   {
    "duration": 7,
    "start_time": "2023-12-17T13:15:06.673Z"
   },
   {
    "duration": 3,
    "start_time": "2023-12-17T13:17:51.271Z"
   },
   {
    "duration": 6,
    "start_time": "2023-12-17T13:24:10.424Z"
   },
   {
    "duration": 3,
    "start_time": "2023-12-17T13:24:42.390Z"
   },
   {
    "duration": 3,
    "start_time": "2023-12-17T13:25:10.448Z"
   },
   {
    "duration": 3,
    "start_time": "2023-12-17T13:25:13.506Z"
   },
   {
    "duration": 5,
    "start_time": "2023-12-17T13:25:24.256Z"
   },
   {
    "duration": 5,
    "start_time": "2023-12-17T13:27:07.925Z"
   },
   {
    "duration": 10,
    "start_time": "2023-12-17T13:27:10.379Z"
   },
   {
    "duration": 8,
    "start_time": "2023-12-17T13:29:26.157Z"
   },
   {
    "duration": 3,
    "start_time": "2023-12-17T13:30:00.698Z"
   },
   {
    "duration": 48,
    "start_time": "2023-12-20T14:25:47.541Z"
   },
   {
    "duration": 6,
    "start_time": "2023-12-20T14:27:26.014Z"
   },
   {
    "duration": 6,
    "start_time": "2023-12-20T14:27:37.195Z"
   },
   {
    "duration": 6,
    "start_time": "2023-12-20T14:29:24.979Z"
   },
   {
    "duration": 411,
    "start_time": "2023-12-20T14:29:32.474Z"
   },
   {
    "duration": 9046,
    "start_time": "2023-12-20T14:29:32.887Z"
   },
   {
    "duration": 17,
    "start_time": "2023-12-20T14:29:41.935Z"
   },
   {
    "duration": 74,
    "start_time": "2023-12-20T14:29:41.953Z"
   },
   {
    "duration": 3,
    "start_time": "2023-12-20T14:29:42.029Z"
   },
   {
    "duration": 47,
    "start_time": "2023-12-20T14:29:42.034Z"
   },
   {
    "duration": 70,
    "start_time": "2023-12-20T14:29:42.083Z"
   },
   {
    "duration": 32,
    "start_time": "2023-12-20T14:29:42.154Z"
   },
   {
    "duration": 26,
    "start_time": "2023-12-20T14:29:42.187Z"
   },
   {
    "duration": 23,
    "start_time": "2023-12-20T14:29:42.214Z"
   },
   {
    "duration": 20,
    "start_time": "2023-12-20T14:29:42.238Z"
   },
   {
    "duration": 8,
    "start_time": "2023-12-20T14:30:35.130Z"
   },
   {
    "duration": 4,
    "start_time": "2023-12-20T14:31:40.852Z"
   },
   {
    "duration": 10,
    "start_time": "2023-12-20T14:33:34.663Z"
   },
   {
    "duration": 4,
    "start_time": "2023-12-20T14:35:11.181Z"
   },
   {
    "duration": 9,
    "start_time": "2023-12-20T14:35:16.232Z"
   },
   {
    "duration": 13,
    "start_time": "2023-12-20T14:36:03.446Z"
   },
   {
    "duration": 79,
    "start_time": "2023-12-20T14:51:20.646Z"
   },
   {
    "duration": 688,
    "start_time": "2023-12-20T14:51:33.180Z"
   },
   {
    "duration": 19,
    "start_time": "2023-12-20T14:51:36.713Z"
   },
   {
    "duration": 17,
    "start_time": "2023-12-20T14:53:07.144Z"
   },
   {
    "duration": 9,
    "start_time": "2023-12-20T14:55:16.511Z"
   },
   {
    "duration": 929,
    "start_time": "2023-12-20T14:55:21.848Z"
   },
   {
    "duration": 385,
    "start_time": "2023-12-20T14:55:25.462Z"
   },
   {
    "duration": 303,
    "start_time": "2023-12-20T14:55:47.314Z"
   },
   {
    "duration": 113,
    "start_time": "2023-12-20T14:56:20.395Z"
   },
   {
    "duration": 90,
    "start_time": "2023-12-20T14:56:34.210Z"
   },
   {
    "duration": 18,
    "start_time": "2023-12-20T15:24:08.183Z"
   },
   {
    "duration": 177,
    "start_time": "2023-12-20T15:25:04.697Z"
   },
   {
    "duration": 196,
    "start_time": "2023-12-20T15:25:13.365Z"
   },
   {
    "duration": 39,
    "start_time": "2023-12-20T15:27:43.449Z"
   },
   {
    "duration": 9,
    "start_time": "2023-12-20T15:28:55.584Z"
   },
   {
    "duration": 271,
    "start_time": "2023-12-20T15:31:41.298Z"
   },
   {
    "duration": 3,
    "start_time": "2023-12-20T15:32:36.585Z"
   },
   {
    "duration": 236,
    "start_time": "2023-12-20T15:32:43.201Z"
   },
   {
    "duration": 486,
    "start_time": "2023-12-20T15:37:12.153Z"
   },
   {
    "duration": 464,
    "start_time": "2023-12-20T15:37:38.635Z"
   },
   {
    "duration": 430,
    "start_time": "2023-12-20T15:37:48.102Z"
   },
   {
    "duration": 342,
    "start_time": "2023-12-20T15:38:07.636Z"
   },
   {
    "duration": 24,
    "start_time": "2023-12-20T15:39:08.870Z"
   },
   {
    "duration": 1307,
    "start_time": "2023-12-21T15:01:26.627Z"
   },
   {
    "duration": 9751,
    "start_time": "2023-12-21T15:01:30.387Z"
   },
   {
    "duration": 18,
    "start_time": "2023-12-21T15:01:43.385Z"
   },
   {
    "duration": 48,
    "start_time": "2023-12-21T15:01:52.484Z"
   },
   {
    "duration": 4,
    "start_time": "2023-12-21T15:02:10.568Z"
   },
   {
    "duration": 3,
    "start_time": "2023-12-21T15:02:26.970Z"
   },
   {
    "duration": 5,
    "start_time": "2023-12-21T15:02:28.518Z"
   },
   {
    "duration": 6,
    "start_time": "2023-12-21T15:02:29.703Z"
   },
   {
    "duration": 8,
    "start_time": "2023-12-21T15:02:36.003Z"
   },
   {
    "duration": 9,
    "start_time": "2023-12-21T15:02:38.304Z"
   },
   {
    "duration": 8,
    "start_time": "2023-12-21T15:02:46.168Z"
   },
   {
    "duration": 4,
    "start_time": "2023-12-21T15:02:49.335Z"
   },
   {
    "duration": 4,
    "start_time": "2023-12-21T15:02:51.744Z"
   },
   {
    "duration": 14,
    "start_time": "2023-12-21T15:02:54.720Z"
   },
   {
    "duration": 11,
    "start_time": "2023-12-21T15:03:02.952Z"
   },
   {
    "duration": 660,
    "start_time": "2023-12-21T15:03:05.202Z"
   },
   {
    "duration": 21,
    "start_time": "2023-12-21T15:03:06.352Z"
   },
   {
    "duration": 13,
    "start_time": "2023-12-21T15:04:40.755Z"
   },
   {
    "duration": 123,
    "start_time": "2023-12-21T15:06:30.604Z"
   },
   {
    "duration": 13,
    "start_time": "2023-12-21T15:09:12.771Z"
   },
   {
    "duration": 110,
    "start_time": "2023-12-21T15:11:09.204Z"
   },
   {
    "duration": 11,
    "start_time": "2023-12-21T15:11:17.804Z"
   },
   {
    "duration": 14,
    "start_time": "2023-12-21T15:13:13.654Z"
   },
   {
    "duration": 15,
    "start_time": "2023-12-21T15:13:29.303Z"
   },
   {
    "duration": 15,
    "start_time": "2023-12-21T15:13:39.823Z"
   },
   {
    "duration": 13,
    "start_time": "2023-12-21T15:13:52.243Z"
   },
   {
    "duration": 14,
    "start_time": "2023-12-21T15:14:01.420Z"
   },
   {
    "duration": 10,
    "start_time": "2023-12-21T15:14:14.197Z"
   },
   {
    "duration": 13,
    "start_time": "2023-12-21T15:14:23.638Z"
   },
   {
    "duration": 12,
    "start_time": "2023-12-21T15:15:29.687Z"
   },
   {
    "duration": 14,
    "start_time": "2023-12-21T15:15:41.787Z"
   },
   {
    "duration": 11,
    "start_time": "2023-12-21T15:15:52.852Z"
   },
   {
    "duration": 14,
    "start_time": "2023-12-21T15:16:07.339Z"
   },
   {
    "duration": 21,
    "start_time": "2023-12-21T15:17:53.257Z"
   },
   {
    "duration": 21,
    "start_time": "2023-12-21T15:18:14.023Z"
   },
   {
    "duration": 390,
    "start_time": "2023-12-21T15:21:01.773Z"
   },
   {
    "duration": 19,
    "start_time": "2023-12-21T15:21:49.081Z"
   },
   {
    "duration": 21,
    "start_time": "2023-12-21T15:21:57.623Z"
   },
   {
    "duration": 489,
    "start_time": "2023-12-21T15:23:29.843Z"
   },
   {
    "duration": 388,
    "start_time": "2023-12-21T15:23:44.824Z"
   },
   {
    "duration": 387,
    "start_time": "2023-12-21T15:24:11.253Z"
   },
   {
    "duration": 10,
    "start_time": "2023-12-21T15:24:38.673Z"
   },
   {
    "duration": 18,
    "start_time": "2023-12-21T15:25:18.733Z"
   },
   {
    "duration": 198,
    "start_time": "2023-12-21T15:25:25.440Z"
   },
   {
    "duration": 1086,
    "start_time": "2023-12-21T15:26:23.325Z"
   },
   {
    "duration": 28,
    "start_time": "2023-12-21T15:32:33.160Z"
   },
   {
    "duration": 22,
    "start_time": "2023-12-21T15:33:40.744Z"
   },
   {
    "duration": 28,
    "start_time": "2023-12-21T15:33:49.091Z"
   },
   {
    "duration": 28,
    "start_time": "2023-12-21T15:33:50.735Z"
   },
   {
    "duration": 29,
    "start_time": "2023-12-21T15:34:58.881Z"
   },
   {
    "duration": 3,
    "start_time": "2023-12-21T15:36:24.107Z"
   },
   {
    "duration": 15,
    "start_time": "2023-12-21T15:48:32.879Z"
   },
   {
    "duration": 15,
    "start_time": "2023-12-21T15:50:56.355Z"
   },
   {
    "duration": 7,
    "start_time": "2023-12-21T15:51:04.095Z"
   },
   {
    "duration": 10,
    "start_time": "2023-12-21T15:51:16.976Z"
   },
   {
    "duration": 10,
    "start_time": "2023-12-21T15:51:51.009Z"
   },
   {
    "duration": 5,
    "start_time": "2023-12-21T15:57:19.446Z"
   },
   {
    "duration": 84,
    "start_time": "2023-12-21T15:59:00.996Z"
   },
   {
    "duration": 10,
    "start_time": "2023-12-21T15:59:29.963Z"
   },
   {
    "duration": 17635,
    "start_time": "2023-12-21T16:08:04.583Z"
   },
   {
    "duration": 17711,
    "start_time": "2023-12-21T16:10:00.439Z"
   },
   {
    "duration": 17780,
    "start_time": "2023-12-21T16:10:24.754Z"
   },
   {
    "duration": 17640,
    "start_time": "2023-12-21T16:11:09.628Z"
   },
   {
    "duration": 1234,
    "start_time": "2023-12-21T16:19:19.971Z"
   },
   {
    "duration": 839,
    "start_time": "2023-12-21T16:22:08.136Z"
   },
   {
    "duration": 887,
    "start_time": "2023-12-21T16:23:44.367Z"
   },
   {
    "duration": 823,
    "start_time": "2023-12-21T16:24:13.023Z"
   },
   {
    "duration": 863,
    "start_time": "2023-12-21T16:24:26.399Z"
   },
   {
    "duration": 833,
    "start_time": "2023-12-21T16:24:58.147Z"
   },
   {
    "duration": 341,
    "start_time": "2023-12-21T16:35:33.271Z"
   },
   {
    "duration": 192,
    "start_time": "2023-12-21T16:36:01.981Z"
   },
   {
    "duration": 93,
    "start_time": "2023-12-21T16:37:09.817Z"
   },
   {
    "duration": 191,
    "start_time": "2023-12-21T16:37:44.833Z"
   },
   {
    "duration": 185,
    "start_time": "2023-12-21T16:38:33.517Z"
   },
   {
    "duration": 182,
    "start_time": "2023-12-21T16:38:39.348Z"
   },
   {
    "duration": 151,
    "start_time": "2023-12-21T16:38:53.598Z"
   },
   {
    "duration": 178,
    "start_time": "2023-12-21T16:39:38.516Z"
   },
   {
    "duration": 194,
    "start_time": "2023-12-21T16:39:46.514Z"
   },
   {
    "duration": 66,
    "start_time": "2023-12-21T16:42:52.333Z"
   },
   {
    "duration": 1443,
    "start_time": "2023-12-21T16:43:01.297Z"
   },
   {
    "duration": 1385,
    "start_time": "2023-12-21T16:44:07.584Z"
   },
   {
    "duration": 195,
    "start_time": "2023-12-21T16:44:28.701Z"
   },
   {
    "duration": 583,
    "start_time": "2023-12-21T16:49:04.934Z"
   },
   {
    "duration": 364,
    "start_time": "2023-12-21T16:50:38.417Z"
   },
   {
    "duration": 392,
    "start_time": "2023-12-21T16:50:48.433Z"
   },
   {
    "duration": 353,
    "start_time": "2023-12-21T16:51:10.935Z"
   },
   {
    "duration": 344,
    "start_time": "2023-12-21T16:51:25.386Z"
   },
   {
    "duration": 179,
    "start_time": "2023-12-21T16:52:10.201Z"
   },
   {
    "duration": 328,
    "start_time": "2023-12-21T16:52:23.168Z"
   },
   {
    "duration": 388,
    "start_time": "2023-12-21T16:52:40.183Z"
   },
   {
    "duration": 384,
    "start_time": "2023-12-21T16:53:01.351Z"
   },
   {
    "duration": 432,
    "start_time": "2023-12-21T16:53:49.168Z"
   },
   {
    "duration": 417,
    "start_time": "2023-12-21T17:02:25.453Z"
   },
   {
    "duration": 92,
    "start_time": "2023-12-21T17:04:12.374Z"
   },
   {
    "duration": 76,
    "start_time": "2023-12-21T17:04:50.873Z"
   },
   {
    "duration": 75,
    "start_time": "2023-12-21T17:05:08.869Z"
   },
   {
    "duration": 8,
    "start_time": "2023-12-21T17:07:03.169Z"
   },
   {
    "duration": 7,
    "start_time": "2023-12-21T17:08:17.319Z"
   },
   {
    "duration": 13,
    "start_time": "2023-12-21T17:09:56.554Z"
   },
   {
    "duration": 16,
    "start_time": "2023-12-21T17:10:30.970Z"
   },
   {
    "duration": 12,
    "start_time": "2023-12-21T17:10:47.003Z"
   },
   {
    "duration": 11,
    "start_time": "2023-12-21T17:11:49.137Z"
   },
   {
    "duration": 11,
    "start_time": "2023-12-21T17:12:00.018Z"
   },
   {
    "duration": 14,
    "start_time": "2023-12-21T17:20:28.600Z"
   },
   {
    "duration": 148,
    "start_time": "2023-12-21T17:20:47.105Z"
   },
   {
    "duration": 11,
    "start_time": "2023-12-21T17:20:53.784Z"
   },
   {
    "duration": 295,
    "start_time": "2023-12-21T17:24:27.522Z"
   },
   {
    "duration": 14,
    "start_time": "2023-12-21T17:26:33.423Z"
   },
   {
    "duration": 17,
    "start_time": "2023-12-21T17:26:55.316Z"
   },
   {
    "duration": 15,
    "start_time": "2023-12-21T17:30:44.965Z"
   },
   {
    "duration": 21,
    "start_time": "2023-12-21T17:30:57.272Z"
   },
   {
    "duration": 16,
    "start_time": "2023-12-21T17:32:00.640Z"
   },
   {
    "duration": 10,
    "start_time": "2023-12-21T17:32:34.456Z"
   },
   {
    "duration": 8,
    "start_time": "2023-12-21T17:34:00.122Z"
   },
   {
    "duration": 8,
    "start_time": "2023-12-21T17:34:43.910Z"
   },
   {
    "duration": 10,
    "start_time": "2023-12-21T17:37:40.807Z"
   },
   {
    "duration": 16,
    "start_time": "2023-12-21T17:41:15.808Z"
   },
   {
    "duration": 74,
    "start_time": "2023-12-21T17:41:54.116Z"
   },
   {
    "duration": 15,
    "start_time": "2023-12-21T17:42:18.361Z"
   },
   {
    "duration": 15,
    "start_time": "2023-12-21T17:43:02.908Z"
   },
   {
    "duration": 73,
    "start_time": "2023-12-21T17:45:52.656Z"
   },
   {
    "duration": 9,
    "start_time": "2023-12-21T17:46:13.259Z"
   },
   {
    "duration": 4,
    "start_time": "2023-12-21T17:47:46.904Z"
   },
   {
    "duration": 12,
    "start_time": "2023-12-21T17:49:30.725Z"
   },
   {
    "duration": 10,
    "start_time": "2023-12-21T17:57:46.512Z"
   },
   {
    "duration": 11,
    "start_time": "2023-12-21T17:58:08.330Z"
   },
   {
    "duration": 10,
    "start_time": "2023-12-21T17:58:18.400Z"
   },
   {
    "duration": 4,
    "start_time": "2023-12-21T17:58:24.661Z"
   },
   {
    "duration": 19,
    "start_time": "2023-12-21T18:53:36.501Z"
   },
   {
    "duration": 10,
    "start_time": "2023-12-21T19:04:11.463Z"
   },
   {
    "duration": 6,
    "start_time": "2023-12-21T19:04:37.219Z"
   },
   {
    "duration": 1234,
    "start_time": "2023-12-21T19:04:59.271Z"
   },
   {
    "duration": 10455,
    "start_time": "2023-12-21T19:05:02.139Z"
   },
   {
    "duration": 23,
    "start_time": "2023-12-21T19:05:12.597Z"
   },
   {
    "duration": 50,
    "start_time": "2023-12-21T19:05:18.487Z"
   },
   {
    "duration": 4,
    "start_time": "2023-12-21T19:05:22.279Z"
   },
   {
    "duration": 4,
    "start_time": "2023-12-21T19:05:24.069Z"
   },
   {
    "duration": 6,
    "start_time": "2023-12-21T19:05:25.036Z"
   },
   {
    "duration": 11,
    "start_time": "2023-12-21T19:05:27.458Z"
   },
   {
    "duration": 8,
    "start_time": "2023-12-21T19:05:28.204Z"
   },
   {
    "duration": 9,
    "start_time": "2023-12-21T19:05:31.036Z"
   },
   {
    "duration": 4,
    "start_time": "2023-12-21T19:05:33.121Z"
   },
   {
    "duration": 4,
    "start_time": "2023-12-21T19:05:35.318Z"
   },
   {
    "duration": 13,
    "start_time": "2023-12-21T19:05:38.220Z"
   },
   {
    "duration": 10,
    "start_time": "2023-12-21T19:05:42.288Z"
   },
   {
    "duration": 695,
    "start_time": "2023-12-21T19:05:43.953Z"
   },
   {
    "duration": 22,
    "start_time": "2023-12-21T19:05:47.721Z"
   },
   {
    "duration": 15,
    "start_time": "2023-12-21T19:05:55.803Z"
   },
   {
    "duration": 1054,
    "start_time": "2023-12-21T19:05:57.687Z"
   },
   {
    "duration": 423,
    "start_time": "2023-12-21T19:06:02.739Z"
   },
   {
    "duration": 208,
    "start_time": "2023-12-21T19:06:07.637Z"
   },
   {
    "duration": 185,
    "start_time": "2023-12-21T19:06:09.037Z"
   },
   {
    "duration": 29,
    "start_time": "2023-12-21T19:06:10.896Z"
   },
   {
    "duration": 410,
    "start_time": "2023-12-21T19:06:12.287Z"
   },
   {
    "duration": 11,
    "start_time": "2023-12-21T19:06:17.336Z"
   },
   {
    "duration": 12,
    "start_time": "2023-12-21T19:06:19.488Z"
   },
   {
    "duration": 6,
    "start_time": "2023-12-21T19:06:22.204Z"
   },
   {
    "duration": 10,
    "start_time": "2023-12-21T19:06:45.685Z"
   },
   {
    "duration": 14,
    "start_time": "2023-12-21T19:13:01.440Z"
   },
   {
    "duration": 8,
    "start_time": "2023-12-21T19:13:37.839Z"
   },
   {
    "duration": 10,
    "start_time": "2023-12-21T19:13:50.171Z"
   },
   {
    "duration": 6,
    "start_time": "2023-12-21T19:14:48.755Z"
   },
   {
    "duration": 4,
    "start_time": "2023-12-21T19:26:40.476Z"
   },
   {
    "duration": 4,
    "start_time": "2023-12-21T19:27:01.705Z"
   },
   {
    "duration": 73,
    "start_time": "2023-12-21T19:28:21.728Z"
   },
   {
    "duration": 75,
    "start_time": "2023-12-21T19:28:31.273Z"
   },
   {
    "duration": 12,
    "start_time": "2023-12-21T19:28:53.056Z"
   },
   {
    "duration": 12,
    "start_time": "2023-12-21T19:29:29.540Z"
   },
   {
    "duration": 4,
    "start_time": "2023-12-21T19:31:09.144Z"
   },
   {
    "duration": 3,
    "start_time": "2023-12-21T19:31:11.411Z"
   },
   {
    "duration": 14,
    "start_time": "2023-12-21T19:31:16.479Z"
   },
   {
    "duration": 1310,
    "start_time": "2023-12-21T19:52:46.559Z"
   },
   {
    "duration": 12,
    "start_time": "2023-12-21T19:56:45.206Z"
   },
   {
    "duration": 12,
    "start_time": "2023-12-21T19:59:20.005Z"
   },
   {
    "duration": 5,
    "start_time": "2023-12-21T21:21:06.269Z"
   },
   {
    "duration": 11,
    "start_time": "2023-12-21T21:21:36.519Z"
   },
   {
    "duration": 384,
    "start_time": "2023-12-21T21:22:22.380Z"
   },
   {
    "duration": 10,
    "start_time": "2023-12-21T21:32:24.518Z"
   },
   {
    "duration": 10,
    "start_time": "2023-12-21T21:32:50.974Z"
   },
   {
    "duration": 4,
    "start_time": "2023-12-21T21:33:47.523Z"
   },
   {
    "duration": 18,
    "start_time": "2023-12-21T21:33:49.108Z"
   },
   {
    "duration": 1147,
    "start_time": "2023-12-21T21:34:52.499Z"
   },
   {
    "duration": 9509,
    "start_time": "2023-12-21T21:34:55.930Z"
   },
   {
    "duration": 30,
    "start_time": "2023-12-21T21:35:12.791Z"
   },
   {
    "duration": 47,
    "start_time": "2023-12-21T21:35:14.193Z"
   },
   {
    "duration": 4,
    "start_time": "2023-12-21T21:35:18.435Z"
   },
   {
    "duration": 4,
    "start_time": "2023-12-21T21:35:19.574Z"
   },
   {
    "duration": 7,
    "start_time": "2023-12-21T21:35:21.016Z"
   },
   {
    "duration": 8,
    "start_time": "2023-12-21T21:35:24.248Z"
   },
   {
    "duration": 10,
    "start_time": "2023-12-21T21:35:27.375Z"
   },
   {
    "duration": 8,
    "start_time": "2023-12-21T21:35:29.912Z"
   },
   {
    "duration": 5,
    "start_time": "2023-12-21T21:35:31.991Z"
   },
   {
    "duration": 4,
    "start_time": "2023-12-21T21:35:33.823Z"
   },
   {
    "duration": 12,
    "start_time": "2023-12-21T21:35:35.992Z"
   },
   {
    "duration": 10,
    "start_time": "2023-12-21T21:35:40.125Z"
   },
   {
    "duration": 686,
    "start_time": "2023-12-21T21:35:41.711Z"
   },
   {
    "duration": 24,
    "start_time": "2023-12-21T21:35:46.091Z"
   },
   {
    "duration": 15,
    "start_time": "2023-12-21T21:35:48.473Z"
   },
   {
    "duration": 1095,
    "start_time": "2023-12-21T21:35:51.116Z"
   },
   {
    "duration": 407,
    "start_time": "2023-12-21T21:35:53.756Z"
   },
   {
    "duration": 197,
    "start_time": "2023-12-21T21:35:57.410Z"
   },
   {
    "duration": 193,
    "start_time": "2023-12-21T21:35:58.763Z"
   },
   {
    "duration": 29,
    "start_time": "2023-12-21T21:36:00.126Z"
   },
   {
    "duration": 412,
    "start_time": "2023-12-21T21:36:01.367Z"
   },
   {
    "duration": 11,
    "start_time": "2023-12-21T21:36:03.989Z"
   },
   {
    "duration": 11,
    "start_time": "2023-12-21T21:36:05.124Z"
   },
   {
    "duration": 11,
    "start_time": "2023-12-21T21:36:06.866Z"
   },
   {
    "duration": 5,
    "start_time": "2023-12-21T21:36:12.791Z"
   },
   {
    "duration": 6,
    "start_time": "2023-12-21T21:36:14.091Z"
   },
   {
    "duration": 17,
    "start_time": "2023-12-21T21:36:15.257Z"
   },
   {
    "duration": 5,
    "start_time": "2023-12-21T21:36:17.699Z"
   },
   {
    "duration": 10,
    "start_time": "2023-12-21T21:36:18.608Z"
   },
   {
    "duration": 353,
    "start_time": "2023-12-21T21:36:19.861Z"
   },
   {
    "duration": 10,
    "start_time": "2023-12-21T21:36:21.009Z"
   },
   {
    "duration": 11,
    "start_time": "2023-12-21T21:36:21.966Z"
   },
   {
    "duration": 29,
    "start_time": "2023-12-21T21:36:23.717Z"
   },
   {
    "duration": 870,
    "start_time": "2023-12-21T21:36:26.411Z"
   },
   {
    "duration": 11,
    "start_time": "2023-12-21T21:36:31.077Z"
   },
   {
    "duration": 10,
    "start_time": "2023-12-21T21:36:32.156Z"
   },
   {
    "duration": 4,
    "start_time": "2023-12-21T21:36:34.825Z"
   },
   {
    "duration": 17,
    "start_time": "2023-12-21T21:36:36.245Z"
   },
   {
    "duration": 19,
    "start_time": "2023-12-21T21:38:14.129Z"
   },
   {
    "duration": 123,
    "start_time": "2023-12-21T21:38:53.674Z"
   },
   {
    "duration": 41,
    "start_time": "2023-12-21T21:40:28.402Z"
   },
   {
    "duration": 30,
    "start_time": "2023-12-21T21:40:42.320Z"
   },
   {
    "duration": 7,
    "start_time": "2023-12-21T21:41:19.223Z"
   },
   {
    "duration": 33,
    "start_time": "2023-12-21T21:43:19.096Z"
   },
   {
    "duration": 16,
    "start_time": "2023-12-22T10:32:53.209Z"
   },
   {
    "duration": 22,
    "start_time": "2023-12-22T10:33:11.171Z"
   },
   {
    "duration": 3,
    "start_time": "2023-12-22T10:36:12.158Z"
   },
   {
    "duration": 3,
    "start_time": "2023-12-22T10:36:16.690Z"
   },
   {
    "duration": 1272,
    "start_time": "2023-12-23T07:29:41.866Z"
   },
   {
    "duration": 8716,
    "start_time": "2023-12-23T07:29:43.140Z"
   },
   {
    "duration": 19,
    "start_time": "2023-12-23T07:29:51.858Z"
   },
   {
    "duration": 42,
    "start_time": "2023-12-23T07:29:51.879Z"
   },
   {
    "duration": 4,
    "start_time": "2023-12-23T07:29:56.028Z"
   },
   {
    "duration": 4,
    "start_time": "2023-12-23T07:29:57.810Z"
   },
   {
    "duration": 6,
    "start_time": "2023-12-23T07:29:59.129Z"
   },
   {
    "duration": 11,
    "start_time": "2023-12-23T07:30:01.226Z"
   },
   {
    "duration": 9,
    "start_time": "2023-12-23T07:30:01.812Z"
   },
   {
    "duration": 7,
    "start_time": "2023-12-23T07:30:03.460Z"
   },
   {
    "duration": 3,
    "start_time": "2023-12-23T07:30:06.195Z"
   },
   {
    "duration": 4,
    "start_time": "2023-12-23T07:30:07.995Z"
   },
   {
    "duration": 13,
    "start_time": "2023-12-23T07:30:09.661Z"
   },
   {
    "duration": 10,
    "start_time": "2023-12-23T07:30:15.061Z"
   },
   {
    "duration": 639,
    "start_time": "2023-12-23T07:30:18.054Z"
   },
   {
    "duration": 20,
    "start_time": "2023-12-23T07:30:22.231Z"
   },
   {
    "duration": 15,
    "start_time": "2023-12-23T07:30:26.435Z"
   },
   {
    "duration": 981,
    "start_time": "2023-12-23T07:30:29.785Z"
   },
   {
    "duration": 366,
    "start_time": "2023-12-23T07:30:34.928Z"
   },
   {
    "duration": 168,
    "start_time": "2023-12-23T07:30:37.978Z"
   },
   {
    "duration": 176,
    "start_time": "2023-12-23T07:30:38.510Z"
   },
   {
    "duration": 27,
    "start_time": "2023-12-23T07:30:40.326Z"
   },
   {
    "duration": 387,
    "start_time": "2023-12-23T07:30:42.095Z"
   },
   {
    "duration": 11,
    "start_time": "2023-12-23T07:30:45.976Z"
   },
   {
    "duration": 11,
    "start_time": "2023-12-23T07:30:47.094Z"
   },
   {
    "duration": 10,
    "start_time": "2023-12-23T07:30:51.543Z"
   },
   {
    "duration": 8,
    "start_time": "2023-12-23T07:30:53.744Z"
   },
   {
    "duration": 3,
    "start_time": "2023-12-23T07:32:11.441Z"
   },
   {
    "duration": 14,
    "start_time": "2023-12-23T07:32:19.693Z"
   },
   {
    "duration": 5,
    "start_time": "2023-12-23T07:32:24.160Z"
   },
   {
    "duration": 10,
    "start_time": "2023-12-23T07:32:28.443Z"
   },
   {
    "duration": 340,
    "start_time": "2023-12-23T07:32:29.578Z"
   },
   {
    "duration": 9,
    "start_time": "2023-12-23T07:32:34.561Z"
   },
   {
    "duration": 10,
    "start_time": "2023-12-23T07:32:36.528Z"
   },
   {
    "duration": 29,
    "start_time": "2023-12-23T07:32:59.961Z"
   },
   {
    "duration": 837,
    "start_time": "2023-12-23T07:33:19.382Z"
   },
   {
    "duration": 14,
    "start_time": "2023-12-23T07:33:21.560Z"
   },
   {
    "duration": 10,
    "start_time": "2023-12-23T07:33:26.127Z"
   },
   {
    "duration": 9,
    "start_time": "2023-12-23T07:34:13.540Z"
   },
   {
    "duration": 9,
    "start_time": "2023-12-23T07:52:16.592Z"
   },
   {
    "duration": 9,
    "start_time": "2023-12-23T07:52:40.662Z"
   },
   {
    "duration": 108,
    "start_time": "2023-12-23T07:53:09.336Z"
   },
   {
    "duration": 3,
    "start_time": "2023-12-23T07:53:19.629Z"
   },
   {
    "duration": 9,
    "start_time": "2023-12-23T07:57:11.894Z"
   },
   {
    "duration": 9,
    "start_time": "2023-12-23T07:57:34.644Z"
   },
   {
    "duration": 8,
    "start_time": "2023-12-23T07:57:53.699Z"
   },
   {
    "duration": 10,
    "start_time": "2023-12-23T07:58:31.829Z"
   },
   {
    "duration": 8,
    "start_time": "2023-12-23T08:00:02.338Z"
   },
   {
    "duration": 9,
    "start_time": "2023-12-23T08:00:09.496Z"
   },
   {
    "duration": 10,
    "start_time": "2023-12-23T08:00:18.465Z"
   },
   {
    "duration": 9,
    "start_time": "2023-12-23T09:00:50.020Z"
   },
   {
    "duration": 4,
    "start_time": "2023-12-23T09:02:43.111Z"
   },
   {
    "duration": 5,
    "start_time": "2023-12-23T09:03:29.180Z"
   },
   {
    "duration": 5,
    "start_time": "2023-12-23T09:04:02.501Z"
   },
   {
    "duration": 76,
    "start_time": "2023-12-23T09:09:02.103Z"
   },
   {
    "duration": 5,
    "start_time": "2023-12-23T09:09:12.554Z"
   },
   {
    "duration": 29,
    "start_time": "2023-12-23T09:09:20.182Z"
   },
   {
    "duration": 24,
    "start_time": "2023-12-23T09:09:43.569Z"
   },
   {
    "duration": 16,
    "start_time": "2023-12-23T09:09:54.085Z"
   },
   {
    "duration": 19,
    "start_time": "2023-12-23T09:10:20.132Z"
   },
   {
    "duration": 13,
    "start_time": "2023-12-23T09:59:26.798Z"
   },
   {
    "duration": 9,
    "start_time": "2023-12-23T09:59:31.918Z"
   },
   {
    "duration": 11,
    "start_time": "2023-12-23T10:00:00.480Z"
   },
   {
    "duration": 195,
    "start_time": "2023-12-23T10:21:44.550Z"
   },
   {
    "duration": 424,
    "start_time": "2023-12-23T10:24:00.704Z"
   },
   {
    "duration": 211,
    "start_time": "2023-12-23T10:25:53.455Z"
   },
   {
    "duration": 478,
    "start_time": "2023-12-23T10:26:24.105Z"
   },
   {
    "duration": 37,
    "start_time": "2023-12-23T10:37:17.266Z"
   },
   {
    "duration": 17,
    "start_time": "2023-12-23T10:39:07.540Z"
   },
   {
    "duration": 3,
    "start_time": "2023-12-23T10:40:00.289Z"
   },
   {
    "duration": 36,
    "start_time": "2023-12-23T10:40:51.760Z"
   },
   {
    "duration": 800,
    "start_time": "2023-12-23T10:42:55.794Z"
   },
   {
    "duration": 875,
    "start_time": "2023-12-23T10:43:17.358Z"
   },
   {
    "duration": 12,
    "start_time": "2023-12-23T10:43:28.590Z"
   },
   {
    "duration": 13,
    "start_time": "2023-12-23T10:44:27.440Z"
   },
   {
    "duration": 73,
    "start_time": "2023-12-23T10:44:45.190Z"
   },
   {
    "duration": 10,
    "start_time": "2023-12-23T10:44:51.673Z"
   },
   {
    "duration": 78,
    "start_time": "2023-12-23T10:49:18.548Z"
   },
   {
    "duration": 19,
    "start_time": "2023-12-23T10:49:27.079Z"
   },
   {
    "duration": 12,
    "start_time": "2023-12-23T10:49:48.527Z"
   },
   {
    "duration": 18,
    "start_time": "2023-12-23T10:54:02.628Z"
   },
   {
    "duration": 11,
    "start_time": "2023-12-23T10:55:52.926Z"
   },
   {
    "duration": 70,
    "start_time": "2023-12-23T10:58:09.732Z"
   },
   {
    "duration": 17,
    "start_time": "2023-12-23T10:58:20.203Z"
   },
   {
    "duration": 22,
    "start_time": "2023-12-23T10:58:46.763Z"
   },
   {
    "duration": 14,
    "start_time": "2023-12-23T10:58:58.597Z"
   },
   {
    "duration": 20,
    "start_time": "2023-12-23T10:59:52.230Z"
   },
   {
    "duration": 14,
    "start_time": "2023-12-23T11:01:39.429Z"
   },
   {
    "duration": 81,
    "start_time": "2023-12-23T11:02:52.608Z"
   },
   {
    "duration": 20,
    "start_time": "2023-12-23T11:03:00.198Z"
   },
   {
    "duration": 75,
    "start_time": "2023-12-23T11:03:39.061Z"
   },
   {
    "duration": 90,
    "start_time": "2023-12-23T11:03:45.113Z"
   },
   {
    "duration": 79,
    "start_time": "2023-12-23T11:04:21.773Z"
   },
   {
    "duration": 16,
    "start_time": "2023-12-23T11:04:29.906Z"
   },
   {
    "duration": 15,
    "start_time": "2023-12-23T11:04:54.297Z"
   },
   {
    "duration": 12,
    "start_time": "2023-12-23T11:05:15.493Z"
   },
   {
    "duration": 8,
    "start_time": "2023-12-23T11:08:44.614Z"
   },
   {
    "duration": 8,
    "start_time": "2023-12-23T11:08:56.163Z"
   },
   {
    "duration": 27,
    "start_time": "2023-12-23T11:09:16.314Z"
   },
   {
    "duration": 28,
    "start_time": "2023-12-23T11:09:24.040Z"
   },
   {
    "duration": 10,
    "start_time": "2023-12-23T11:34:07.869Z"
   },
   {
    "duration": 14,
    "start_time": "2023-12-23T11:38:01.597Z"
   },
   {
    "duration": 23,
    "start_time": "2023-12-23T11:38:23.336Z"
   },
   {
    "duration": 71,
    "start_time": "2023-12-23T11:39:13.570Z"
   },
   {
    "duration": 21,
    "start_time": "2023-12-23T11:39:29.469Z"
   },
   {
    "duration": 12,
    "start_time": "2023-12-23T11:40:54.099Z"
   },
   {
    "duration": 19,
    "start_time": "2023-12-23T11:41:16.418Z"
   },
   {
    "duration": 129,
    "start_time": "2023-12-23T11:41:40.944Z"
   },
   {
    "duration": 10,
    "start_time": "2023-12-23T11:41:52.803Z"
   },
   {
    "duration": 3,
    "start_time": "2023-12-23T11:41:59.086Z"
   },
   {
    "duration": 17,
    "start_time": "2023-12-23T11:42:00.869Z"
   },
   {
    "duration": 8,
    "start_time": "2023-12-23T11:47:21.021Z"
   },
   {
    "duration": 10,
    "start_time": "2023-12-23T11:54:12.405Z"
   },
   {
    "duration": 11,
    "start_time": "2023-12-23T11:54:24.613Z"
   },
   {
    "duration": 17,
    "start_time": "2023-12-23T11:55:08.638Z"
   },
   {
    "duration": 6,
    "start_time": "2023-12-23T11:55:35.464Z"
   },
   {
    "duration": 14,
    "start_time": "2023-12-23T12:10:54.839Z"
   },
   {
    "duration": 10,
    "start_time": "2023-12-23T12:11:24.256Z"
   },
   {
    "duration": 12,
    "start_time": "2023-12-23T12:12:02.108Z"
   },
   {
    "duration": 13,
    "start_time": "2023-12-23T12:12:23.253Z"
   },
   {
    "duration": 13,
    "start_time": "2023-12-23T12:14:26.670Z"
   },
   {
    "duration": 282,
    "start_time": "2023-12-23T12:17:30.506Z"
   },
   {
    "duration": 122,
    "start_time": "2023-12-23T12:17:56.641Z"
   },
   {
    "duration": 19,
    "start_time": "2023-12-23T12:20:45.660Z"
   },
   {
    "duration": 4934,
    "start_time": "2023-12-23T12:21:01.190Z"
   },
   {
    "duration": 148,
    "start_time": "2023-12-23T12:23:52.624Z"
   },
   {
    "duration": 16,
    "start_time": "2023-12-23T12:24:26.758Z"
   },
   {
    "duration": 142,
    "start_time": "2023-12-23T12:25:03.092Z"
   },
   {
    "duration": 16,
    "start_time": "2023-12-23T12:25:08.308Z"
   },
   {
    "duration": 719,
    "start_time": "2023-12-23T12:25:22.344Z"
   },
   {
    "duration": 121,
    "start_time": "2023-12-23T12:25:41.008Z"
   },
   {
    "duration": 10456,
    "start_time": "2023-12-23T12:25:55.476Z"
   },
   {
    "duration": 17,
    "start_time": "2023-12-23T12:27:02.729Z"
   },
   {
    "duration": 587,
    "start_time": "2023-12-23T12:27:19.310Z"
   },
   {
    "duration": 19,
    "start_time": "2023-12-23T12:28:06.726Z"
   },
   {
    "duration": 70,
    "start_time": "2023-12-23T12:31:13.067Z"
   },
   {
    "duration": 11,
    "start_time": "2023-12-23T12:31:20.291Z"
   },
   {
    "duration": 11,
    "start_time": "2023-12-23T12:32:17.593Z"
   },
   {
    "duration": 89,
    "start_time": "2023-12-23T12:37:25.824Z"
   },
   {
    "duration": 100,
    "start_time": "2023-12-23T12:37:42.527Z"
   },
   {
    "duration": 18,
    "start_time": "2023-12-23T12:37:49.593Z"
   },
   {
    "duration": 6819,
    "start_time": "2023-12-23T12:38:23.952Z"
   },
   {
    "duration": 6379,
    "start_time": "2023-12-23T12:39:00.627Z"
   },
   {
    "duration": 21,
    "start_time": "2023-12-23T12:39:32.092Z"
   },
   {
    "duration": 92,
    "start_time": "2023-12-23T12:39:56.026Z"
   },
   {
    "duration": 297,
    "start_time": "2023-12-23T12:42:09.327Z"
   },
   {
    "duration": 15,
    "start_time": "2023-12-23T12:42:34.993Z"
   },
   {
    "duration": 12,
    "start_time": "2023-12-23T12:44:06.328Z"
   },
   {
    "duration": 96,
    "start_time": "2023-12-23T12:44:40.078Z"
   },
   {
    "duration": 98,
    "start_time": "2023-12-23T12:44:53.177Z"
   },
   {
    "duration": 110,
    "start_time": "2023-12-23T12:45:08.910Z"
   },
   {
    "duration": 98,
    "start_time": "2023-12-23T12:46:22.528Z"
   },
   {
    "duration": 10,
    "start_time": "2023-12-23T12:53:50.429Z"
   },
   {
    "duration": 27,
    "start_time": "2023-12-23T12:59:09.630Z"
   },
   {
    "duration": 6,
    "start_time": "2023-12-23T13:13:28.287Z"
   },
   {
    "duration": 7,
    "start_time": "2023-12-23T13:14:34.671Z"
   },
   {
    "duration": 6,
    "start_time": "2023-12-23T13:15:08.269Z"
   },
   {
    "duration": 10,
    "start_time": "2023-12-23T13:16:03.320Z"
   },
   {
    "duration": 9,
    "start_time": "2023-12-23T13:16:07.971Z"
   },
   {
    "duration": 875,
    "start_time": "2023-12-23T13:16:15.553Z"
   },
   {
    "duration": 13,
    "start_time": "2023-12-23T13:16:26.420Z"
   },
   {
    "duration": 14,
    "start_time": "2023-12-23T13:16:45.280Z"
   },
   {
    "duration": 13,
    "start_time": "2023-12-23T13:22:44.024Z"
   },
   {
    "duration": 10,
    "start_time": "2023-12-23T13:22:57.875Z"
   },
   {
    "duration": 11,
    "start_time": "2023-12-23T13:23:15.675Z"
   },
   {
    "duration": 10,
    "start_time": "2023-12-23T13:23:58.644Z"
   },
   {
    "duration": 7,
    "start_time": "2023-12-23T13:24:12.816Z"
   },
   {
    "duration": 10,
    "start_time": "2023-12-23T13:24:39.306Z"
   },
   {
    "duration": 105,
    "start_time": "2023-12-23T13:25:02.824Z"
   },
   {
    "duration": 103,
    "start_time": "2023-12-23T13:25:14.192Z"
   },
   {
    "duration": 94,
    "start_time": "2023-12-23T13:25:23.941Z"
   },
   {
    "duration": 813,
    "start_time": "2023-12-23T13:27:33.257Z"
   },
   {
    "duration": 4,
    "start_time": "2023-12-23T13:30:22.458Z"
   },
   {
    "duration": 5,
    "start_time": "2023-12-23T13:31:17.575Z"
   },
   {
    "duration": 4,
    "start_time": "2023-12-23T13:36:03.259Z"
   },
   {
    "duration": 9,
    "start_time": "2023-12-23T13:36:07.859Z"
   },
   {
    "duration": 9,
    "start_time": "2023-12-23T13:36:14.309Z"
   },
   {
    "duration": 11,
    "start_time": "2023-12-23T13:40:25.749Z"
   },
   {
    "duration": 4,
    "start_time": "2023-12-23T13:42:36.176Z"
   },
   {
    "duration": 4,
    "start_time": "2023-12-23T13:43:14.007Z"
   },
   {
    "duration": 3,
    "start_time": "2023-12-23T13:43:26.369Z"
   },
   {
    "duration": 15,
    "start_time": "2023-12-23T13:43:28.314Z"
   },
   {
    "duration": 123,
    "start_time": "2023-12-23T13:57:39.056Z"
   },
   {
    "duration": 17,
    "start_time": "2023-12-23T14:01:30.740Z"
   },
   {
    "duration": 15,
    "start_time": "2023-12-23T14:01:38.087Z"
   },
   {
    "duration": 1036,
    "start_time": "2023-12-23T14:01:52.000Z"
   },
   {
    "duration": 364,
    "start_time": "2023-12-23T14:26:15.811Z"
   },
   {
    "duration": 349,
    "start_time": "2023-12-23T14:26:51.783Z"
   },
   {
    "duration": 181,
    "start_time": "2023-12-23T14:35:02.550Z"
   },
   {
    "duration": 29,
    "start_time": "2023-12-23T14:35:52.916Z"
   },
   {
    "duration": 27,
    "start_time": "2023-12-23T14:37:23.035Z"
   },
   {
    "duration": 27,
    "start_time": "2023-12-23T14:37:36.650Z"
   },
   {
    "duration": 19,
    "start_time": "2023-12-23T14:37:41.100Z"
   },
   {
    "duration": 8,
    "start_time": "2023-12-23T14:45:38.497Z"
   },
   {
    "duration": 266,
    "start_time": "2023-12-23T14:54:49.730Z"
   },
   {
    "duration": 358,
    "start_time": "2023-12-23T14:55:16.571Z"
   },
   {
    "duration": 26,
    "start_time": "2023-12-23T14:58:11.572Z"
   },
   {
    "duration": 8,
    "start_time": "2023-12-23T14:58:57.867Z"
   },
   {
    "duration": 8,
    "start_time": "2023-12-23T14:59:06.555Z"
   },
   {
    "duration": 395,
    "start_time": "2023-12-23T15:07:23.524Z"
   },
   {
    "duration": 370,
    "start_time": "2023-12-23T15:08:11.345Z"
   },
   {
    "duration": 393,
    "start_time": "2023-12-23T15:08:21.176Z"
   },
   {
    "duration": 11,
    "start_time": "2023-12-23T15:35:08.396Z"
   },
   {
    "duration": 14,
    "start_time": "2023-12-23T17:36:44.909Z"
   },
   {
    "duration": 425,
    "start_time": "2023-12-23T17:39:18.660Z"
   },
   {
    "duration": 10,
    "start_time": "2023-12-23T17:41:16.109Z"
   },
   {
    "duration": 11,
    "start_time": "2023-12-23T18:00:20.569Z"
   },
   {
    "duration": 9,
    "start_time": "2023-12-23T18:04:05.210Z"
   },
   {
    "duration": 9,
    "start_time": "2023-12-23T18:07:24.463Z"
   },
   {
    "duration": 14,
    "start_time": "2023-12-23T18:07:54.662Z"
   },
   {
    "duration": 71,
    "start_time": "2023-12-23T18:11:17.536Z"
   },
   {
    "duration": 5,
    "start_time": "2023-12-23T18:20:12.731Z"
   },
   {
    "duration": 5,
    "start_time": "2023-12-23T18:20:17.830Z"
   },
   {
    "duration": 5,
    "start_time": "2023-12-23T18:23:10.064Z"
   },
   {
    "duration": 77,
    "start_time": "2023-12-23T18:23:11.779Z"
   },
   {
    "duration": 4,
    "start_time": "2023-12-23T18:23:24.350Z"
   },
   {
    "duration": 75,
    "start_time": "2023-12-23T18:23:46.364Z"
   },
   {
    "duration": 11,
    "start_time": "2023-12-23T18:24:48.462Z"
   }
  ],
  "kernelspec": {
   "display_name": "Python 3 (ipykernel)",
   "language": "python",
   "name": "python3"
  },
  "language_info": {
   "codemirror_mode": {
    "name": "ipython",
    "version": 3
   },
   "file_extension": ".py",
   "mimetype": "text/x-python",
   "name": "python",
   "nbconvert_exporter": "python",
   "pygments_lexer": "ipython3",
   "version": "3.9.5"
  },
  "toc": {
   "base_numbering": 1,
   "nav_menu": {},
   "number_sections": true,
   "sideBar": true,
   "skip_h1_title": true,
   "title_cell": "Table of Contents",
   "title_sidebar": "Contents",
   "toc_cell": false,
   "toc_position": {},
   "toc_section_display": true,
   "toc_window_display": true
  }
 },
 "nbformat": 4,
 "nbformat_minor": 5
}
